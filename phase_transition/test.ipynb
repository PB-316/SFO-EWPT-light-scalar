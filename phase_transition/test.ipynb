{
 "cells": [
  {
   "cell_type": "markdown",
   "metadata": {},
   "source": [
    "# Phase Transitions"
   ]
  },
  {
   "cell_type": "markdown",
   "metadata": {},
   "source": [
    "This notebook implement the effective potential with manually made functions to solve for the nucleation temperature and other parameters."
   ]
  },
  {
   "cell_type": "code",
   "execution_count": 2,
   "metadata": {},
   "outputs": [],
   "source": [
    "import numpy as np\n",
    "from scipy import optimize\n",
    "from cosmoTransitions import generic_potential as gp\n",
    "from cosmoTransitions import pathDeformation as pd\n",
    "from scipy import interpolate\n",
    "from cosmoTransitions import helper_functions"
   ]
  },
  {
   "cell_type": "markdown",
   "metadata": {},
   "source": [
    "## Pre-definitions"
   ]
  },
  {
   "cell_type": "code",
   "execution_count": 3,
   "metadata": {},
   "outputs": [],
   "source": [
    "GF = 1.16637e-05\n",
    "v = 1/(np.sqrt(2*np.sqrt(2)*GF))\n",
    "mHSM = 125.13"
   ]
  },
  {
   "cell_type": "code",
   "execution_count": 4,
   "metadata": {},
   "outputs": [],
   "source": [
    "def muH2(mS, sintheta):\n",
    "    \"\"\"\\mu_H square\"\"\"\n",
    "    return 0.5*(mHSM**2 * (1-sintheta**2) + mS**2 * sintheta**2)\n",
    "\n",
    "def muS2(mS, sintheta):\n",
    "    \"\"\"\\mu_S square\"\"\"\n",
    "    return sintheta**2 * mHSM**2 + (1 - sintheta**2) * mS**2\n",
    "\n",
    "def A(mS, sintheta):\n",
    "    \"\"\"A parameter\"\"\"\n",
    "    nominator = (mHSM**2 - mS**2) * sintheta * np.sqrt(1-sintheta**2)\n",
    "    denominator = np.sqrt(2) * v\n",
    "    return nominator/denominator\n",
    "\n",
    "def lm(mS, sintheta):\n",
    "    \"\"\"\\lambda parameter\"\"\"\n",
    "    nominator = (1 - sintheta**2)*mHSM**2 + sintheta**2 * mS**2\n",
    "    return nominator/(4*v**2)\n",
    "\n",
    "def sintheta(mS, ft):\n",
    "    \"\"\"Solve the mixing angle according to find-tuning\"\"\"\n",
    "    return (mS**2*(1/ft-1)/(mHSM**2-mS**2))**0.5"
   ]
  },
  {
   "cell_type": "markdown",
   "metadata": {},
   "source": [
    "## The effective potential"
   ]
  },
  {
   "cell_type": "code",
   "execution_count": 5,
   "metadata": {},
   "outputs": [],
   "source": [
    "class model(gp.generic_potential):\n",
    "    def init(self, mS, sintheta):\n",
    "        self.Ndim = 2\n",
    "        self.Tmax = 100\n",
    "        self.mS = mS\n",
    "        self.sintheta = sintheta\n",
    "        self.lm = lm(self.mS, self.sintheta)\n",
    "        self.A = A(self.mS,self.sintheta)\n",
    "        self.muH2 = muH2(self.mS,self.sintheta)\n",
    "        self.muS2 = muS2(self.mS,self.sintheta)\n",
    "        self.g = 0.65\n",
    "        self.gY = 0.36\n",
    "        self.yt = 0.9945\n",
    "        self.D = (3*self.g**2 + self.gY**2 + 4*self.yt**2)/16.\n",
    "        self.E = (2*self.g**3+(self.g**2 + self.gY**2)**(3/2))/(48*np.pi)\n",
    "        self.cs = 1./3\n",
    "        self.Deff = self.D - self.cs * self.A**2/(4.*self.muS2)\n",
    "        self.lmeff = self.lm - self.A**2/(2*self.muS2)\n",
    "        self.T0 = np.sqrt(0.5*self.muH2 - v**2 * self.A**2 /(2*self.muS2))/np.sqrt(self.D - self.cs*self.A**2/(4*self.muS2))\n",
    "        self.Tc = self.T0*np.sqrt((self.Deff * self.lmeff)/(-self.E**2 + self.Deff*self.lmeff))\n",
    "        self.strength = 2*self.E/self.lmeff\n",
    "        self.Tn = False\n",
    "        self.Tn1d=False\n",
    "        self.action_trace_data=[]\n",
    "        self.T_eps=5e-4\n",
    "\n",
    "\n",
    "    def Vtot(self, X, T, include_radiation=True):\n",
    "        \"\"\"The total effective potential in the high-T expansion.\"\"\"\n",
    "        T = np.asanyarray(T, dtype=float)\n",
    "        X = np.asanyarray(X, dtype=float)\n",
    "        T2 = (T*T)+1e-100\n",
    "        phi1 = X[...,0]\n",
    "        phi2 = X[...,1]\n",
    "        y = self.D * T2 * phi1**2 - 0.5 * self.muH2 * phi1**2\n",
    "        y += - self.E * T * phi1**3\n",
    "        y += 0.25 * self.lm * phi1**4\n",
    "        y += 0.5*self.muS2*phi2**2 - 0.5 * self.A * (phi1**2 + self.cs * T2 - 2 * v**2)*phi2\n",
    "\n",
    "        return y\n",
    "\n",
    "    def Vtot1d(self, X, T, include_radiation=True):\n",
    "        T = np.asanyarray(T, dtype=float)\n",
    "        X = np.asanyarray(X, dtype=float)\n",
    "        T2 = (T*T) + 1e-100\n",
    "        phi1 = X[...,0]\n",
    "        y = self.Deff * T2 * phi1**2 - (0.5*self.muH2 - 0.5 * v**2 * self.A**2 / (self.muS2))*phi1**2\n",
    "        y += - self.E * T * phi1 **3\n",
    "        y += 0.25 * self.lmeff * phi1**4\n",
    "        return y\n",
    "\n",
    "    def truevev(self,T):\n",
    "        assert T < self.Tc\n",
    "        nominator = 3.* T * self.E + np.sqrt(9.*self.E**2 * T**2 + 8.*self.Deff * (self.T0**2 - T**2)*self.lmeff)\n",
    "        denominator = 2.*self.lmeff\n",
    "        return nominator/denominator\n",
    "\n",
    "    def Spath(self, X, T):\n",
    "        X = np.asanyarray(X)\n",
    "        T = np.asanyarray(T)\n",
    "        phi1 = X[...,0]\n",
    "        T2 = (T*T) + 1e-100\n",
    "        return 0.5*self.A*(phi1**2 + self.cs * T2 - 2 * v**2)/self.muS2\n",
    "\n",
    "    def gradV1d(self,X,T):\n",
    "        f=helper_functions.gradientFunction(self.Vtot1d, self.x_eps,1,self.deriv_order)\n",
    "        T = np.asanyarray(T)[...,np.newaxis, np.newaxis]\n",
    "        return f(X,T,False)\n",
    "\n",
    "    def tunneling_at_T_1d(self, T):\n",
    "        assert T < self.Tc\n",
    "        def V_(x, T=T, V=self.Vtot1d):\n",
    "            return V(x,T)\n",
    "        def dV_(x, T=T, dV=self.gradV1d):\n",
    "            return dV(x,T)\n",
    "        tobj = pd.fullTunneling([[self.truevev(T)],[0.]],V_,dV_)\n",
    "        return tobj\n",
    "\n",
    "    def tunneling_at_T(self,T):\n",
    "        assert T < self.Tc\n",
    "        def V_(x, T=T, V=self.Vtot):\n",
    "            return V(x,T)\n",
    "        def dV_(x, T=T, dV=self.gradV):\n",
    "            return dV(x,T)\n",
    "        tobj = pd.fullTunneling([[self.truevev(T),self.Spath([self.truevev(T)],T)],[0.,self.Spath([0.],T)]],V_,dV_)\n",
    "        return tobj \n",
    "\n",
    "    def S_over_T(self,T):\n",
    "        Tv=T\n",
    "        ST=self.tunneling_at_T(T=Tv).action/Tv\n",
    "        return ST\n",
    "\n",
    "    def findTn_1d(self):\n",
    "        print(\"Finding nucleation temperature for 1d case...\")\n",
    "        if self.mS<=0.1:\n",
    "            eps = 0.03\n",
    "        elif self.mS<=1:\n",
    "            eps=0.02\n",
    "        else: eps=0.01\n",
    "        def nuclea_trigger(Tv):\n",
    "            ST = self.tunneling_at_T_1d(T=Tv).action/Tv\n",
    "            return ST - 140.\n",
    "        for i in range(1,1000):\n",
    "            if nuclea_trigger(self.Tc - i*eps) <= 0.:\n",
    "                break\n",
    "        Tn1 = self.Tc - (i-1)*eps\n",
    "        self.Tn1d = optimize.brentq(nuclea_trigger,Tn1-1e-10, Tn1-eps,disp=False)\n",
    "\n",
    "    def trace_action(self):\n",
    "        if self.mS <= 0.01:\n",
    "            if self.Tn1d == False:\n",
    "                self.findTn_1d()\n",
    "            Tmax = 0.9985*self.Tn1d\n",
    "        elif self.mS <= 0.05:\n",
    "            if self.Tn1d == False:\n",
    "                self.findTn_1d()\n",
    "            Tmax = self.Tn1d-0.05\n",
    "        elif self.mS <= 1:\n",
    "            if self.Tn1d == False:\n",
    "                self.findTn_1d()\n",
    "            Tmax = self.Tn1d-0.01\n",
    "        else:\n",
    "            Tmax = self.Tc - 0.01\n",
    "        eps = 0.004\n",
    "        list = []\n",
    "        for i in range(0,1000):\n",
    "            Ttest=Tmax-i*eps\n",
    "            print(\"Tunneling at T=\" + str(Ttest))\n",
    "            trigger=self.S_over_T(Ttest)\n",
    "            print(\"S3/T=\"+ str(trigger))\n",
    "            list.append([Ttest,trigger])\n",
    "            if trigger< 140.:\n",
    "                break\n",
    "        Tmin = Ttest\n",
    "        print(\"Tnuc should be within \" + str(Tmin) + \" and \" + str(Tmin+eps))\n",
    "        self.action_trace_data=np.array(list).transpose().tolist()\n",
    "\n",
    "    def findTn(self):\n",
    "        self.trace_action()\n",
    "        Tlist=self.action_trace_data[0]\n",
    "        log_action = [np.log10(i)-np.log10(140) for i in self.action_trace_data[1]]\n",
    "        # trigger_list=[i-140 for i in self.action_trace_data[1]]\n",
    "        # Action_drop = interpolate.interp1d(Tlist,trigger_list, kind='cubic')\n",
    "        function = interpolate.interp1d(Tlist, log_action, kind='cubic')\n",
    "        # self.Tn = optimize.brentq(Action_drop, Tlist[-2], Tlist[-1],disp=False,xtol=1e-5,rtol=1e-6)\n",
    "        self.Tn = optimize.brentq(function, Tlist[-2], Tlist[-1],disp=False,xtol=1e-5,rtol=1e-6)\n",
    "\n",
    "    def strength_Tn(self):\n",
    "        if not self.Tn:\n",
    "            self.findTn()\n",
    "        Tnuc = self.Tn\n",
    "        return self.truevev(T=Tnuc) / Tnuc\n",
    "\n",
    "    def strength_Tn1d(self):\n",
    "        if not self.Tn1d:\n",
    "            self.findTn_1d()\n",
    "        Tnuc = self.Tn1d\n",
    "        return self.truevev(T=Tnuc) / Tnuc\n",
    "\n",
    "    def beta_over_H_at_Tn(self):\n",
    "        \"Ridders algorithm\"\n",
    "        if not self.Tn:\n",
    "            self.findTn()\n",
    "        Tnuc = self.Tn\n",
    "        if self.action_trace_data==[]:\n",
    "            self.trace_action()\n",
    "        Tlist=self.action_trace_data[0]\n",
    "        trigger_list=[i-140 for i in self.action_trace_data[1]]\n",
    "        Action_drop = interpolate.interp1d(Tlist,trigger_list, kind='cubic')\n",
    "        eps = 0.5*(Tnuc-Tlist[-1])*0.9\n",
    "        dev = (Action_drop(Tnuc-2.*eps) - 8.*Action_drop(Tnuc-eps) + 8.*Action_drop(Tnuc+eps)- Action_drop(Tnuc+2.*eps))/(12.*eps)\n",
    "        return dev*Tnuc\n",
    "\n",
    "    def beta_over_H_at_Tn_1d(self):\n",
    "        \"Ridders algorithm\"\n",
    "        if not self.Tn1d:\n",
    "            self.findTn_1d()\n",
    "        Tnuc = self.Tn1d\n",
    "        eps=1e-5\n",
    "        def SoverT(Tv):\n",
    "            ST = self.tunneling_at_T_1d(T=Tv).action/Tv\n",
    "            return ST\n",
    "        dev = (SoverT(Tnuc-2.*eps) - 8.*SoverT(Tnuc-eps) + 8.*SoverT(Tnuc+eps)- SoverT(Tnuc+2.*eps))/(12.*eps)\n",
    "        return dev*Tnuc\n",
    "\n",
    "    def alpha(self):\n",
    "        if not self.Tn:\n",
    "            self.findTn()\n",
    "        Tnuc = self.Tn\n",
    "        if self.Tc-Tnuc >=0.002: eps = 0.001\n",
    "        else: eps=0.0001\n",
    "        def deltaV(T):\n",
    "            falsev=[0,self.Spath([0],T)]\n",
    "            truev=[self.truevev(T=T),self.Spath([self.truevev(T=T)],T)]\n",
    "            return self.Vtot(falsev,T)-self.Vtot(truev,T)\n",
    "        dev = (deltaV(Tnuc-2*eps) - 8.*deltaV(Tnuc-eps) + 8.*deltaV(Tnuc+eps) - deltaV(Tnuc+2.*eps))/(12.*eps) # derivative of deltaV w.r.t T at Tn\n",
    "        latent=deltaV(Tnuc) - 0.25*Tnuc*dev\n",
    "        rho_crit = np.pi**2*106.75*Tnuc**4/30.\n",
    "        return latent/rho_crit\n",
    "\n",
    "    def approxZeroTMin(self):\n",
    "        return [np.array([2**0.5*v,0])]"
   ]
  },
  {
   "cell_type": "code",
   "execution_count": 6,
   "metadata": {},
   "outputs": [
    {
     "data": {
      "text/plain": [
       "0.0011987533922726793"
      ]
     },
     "execution_count": 6,
     "metadata": {},
     "output_type": "execute_result"
    }
   ],
   "source": [
    "sintheta(0.05,0.1)"
   ]
  },
  {
   "cell_type": "code",
   "execution_count": 7,
   "metadata": {},
   "outputs": [],
   "source": [
    "m=model(0.05,0.0012)"
   ]
  },
  {
   "cell_type": "code",
   "execution_count": 8,
   "metadata": {},
   "outputs": [
    {
     "name": "stdout",
     "output_type": "stream",
     "text": [
      "Finding nucleation temperature for 1d case...\n",
      "Path deformation converged. 1 steps. fRatio = 6.91922e-14\n",
      "Path deformation converged. 1 steps. fRatio = 6.52528e-14\n",
      "Path deformation converged. 1 steps. fRatio = 1.15320e-13\n",
      "Path deformation converged. 1 steps. fRatio = 6.52528e-14\n",
      "Path deformation converged. 1 steps. fRatio = 7.41867e-14\n",
      "Path deformation converged. 1 steps. fRatio = 5.96782e-14\n",
      "Path deformation converged. 1 steps. fRatio = 9.59848e-14\n",
      "Path deformation converged. 1 steps. fRatio = 4.79533e-14\n",
      "Path deformation converged. 1 steps. fRatio = 9.59040e-14\n",
      "Path deformation converged. 1 steps. fRatio = 7.19280e-14\n",
      "Path deformation converged. 1 steps. fRatio = 7.19280e-14\n",
      "Path deformation converged. 1 steps. fRatio = 1.19880e-13\n",
      "Path deformation converged. 1 steps. fRatio = 9.59040e-14\n"
     ]
    }
   ],
   "source": [
    "m.findTn_1d()"
   ]
  },
  {
   "cell_type": "code",
   "execution_count": 9,
   "metadata": {},
   "outputs": [
    {
     "data": {
      "text/plain": [
       "35.33835050658711"
      ]
     },
     "execution_count": 9,
     "metadata": {},
     "output_type": "execute_result"
    }
   ],
   "source": [
    "m.Tn1d"
   ]
  },
  {
   "cell_type": "code",
   "execution_count": 19,
   "metadata": {},
   "outputs": [
    {
     "name": "stdout",
     "output_type": "stream",
     "text": [
      "Maximum number of deformation iterations reached.\n",
      "Path deformation converged. 201 steps. fRatio = 1.95965e-02\n",
      "Path deformation converged. 40 steps. fRatio = 1.93107e-02\n",
      "Path deformation converged. 23 steps. fRatio = 1.91524e-02\n",
      "Path deformation converged. 9 steps. fRatio = 1.74525e-02\n",
      "Path deformation converged. 2 steps. fRatio = 1.62644e-02\n",
      "Path deformation converged. 1 steps. fRatio = 5.24217e-02\n"
     ]
    }
   ],
   "source": [
    "tobj=m.tunneling_at_T(35.2325)"
   ]
  },
  {
   "cell_type": "code",
   "execution_count": 20,
   "metadata": {},
   "outputs": [],
   "source": [
    "hfield=tobj.Phi[:,0]\n",
    "Sfield=tobj.Phi[:,1]\n",
    "output = np.array([hfield.tolist(),Sfield.tolist()]).transpose().tolist()"
   ]
  },
  {
   "cell_type": "code",
   "execution_count": 21,
   "metadata": {},
   "outputs": [],
   "source": [
    "import csv"
   ]
  },
  {
   "cell_type": "code",
   "execution_count": 22,
   "metadata": {},
   "outputs": [],
   "source": [
    "output_file = './output/profile_50mev.csv'\n",
    "with open(output_file, \"w\") as f:\n",
    "    data_writer = csv.writer(f)\n",
    "    data_writer.writerows(output)"
   ]
  },
  {
   "cell_type": "code",
   "execution_count": null,
   "metadata": {},
   "outputs": [],
   "source": []
  }
 ],
 "metadata": {
  "kernelspec": {
   "display_name": "Python 3.9.10 ('base')",
   "language": "python",
   "name": "python3"
  },
  "language_info": {
   "codemirror_mode": {
    "name": "ipython",
    "version": 3
   },
   "file_extension": ".py",
   "mimetype": "text/x-python",
   "name": "python",
   "nbconvert_exporter": "python",
   "pygments_lexer": "ipython3",
   "version": "3.9.10"
  },
  "orig_nbformat": 4,
  "vscode": {
   "interpreter": {
    "hash": "d1fdd9000e0c5e4509e568fa85b190da3365b3c2a27cc0fa2efb4d17d7059255"
   }
  }
 },
 "nbformat": 4,
 "nbformat_minor": 2
}
