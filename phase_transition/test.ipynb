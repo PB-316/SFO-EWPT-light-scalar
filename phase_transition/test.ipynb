{
 "cells": [
  {
   "cell_type": "markdown",
   "metadata": {},
   "source": [
    "# Phase Transitions"
   ]
  },
  {
   "cell_type": "markdown",
   "metadata": {},
   "source": [
    "This notebook implement the effective potential with manually made functions to solve for the nucleation temperature and other parameters."
   ]
  },
  {
   "cell_type": "code",
   "execution_count": 1,
   "metadata": {},
   "outputs": [],
   "source": [
    "import numpy as np\n",
    "from scipy import optimize\n",
    "from cosmoTransitions import generic_potential as gp\n",
    "from cosmoTransitions import pathDeformation as pd\n",
    "from scipy import interpolate\n",
    "from cosmoTransitions import helper_functions"
   ]
  },
  {
   "cell_type": "markdown",
   "metadata": {},
   "source": [
    "## Pre-definitions"
   ]
  },
  {
   "cell_type": "code",
   "execution_count": 2,
   "metadata": {},
   "outputs": [],
   "source": [
    "GF = 1.16637e-05\n",
    "v = 1/(np.sqrt(2*np.sqrt(2)*GF))\n",
    "mHSM = 125.13"
   ]
  },
  {
   "cell_type": "code",
   "execution_count": 3,
   "metadata": {},
   "outputs": [],
   "source": [
    "def muH2(mS, sintheta):\n",
    "    \"\"\"\\mu_H square\"\"\"\n",
    "    return 0.5*(mHSM**2 * (1-sintheta**2) + mS**2 * sintheta**2)\n",
    "\n",
    "def muS2(mS, sintheta):\n",
    "    \"\"\"\\mu_S square\"\"\"\n",
    "    return sintheta**2 * mHSM**2 + (1 - sintheta**2) * mS**2\n",
    "\n",
    "def A(mS, sintheta):\n",
    "    \"\"\"A parameter\"\"\"\n",
    "    nominator = (mHSM**2 - mS**2) * sintheta * np.sqrt(1-sintheta**2)\n",
    "    denominator = np.sqrt(2) * v\n",
    "    return nominator/denominator\n",
    "\n",
    "def lm(mS, sintheta):\n",
    "    \"\"\"\\lambda parameter\"\"\"\n",
    "    nominator = (1 - sintheta**2)*mHSM**2 + sintheta**2 * mS**2\n",
    "    return nominator/(4*v**2)\n",
    "\n",
    "def sintheta(mS, ft):\n",
    "    \"\"\"Solve the mixing angle according to find-tuning\"\"\"\n",
    "    return (mS**2*(1/ft-1)/(mHSM**2-mS**2))**0.5"
   ]
  },
  {
   "cell_type": "markdown",
   "metadata": {},
   "source": [
    "## The effective potential"
   ]
  },
  {
   "cell_type": "code",
   "execution_count": 25,
   "metadata": {},
   "outputs": [],
   "source": [
    "class model(gp.generic_potential):\n",
    "    def init(self, mS, sintheta):\n",
    "        self.Ndim = 2\n",
    "        self.Tmax = 100\n",
    "        self.mS = mS\n",
    "        self.sintheta = sintheta\n",
    "        self.lm = lm(self.mS, self.sintheta)\n",
    "        self.A = A(self.mS,self.sintheta)\n",
    "        self.muH2 = muH2(self.mS,self.sintheta)\n",
    "        self.muS2 = muS2(self.mS,self.sintheta)\n",
    "        self.g = 0.65\n",
    "        self.gY = 0.36\n",
    "        self.yt = 0.9945\n",
    "        self.D = (3*self.g**2 + self.gY**2 + 4*self.yt**2)/16.\n",
    "        self.E = (2*self.g**3+(self.g**2 + self.gY**2)**(3/2))/(48*np.pi)\n",
    "        self.cs = 1./3\n",
    "        self.Deff = self.D - self.cs * self.A**2/(4.*self.muS2)\n",
    "        self.lmeff = self.lm - self.A**2/(2*self.muS2)\n",
    "        self.T0 = np.sqrt(0.5*self.muH2 - v**2 * self.A**2 /(2*self.muS2))/np.sqrt(self.D - self.cs*self.A**2/(4*self.muS2))\n",
    "        self.Tc = self.T0*np.sqrt((self.Deff * self.lmeff)/(-self.E**2 + self.Deff*self.lmeff))\n",
    "        self.strength = 2*self.E/self.lmeff\n",
    "        self.Tn = False\n",
    "        self.Tn1d=False\n",
    "        self.action_trace_data=[]\n",
    "        self.T_eps=5e-4\n",
    "\n",
    "\n",
    "    def Vtot(self, X, T, include_radiation=True):\n",
    "        \"\"\"The total effective potential in the high-T expansion.\"\"\"\n",
    "        T = np.asanyarray(T, dtype=float)\n",
    "        X = np.asanyarray(X, dtype=float)\n",
    "        T2 = (T*T)+1e-100\n",
    "        phi1 = X[...,0]\n",
    "        phi2 = X[...,1]\n",
    "        y = self.D * T2 * phi1**2 - 0.5 * self.muH2 * phi1**2\n",
    "        y += - self.E * T * phi1**3\n",
    "        y += 0.25 * self.lm * phi1**4\n",
    "        y += 0.5*self.muS2*phi2**2 - 0.5 * self.A * (phi1**2 + self.cs * T2 - 2 * v**2)*phi2\n",
    "\n",
    "        return y\n",
    "\n",
    "    def Vtot1d(self, X, T, include_radiation=True):\n",
    "        T = np.asanyarray(T, dtype=float)\n",
    "        X = np.asanyarray(X, dtype=float)\n",
    "        T2 = (T*T) + 1e-100\n",
    "        phi1 = X[...,0]\n",
    "        y = self.Deff * T2 * phi1**2 - (0.5*self.muH2 - 0.5 * v**2 * self.A**2 / (self.muS2))*phi1**2\n",
    "        y += - self.E * T * phi1 **3\n",
    "        y += 0.25 * self.lmeff * phi1**4\n",
    "        return y\n",
    "\n",
    "    def truevev(self,T):\n",
    "        assert T < self.Tc\n",
    "        nominator = 3.* T * self.E + np.sqrt(9.*self.E**2 * T**2 + 8.*self.Deff * (self.T0**2 - T**2)*self.lmeff)\n",
    "        denominator = 2.*self.lmeff\n",
    "        return nominator/denominator\n",
    "\n",
    "    def Spath(self, X, T):\n",
    "        X = np.asanyarray(X)\n",
    "        T = np.asanyarray(T)\n",
    "        phi1 = X[...,0]\n",
    "        T2 = (T*T) + 1e-100\n",
    "        return 0.5*self.A*(phi1**2 + self.cs * T2 - 2 * v**2)/self.muS2\n",
    "\n",
    "    def gradV1d(self,X,T):\n",
    "        f=helper_functions.gradientFunction(self.Vtot1d, self.x_eps,1,self.deriv_order)\n",
    "        T = np.asanyarray(T)[...,np.newaxis, np.newaxis]\n",
    "        return f(X,T,False)\n",
    "\n",
    "    def tunneling_at_T_1d(self, T):\n",
    "        assert T < self.Tc\n",
    "        def V_(x, T=T, V=self.Vtot1d):\n",
    "            return V(x,T)\n",
    "        def dV_(x, T=T, dV=self.gradV1d):\n",
    "            return dV(x,T)\n",
    "        tobj = pd.fullTunneling([[self.truevev(T)],[0.]],V_,dV_)\n",
    "        return tobj\n",
    "\n",
    "    def tunneling_at_T(self,T):\n",
    "        assert T < self.Tc\n",
    "        def V_(x, T=T, V=self.Vtot):\n",
    "            return V(x,T)\n",
    "        def dV_(x, T=T, dV=self.gradV):\n",
    "            return dV(x,T)\n",
    "        tobj = pd.fullTunneling([[self.truevev(T),self.Spath([self.truevev(T)],T)],[0.,self.Spath([0.],T)]],V_,dV_)\n",
    "        return tobj \n",
    "\n",
    "    def S_over_T(self,T):\n",
    "        Tv=T\n",
    "        ST=self.tunneling_at_T(T=Tv).action/Tv\n",
    "        return ST\n",
    "\n",
    "    def findTn_1d(self):\n",
    "        print(\"Finding nucleation temperature for 1d case...\")\n",
    "        if self.mS<=0.1:\n",
    "            eps = 0.03\n",
    "        elif self.mS<=1:\n",
    "            eps=0.02\n",
    "        else: eps=0.01\n",
    "        def nuclea_trigger(Tv):\n",
    "            ST = self.tunneling_at_T_1d(T=Tv).action/Tv\n",
    "            return ST - 140.\n",
    "        for i in range(1,1000):\n",
    "            if nuclea_trigger(self.Tc - i*eps) <= 0.:\n",
    "                break\n",
    "        Tn1 = self.Tc - (i-1)*eps\n",
    "        self.Tn1d = optimize.brentq(nuclea_trigger,Tn1-1e-10, Tn1-eps,disp=False)\n",
    "\n",
    "    def trace_action(self):\n",
    "        if self.mS <= 0.01:\n",
    "            if self.Tn1d == False:\n",
    "                self.findTn_1d()\n",
    "            Tmax = 0.9985*self.Tn1d\n",
    "        elif self.mS <= 0.05:\n",
    "            if self.Tn1d == False:\n",
    "                self.findTn_1d()\n",
    "            Tmax = self.Tn1d-0.05\n",
    "        elif self.mS <= 1:\n",
    "            if self.Tn1d == False:\n",
    "                self.findTn_1d()\n",
    "            Tmax = self.Tn1d-0.01\n",
    "        else:\n",
    "            Tmax = self.Tc - 0.01\n",
    "        eps = 0.004\n",
    "        list = []\n",
    "        for i in range(0,1000):\n",
    "            Ttest=Tmax-i*eps\n",
    "            print(\"Tunneling at T=\" + str(Ttest))\n",
    "            trigger=self.S_over_T(Ttest)\n",
    "            print(\"S3/T=\"+ str(trigger))\n",
    "            list.append([Ttest,trigger])\n",
    "            if trigger< 140.:\n",
    "                break\n",
    "        Tmin = Ttest\n",
    "        print(\"Tnuc should be within \" + str(Tmin) + \" and \" + str(Tmin+eps))\n",
    "        self.action_trace_data=np.array(list).transpose().tolist()\n",
    "\n",
    "    def findTn(self):\n",
    "        self.trace_action()\n",
    "        Tlist=self.action_trace_data[0]\n",
    "        log_action = [np.log10(i)-np.log10(140) for i in self.action_trace_data[1]]\n",
    "        # trigger_list=[i-140 for i in self.action_trace_data[1]]\n",
    "        # Action_drop = interpolate.interp1d(Tlist,trigger_list, kind='cubic')\n",
    "        function = interpolate.interp1d(Tlist, log_action, kind='cubic')\n",
    "        # self.Tn = optimize.brentq(Action_drop, Tlist[-2], Tlist[-1],disp=False,xtol=1e-5,rtol=1e-6)\n",
    "        self.Tn = optimize.brentq(function, Tlist[-2], Tlist[-1],disp=False,xtol=1e-5,rtol=1e-6)\n",
    "\n",
    "    def strength_Tn(self):\n",
    "        if not self.Tn:\n",
    "            self.findTn()\n",
    "        Tnuc = self.Tn\n",
    "        return self.truevev(T=Tnuc) / Tnuc\n",
    "\n",
    "    def strength_Tn1d(self):\n",
    "        if not self.Tn1d:\n",
    "            self.findTn_1d()\n",
    "        Tnuc = self.Tn1d\n",
    "        return self.truevev(T=Tnuc) / Tnuc\n",
    "\n",
    "    def beta_over_H_at_Tn(self):\n",
    "        \"Ridders algorithm\"\n",
    "        if not self.Tn:\n",
    "            self.findTn()\n",
    "        Tnuc = self.Tn\n",
    "        if self.action_trace_data==[]:\n",
    "            self.trace_action()\n",
    "        Tlist=self.action_trace_data[0]\n",
    "        trigger_list=[i-140 for i in self.action_trace_data[1]]\n",
    "        Action_drop = interpolate.interp1d(Tlist,trigger_list, kind='cubic')\n",
    "        eps = 0.5*(Tnuc-Tlist[-1])*0.9\n",
    "        dev = (Action_drop(Tnuc-2.*eps) - 8.*Action_drop(Tnuc-eps) + 8.*Action_drop(Tnuc+eps)- Action_drop(Tnuc+2.*eps))/(12.*eps)\n",
    "        return dev*Tnuc\n",
    "\n",
    "    def beta_over_H_at_Tn_1d(self):\n",
    "        \"Ridders algorithm\"\n",
    "        if not self.Tn1d:\n",
    "            self.findTn_1d()\n",
    "        Tnuc = self.Tn1d\n",
    "        eps=1e-5\n",
    "        def SoverT(Tv):\n",
    "            ST = self.tunneling_at_T_1d(T=Tv).action/Tv\n",
    "            return ST\n",
    "        dev = (SoverT(Tnuc-2.*eps) - 8.*SoverT(Tnuc-eps) + 8.*SoverT(Tnuc+eps)- SoverT(Tnuc+2.*eps))/(12.*eps)\n",
    "        return dev*Tnuc\n",
    "\n",
    "    def alpha(self):\n",
    "        if not self.Tn:\n",
    "            self.findTn()\n",
    "        Tnuc = self.Tn\n",
    "        if self.Tc-Tnuc >=0.002: eps = 0.001\n",
    "        else: eps=0.0001\n",
    "        def deltaV(T):\n",
    "            falsev=[0,self.Spath([0],T)]\n",
    "            truev=[self.truevev(T=T),self.Spath([self.truevev(T=T)],T)]\n",
    "            return self.Vtot(falsev,T)-self.Vtot(truev,T)\n",
    "        dev = (deltaV(Tnuc-2*eps) - 8.*deltaV(Tnuc-eps) + 8.*deltaV(Tnuc+eps) - deltaV(Tnuc+2.*eps))/(12.*eps) # derivative of deltaV w.r.t T at Tn\n",
    "        latent=deltaV(Tnuc) - 0.25*Tnuc*dev\n",
    "        rho_crit = np.pi**2*106.75*Tnuc**4/30.\n",
    "        return latent/rho_crit\n",
    "\n",
    "    def approxZeroTMin(self):\n",
    "        return [np.array([2**0.5*v,0])]"
   ]
  },
  {
   "cell_type": "code",
   "execution_count": 213,
   "metadata": {},
   "outputs": [
    {
     "data": {
      "text/plain": [
       "0.0011084888004744332"
      ]
     },
     "execution_count": 213,
     "metadata": {},
     "output_type": "execute_result"
    }
   ],
   "source": [
    "sintheta(0.05,0.115)"
   ]
  },
  {
   "cell_type": "code",
   "execution_count": 26,
   "metadata": {},
   "outputs": [],
   "source": [
    "m=model(0.01,0.00021)"
   ]
  },
  {
   "cell_type": "code",
   "execution_count": 19,
   "metadata": {},
   "outputs": [
    {
     "name": "stdout",
     "output_type": "stream",
     "text": [
      "Finding nucleation temperature for 1d case...\n",
      "Path deformation converged. 1 steps. fRatio = 1.30535e-13\n",
      "Path deformation converged. 1 steps. fRatio = 6.26313e-14\n",
      "Path deformation converged. 1 steps. fRatio = 7.83212e-14\n",
      "Path deformation converged. 1 steps. fRatio = 6.26313e-14\n",
      "Path deformation converged. 1 steps. fRatio = 1.05780e-13\n",
      "Path deformation converged. 1 steps. fRatio = 5.25095e-14\n",
      "Path deformation converged. 1 steps. fRatio = 1.31187e-13\n",
      "Path deformation converged. 1 steps. fRatio = 5.24753e-14\n",
      "Path deformation converged. 1 steps. fRatio = 1.04951e-13\n",
      "Path deformation converged. 1 steps. fRatio = 1.04951e-13\n",
      "Path deformation converged. 1 steps. fRatio = 1.83664e-13\n",
      "Path deformation converged. 1 steps. fRatio = 5.24753e-14\n",
      "Path deformation converged. 1 steps. fRatio = 7.87129e-14\n",
      "39.72363243129047\n"
     ]
    }
   ],
   "source": [
    "m.findTn_1d()\n",
    "print(m.Tn1d)"
   ]
  },
  {
   "cell_type": "code",
   "execution_count": 20,
   "metadata": {},
   "outputs": [
    {
     "name": "stdout",
     "output_type": "stream",
     "text": [
      "Tunneling at T=39.664046982643534\n",
      "Maximum number of deformation iterations reached.\n",
      "Deformation doesn't appear to be converging.Stopping at the point of best convergence.\n",
      "Deformation doesn't appear to be converging.Stopping at the point of best convergence.\n",
      "Deformation doesn't appear to be converging.Stopping at the point of best convergence.\n",
      "Deformation doesn't appear to be converging.Stopping at the point of best convergence.\n",
      "Deformation doesn't appear to be converging.Stopping at the point of best convergence.\n",
      "Deformation doesn't appear to be converging.Stopping at the point of best convergence.\n",
      "Path deformation converged. 15 steps. fRatio = 1.44238e-02\n",
      "Path deformation converged. 1 steps. fRatio = 2.17181e-02\n",
      "S3/T=8746168.895112079\n",
      "Tunneling at T=39.660046982643536\n",
      "Maximum number of deformation iterations reached.\n",
      "Deformation doesn't appear to be converging.Stopping at the point of best convergence.\n",
      "Deformation doesn't appear to be converging.Stopping at the point of best convergence.\n",
      "Deformation doesn't appear to be converging.Stopping at the point of best convergence.\n",
      "Deformation doesn't appear to be converging.Stopping at the point of best convergence.\n",
      "Deformation doesn't appear to be converging.Stopping at the point of best convergence.\n",
      "Deformation doesn't appear to be converging.Stopping at the point of best convergence.\n",
      "Deformation doesn't appear to be converging.Stopping at the point of best convergence.\n",
      "Deformation doesn't appear to be converging.Stopping at the point of best convergence.\n",
      "Deformation doesn't appear to be converging.Stopping at the point of best convergence.\n",
      "Deformation doesn't appear to be converging.Stopping at the point of best convergence.\n",
      "Deformation doesn't appear to be converging.Stopping at the point of best convergence.\n",
      "Deformation doesn't appear to be converging.Stopping at the point of best convergence.\n",
      "Deformation doesn't appear to be converging.Stopping at the point of best convergence.\n",
      "Deformation doesn't appear to be converging.Stopping at the point of best convergence.\n",
      "Path deformation converged. 13 steps. fRatio = 1.97787e-02\n",
      "Path deformation converged. 1 steps. fRatio = 3.29227e-02\n",
      "S3/T=5806245.669986872\n",
      "Tunneling at T=39.65604698264353\n",
      "Maximum number of deformation iterations reached.\n",
      "Deformation doesn't appear to be converging.Stopping at the point of best convergence.\n",
      "Deformation doesn't appear to be converging.Stopping at the point of best convergence.\n",
      "Deformation doesn't appear to be converging.Stopping at the point of best convergence.\n",
      "Deformation doesn't appear to be converging.Stopping at the point of best convergence.\n",
      "Deformation doesn't appear to be converging.Stopping at the point of best convergence.\n",
      "Deformation doesn't appear to be converging.Stopping at the point of best convergence.\n",
      "Deformation doesn't appear to be converging.Stopping at the point of best convergence.\n",
      "Deformation doesn't appear to be converging.Stopping at the point of best convergence.\n",
      "Deformation doesn't appear to be converging.Stopping at the point of best convergence.\n",
      "Deformation doesn't appear to be converging.Stopping at the point of best convergence.\n",
      "Deformation doesn't appear to be converging.Stopping at the point of best convergence.\n",
      "Deformation doesn't appear to be converging.Stopping at the point of best convergence.\n",
      "Maximum number of deformation iterations reached.\n",
      "Maximum number of deformation iterations reached.\n",
      "Maximum number of deformation iterations reached.\n",
      "Maximum number of deformation iterations reached.\n",
      "Maximum number of deformation iterations reached.\n",
      "Maximum number of deformation iterations reached.\n",
      "Maximum number of deformation iterations reached.\n",
      "Maximum number of deformation iterations reached.\n",
      "Maximum number of deformation iterations reached.\n",
      "Maximum number of deformation iterations reached.\n",
      "Maximum number of deformation iterations reached.\n",
      "Maximum number of deformation iterations reached.\n",
      "Maximum number of deformation iterations reached.\n",
      "S3/T=3725724.955592989\n",
      "Tunneling at T=39.65204698264353\n",
      "Maximum number of deformation iterations reached.\n",
      "Deformation doesn't appear to be converging.Stopping at the point of best convergence.\n",
      "Deformation doesn't appear to be converging.Stopping at the point of best convergence.\n",
      "Deformation doesn't appear to be converging.Stopping at the point of best convergence.\n",
      "Deformation doesn't appear to be converging.Stopping at the point of best convergence.\n",
      "Deformation doesn't appear to be converging.Stopping at the point of best convergence.\n",
      "Deformation doesn't appear to be converging.Stopping at the point of best convergence.\n",
      "Path deformation converged. 1 steps. fRatio = 3.49734e-02\n",
      "S3/T=2311563.5708392924\n",
      "Tunneling at T=39.648046982643535\n",
      "Maximum number of deformation iterations reached.\n",
      "Deformation doesn't appear to be converging.Stopping at the point of best convergence.\n",
      "Deformation doesn't appear to be converging.Stopping at the point of best convergence.\n",
      "Deformation doesn't appear to be converging.Stopping at the point of best convergence.\n",
      "Deformation doesn't appear to be converging.Stopping at the point of best convergence.\n",
      "Deformation doesn't appear to be converging.Stopping at the point of best convergence.\n",
      "Deformation doesn't appear to be converging.Stopping at the point of best convergence.\n",
      "Path deformation converged. 1 steps. fRatio = 9.19226e-02\n",
      "S3/T=1349551.0043168403\n",
      "Tunneling at T=39.64404698264353\n",
      "Maximum number of deformation iterations reached.\n",
      "Deformation doesn't appear to be converging.Stopping at the point of best convergence.\n",
      "Deformation doesn't appear to be converging.Stopping at the point of best convergence.\n",
      "Deformation doesn't appear to be converging.Stopping at the point of best convergence.\n",
      "Deformation doesn't appear to be converging.Stopping at the point of best convergence.\n",
      "Path deformation converged. 1 steps. fRatio = 4.65875e-02\n",
      "S3/T=716862.4529464333\n",
      "Tunneling at T=39.64004698264353\n",
      "Maximum number of deformation iterations reached.\n",
      "Deformation doesn't appear to be converging.Stopping at the point of best convergence.\n",
      "Deformation doesn't appear to be converging.Stopping at the point of best convergence.\n",
      "Deformation doesn't appear to be converging.Stopping at the point of best convergence.\n",
      "Deformation doesn't appear to be converging.Stopping at the point of best convergence.\n",
      "Deformation doesn't appear to be converging.Stopping at the point of best convergence.\n",
      "Deformation doesn't appear to be converging.Stopping at the point of best convergence.\n",
      "Deformation doesn't appear to be converging.Stopping at the point of best convergence.\n",
      "Deformation doesn't appear to be converging.Stopping at the point of best convergence.\n",
      "Deformation doesn't appear to be converging.Stopping at the point of best convergence.\n",
      "Deformation doesn't appear to be converging.Stopping at the point of best convergence.\n",
      "Path deformation converged. 1 steps. fRatio = 4.93615e-02\n",
      "S3/T=363299.6252738955\n",
      "Tunneling at T=39.636046982643535\n",
      "Maximum number of deformation iterations reached.\n",
      "Deformation doesn't appear to be converging.Stopping at the point of best convergence.\n",
      "Deformation doesn't appear to be converging.Stopping at the point of best convergence.\n",
      "Deformation doesn't appear to be converging.Stopping at the point of best convergence.\n",
      "Deformation doesn't appear to be converging.Stopping at the point of best convergence.\n",
      "Deformation doesn't appear to be converging.Stopping at the point of best convergence.\n",
      "Deformation doesn't appear to be converging.Stopping at the point of best convergence.\n",
      "Path deformation converged. 1 steps. fRatio = 8.26244e-02\n",
      "S3/T=171099.93338731848\n",
      "Tunneling at T=39.63204698264354\n",
      "Maximum number of deformation iterations reached.\n",
      "Deformation doesn't appear to be converging.Stopping at the point of best convergence.\n",
      "Deformation doesn't appear to be converging.Stopping at the point of best convergence.\n",
      "Deformation doesn't appear to be converging.Stopping at the point of best convergence.\n",
      "Deformation doesn't appear to be converging.Stopping at the point of best convergence.\n",
      "Deformation doesn't appear to be converging.Stopping at the point of best convergence.\n",
      "Deformation doesn't appear to be converging.Stopping at the point of best convergence.\n",
      "Deformation doesn't appear to be converging.Stopping at the point of best convergence.\n",
      "Deformation doesn't appear to be converging.Stopping at the point of best convergence.\n",
      "Deformation doesn't appear to be converging.Stopping at the point of best convergence.\n",
      "Deformation doesn't appear to be converging.Stopping at the point of best convergence.\n",
      "Deformation doesn't appear to be converging.Stopping at the point of best convergence.\n",
      "Deformation doesn't appear to be converging.Stopping at the point of best convergence.\n",
      "Deformation doesn't appear to be converging.Stopping at the point of best convergence.\n",
      "Deformation doesn't appear to be converging.Stopping at the point of best convergence.\n",
      "Deformation doesn't appear to be converging.Stopping at the point of best convergence.\n",
      "Deformation doesn't appear to be converging.Stopping at the point of best convergence.\n",
      "Deformation doesn't appear to be converging.Stopping at the point of best convergence.\n",
      "Deformation doesn't appear to be converging.Stopping at the point of best convergence.\n",
      "Deformation doesn't appear to be converging.Stopping at the point of best convergence.\n",
      "Deformation doesn't appear to be converging.Stopping at the point of best convergence.\n",
      "Deformation doesn't appear to be converging.Stopping at the point of best convergence.\n",
      "Deformation doesn't appear to be converging.Stopping at the point of best convergence.\n",
      "Deformation doesn't appear to be converging.Stopping at the point of best convergence.\n",
      "Deformation doesn't appear to be converging.Stopping at the point of best convergence.\n",
      "Deformation doesn't appear to be converging.Stopping at the point of best convergence.\n",
      "Deformation doesn't appear to be converging.Stopping at the point of best convergence.\n",
      "Deformation doesn't appear to be converging.Stopping at the point of best convergence.\n",
      "Deformation doesn't appear to be converging.Stopping at the point of best convergence.\n",
      "Deformation doesn't appear to be converging.Stopping at the point of best convergence.\n",
      "Deformation doesn't appear to be converging.Stopping at the point of best convergence.\n",
      "Deformation doesn't appear to be converging.Stopping at the point of best convergence.\n",
      "Deformation doesn't appear to be converging.Stopping at the point of best convergence.\n",
      "Deformation doesn't appear to be converging.Stopping at the point of best convergence.\n",
      "Deformation doesn't appear to be converging.Stopping at the point of best convergence.\n",
      "Deformation doesn't appear to be converging.Stopping at the point of best convergence.\n",
      "Deformation doesn't appear to be converging.Stopping at the point of best convergence.\n",
      "Deformation doesn't appear to be converging.Stopping at the point of best convergence.\n",
      "Deformation doesn't appear to be converging.Stopping at the point of best convergence.\n",
      "S3/T=66764.63723852768\n",
      "Tunneling at T=39.62804698264353\n",
      "Maximum number of deformation iterations reached.\n",
      "Deformation doesn't appear to be converging.Stopping at the point of best convergence.\n",
      "Deformation doesn't appear to be converging.Stopping at the point of best convergence.\n",
      "Deformation doesn't appear to be converging.Stopping at the point of best convergence.\n",
      "Deformation doesn't appear to be converging.Stopping at the point of best convergence.\n",
      "Deformation doesn't appear to be converging.Stopping at the point of best convergence.\n",
      "Deformation doesn't appear to be converging.Stopping at the point of best convergence.\n",
      "Deformation doesn't appear to be converging.Stopping at the point of best convergence.\n",
      "Deformation doesn't appear to be converging.Stopping at the point of best convergence.\n",
      "Deformation doesn't appear to be converging.Stopping at the point of best convergence.\n",
      "Deformation doesn't appear to be converging.Stopping at the point of best convergence.\n",
      "Deformation doesn't appear to be converging.Stopping at the point of best convergence.\n",
      "Deformation doesn't appear to be converging.Stopping at the point of best convergence.\n",
      "Deformation doesn't appear to be converging.Stopping at the point of best convergence.\n",
      "Deformation doesn't appear to be converging.Stopping at the point of best convergence.\n",
      "Deformation doesn't appear to be converging.Stopping at the point of best convergence.\n",
      "Deformation doesn't appear to be converging.Stopping at the point of best convergence.\n",
      "Deformation doesn't appear to be converging.Stopping at the point of best convergence.\n",
      "Deformation doesn't appear to be converging.Stopping at the point of best convergence.\n",
      "Deformation doesn't appear to be converging.Stopping at the point of best convergence.\n",
      "Deformation doesn't appear to be converging.Stopping at the point of best convergence.\n",
      "Deformation doesn't appear to be converging.Stopping at the point of best convergence.\n",
      "Deformation doesn't appear to be converging.Stopping at the point of best convergence.\n",
      "Deformation doesn't appear to be converging.Stopping at the point of best convergence.\n",
      "Deformation doesn't appear to be converging.Stopping at the point of best convergence.\n",
      "Deformation doesn't appear to be converging.Stopping at the point of best convergence.\n",
      "Deformation doesn't appear to be converging.Stopping at the point of best convergence.\n",
      "Deformation doesn't appear to be converging.Stopping at the point of best convergence.\n",
      "Deformation doesn't appear to be converging.Stopping at the point of best convergence.\n",
      "Deformation doesn't appear to be converging.Stopping at the point of best convergence.\n",
      "Deformation doesn't appear to be converging.Stopping at the point of best convergence.\n",
      "Deformation doesn't appear to be converging.Stopping at the point of best convergence.\n",
      "Deformation doesn't appear to be converging.Stopping at the point of best convergence.\n",
      "Deformation doesn't appear to be converging.Stopping at the point of best convergence.\n",
      "Deformation doesn't appear to be converging.Stopping at the point of best convergence.\n",
      "Deformation doesn't appear to be converging.Stopping at the point of best convergence.\n",
      "Deformation doesn't appear to be converging.Stopping at the point of best convergence.\n",
      "Deformation doesn't appear to be converging.Stopping at the point of best convergence.\n",
      "Deformation doesn't appear to be converging.Stopping at the point of best convergence.\n",
      "S3/T=18670.142545041097\n",
      "Tunneling at T=39.624046982643534\n",
      "Maximum number of deformation iterations reached.\n",
      "Path deformation converged. 149 steps. fRatio = 1.86045e-02\n",
      "Deformation doesn't appear to be converging.Stopping at the point of best convergence.\n",
      "Deformation doesn't appear to be converging.Stopping at the point of best convergence.\n",
      "Path deformation converged. 62 steps. fRatio = 1.99432e-02\n",
      "Deformation doesn't appear to be converging.Stopping at the point of best convergence.\n",
      "Deformation doesn't appear to be converging.Stopping at the point of best convergence.\n"
     ]
    },
    {
     "name": "stderr",
     "output_type": "stream",
     "text": [
      "/Users/isaac/envs/base/lib/python3.9/site-packages/cosmoTransitions/tunneling1D.py:415: RuntimeWarning: overflow encountered in double_scalars\n",
      "  r *= 10\n"
     ]
    },
    {
     "name": "stdout",
     "output_type": "stream",
     "text": [
      "Deformation doesn't appear to be converging.Stopping at the point of best convergence.\n",
      "Deformation doesn't appear to be converging.Stopping at the point of best convergence.\n",
      "Deformation doesn't appear to be converging.Stopping at the point of best convergence.\n",
      "Deformation doesn't appear to be converging.Stopping at the point of best convergence.\n"
     ]
    },
    {
     "ename": "ValueError",
     "evalue": "f(a) and f(b) must have different signs",
     "output_type": "error",
     "traceback": [
      "\u001b[0;31m---------------------------------------------------------------------------\u001b[0m",
      "\u001b[0;31mValueError\u001b[0m                                Traceback (most recent call last)",
      "\u001b[1;32m/Users/isaac/Dropbox/Research_Project/2022-1-SFOPT_light_singlet/02-Analysis/phase_transition/test.ipynb Cell 12'\u001b[0m in \u001b[0;36m<cell line: 1>\u001b[0;34m()\u001b[0m\n\u001b[0;32m----> <a href='vscode-notebook-cell:/Users/isaac/Dropbox/Research_Project/2022-1-SFOPT_light_singlet/02-Analysis/phase_transition/test.ipynb#ch0000025?line=0'>1</a>\u001b[0m m\u001b[39m.\u001b[39;49mfindTn()\n",
      "\u001b[1;32m/Users/isaac/Dropbox/Research_Project/2022-1-SFOPT_light_singlet/02-Analysis/phase_transition/test.ipynb Cell 8'\u001b[0m in \u001b[0;36mmodel.findTn\u001b[0;34m(self)\u001b[0m\n\u001b[1;32m    <a href='vscode-notebook-cell:/Users/isaac/Dropbox/Research_Project/2022-1-SFOPT_light_singlet/02-Analysis/phase_transition/test.ipynb#ch0000007?line=137'>138</a>\u001b[0m \u001b[39mdef\u001b[39;00m \u001b[39mfindTn\u001b[39m(\u001b[39mself\u001b[39m):\n\u001b[0;32m--> <a href='vscode-notebook-cell:/Users/isaac/Dropbox/Research_Project/2022-1-SFOPT_light_singlet/02-Analysis/phase_transition/test.ipynb#ch0000007?line=138'>139</a>\u001b[0m     \u001b[39mself\u001b[39;49m\u001b[39m.\u001b[39;49mtrace_action()\n\u001b[1;32m    <a href='vscode-notebook-cell:/Users/isaac/Dropbox/Research_Project/2022-1-SFOPT_light_singlet/02-Analysis/phase_transition/test.ipynb#ch0000007?line=139'>140</a>\u001b[0m     Tlist\u001b[39m=\u001b[39m\u001b[39mself\u001b[39m\u001b[39m.\u001b[39maction_trace_data[\u001b[39m0\u001b[39m]\n\u001b[1;32m    <a href='vscode-notebook-cell:/Users/isaac/Dropbox/Research_Project/2022-1-SFOPT_light_singlet/02-Analysis/phase_transition/test.ipynb#ch0000007?line=140'>141</a>\u001b[0m     log_action \u001b[39m=\u001b[39m [np\u001b[39m.\u001b[39mlog10(i)\u001b[39m-\u001b[39mnp\u001b[39m.\u001b[39mlog10(\u001b[39m140\u001b[39m) \u001b[39mfor\u001b[39;00m i \u001b[39min\u001b[39;00m \u001b[39mself\u001b[39m\u001b[39m.\u001b[39maction_trace_data[\u001b[39m1\u001b[39m]]\n",
      "\u001b[1;32m/Users/isaac/Dropbox/Research_Project/2022-1-SFOPT_light_singlet/02-Analysis/phase_transition/test.ipynb Cell 8'\u001b[0m in \u001b[0;36mmodel.trace_action\u001b[0;34m(self)\u001b[0m\n\u001b[1;32m    <a href='vscode-notebook-cell:/Users/isaac/Dropbox/Research_Project/2022-1-SFOPT_light_singlet/02-Analysis/phase_transition/test.ipynb#ch0000007?line=126'>127</a>\u001b[0m Ttest\u001b[39m=\u001b[39mTmax\u001b[39m-\u001b[39mi\u001b[39m*\u001b[39meps\n\u001b[1;32m    <a href='vscode-notebook-cell:/Users/isaac/Dropbox/Research_Project/2022-1-SFOPT_light_singlet/02-Analysis/phase_transition/test.ipynb#ch0000007?line=127'>128</a>\u001b[0m \u001b[39mprint\u001b[39m(\u001b[39m\"\u001b[39m\u001b[39mTunneling at T=\u001b[39m\u001b[39m\"\u001b[39m \u001b[39m+\u001b[39m \u001b[39mstr\u001b[39m(Ttest))\n\u001b[0;32m--> <a href='vscode-notebook-cell:/Users/isaac/Dropbox/Research_Project/2022-1-SFOPT_light_singlet/02-Analysis/phase_transition/test.ipynb#ch0000007?line=128'>129</a>\u001b[0m trigger\u001b[39m=\u001b[39m\u001b[39mself\u001b[39;49m\u001b[39m.\u001b[39;49mS_over_T(Ttest)\n\u001b[1;32m    <a href='vscode-notebook-cell:/Users/isaac/Dropbox/Research_Project/2022-1-SFOPT_light_singlet/02-Analysis/phase_transition/test.ipynb#ch0000007?line=129'>130</a>\u001b[0m \u001b[39mprint\u001b[39m(\u001b[39m\"\u001b[39m\u001b[39mS3/T=\u001b[39m\u001b[39m\"\u001b[39m\u001b[39m+\u001b[39m \u001b[39mstr\u001b[39m(trigger))\n\u001b[1;32m    <a href='vscode-notebook-cell:/Users/isaac/Dropbox/Research_Project/2022-1-SFOPT_light_singlet/02-Analysis/phase_transition/test.ipynb#ch0000007?line=130'>131</a>\u001b[0m \u001b[39mlist\u001b[39m\u001b[39m.\u001b[39mappend([Ttest,trigger])\n",
      "\u001b[1;32m/Users/isaac/Dropbox/Research_Project/2022-1-SFOPT_light_singlet/02-Analysis/phase_transition/test.ipynb Cell 8'\u001b[0m in \u001b[0;36mmodel.S_over_T\u001b[0;34m(self, T)\u001b[0m\n\u001b[1;32m     <a href='vscode-notebook-cell:/Users/isaac/Dropbox/Research_Project/2022-1-SFOPT_light_singlet/02-Analysis/phase_transition/test.ipynb#ch0000007?line=87'>88</a>\u001b[0m \u001b[39mdef\u001b[39;00m \u001b[39mS_over_T\u001b[39m(\u001b[39mself\u001b[39m,T):\n\u001b[1;32m     <a href='vscode-notebook-cell:/Users/isaac/Dropbox/Research_Project/2022-1-SFOPT_light_singlet/02-Analysis/phase_transition/test.ipynb#ch0000007?line=88'>89</a>\u001b[0m     Tv\u001b[39m=\u001b[39mT\n\u001b[0;32m---> <a href='vscode-notebook-cell:/Users/isaac/Dropbox/Research_Project/2022-1-SFOPT_light_singlet/02-Analysis/phase_transition/test.ipynb#ch0000007?line=89'>90</a>\u001b[0m     ST\u001b[39m=\u001b[39m\u001b[39mself\u001b[39;49m\u001b[39m.\u001b[39;49mtunneling_at_T(T\u001b[39m=\u001b[39;49mTv)\u001b[39m.\u001b[39maction\u001b[39m/\u001b[39mTv\n\u001b[1;32m     <a href='vscode-notebook-cell:/Users/isaac/Dropbox/Research_Project/2022-1-SFOPT_light_singlet/02-Analysis/phase_transition/test.ipynb#ch0000007?line=90'>91</a>\u001b[0m     \u001b[39mreturn\u001b[39;00m ST\n",
      "\u001b[1;32m/Users/isaac/Dropbox/Research_Project/2022-1-SFOPT_light_singlet/02-Analysis/phase_transition/test.ipynb Cell 8'\u001b[0m in \u001b[0;36mmodel.tunneling_at_T\u001b[0;34m(self, T)\u001b[0m\n\u001b[1;32m     <a href='vscode-notebook-cell:/Users/isaac/Dropbox/Research_Project/2022-1-SFOPT_light_singlet/02-Analysis/phase_transition/test.ipynb#ch0000007?line=82'>83</a>\u001b[0m \u001b[39mdef\u001b[39;00m \u001b[39mdV_\u001b[39m(x, T\u001b[39m=\u001b[39mT, dV\u001b[39m=\u001b[39m\u001b[39mself\u001b[39m\u001b[39m.\u001b[39mgradV):\n\u001b[1;32m     <a href='vscode-notebook-cell:/Users/isaac/Dropbox/Research_Project/2022-1-SFOPT_light_singlet/02-Analysis/phase_transition/test.ipynb#ch0000007?line=83'>84</a>\u001b[0m     \u001b[39mreturn\u001b[39;00m dV(x,T)\n\u001b[0;32m---> <a href='vscode-notebook-cell:/Users/isaac/Dropbox/Research_Project/2022-1-SFOPT_light_singlet/02-Analysis/phase_transition/test.ipynb#ch0000007?line=84'>85</a>\u001b[0m tobj \u001b[39m=\u001b[39m pd\u001b[39m.\u001b[39;49mfullTunneling([[\u001b[39mself\u001b[39;49m\u001b[39m.\u001b[39;49mtruevev(T),\u001b[39mself\u001b[39;49m\u001b[39m.\u001b[39;49mSpath([\u001b[39mself\u001b[39;49m\u001b[39m.\u001b[39;49mtruevev(T)],T)],[\u001b[39m0.\u001b[39;49m,\u001b[39mself\u001b[39;49m\u001b[39m.\u001b[39;49mSpath([\u001b[39m0.\u001b[39;49m],T)]],V_,dV_)\n\u001b[1;32m     <a href='vscode-notebook-cell:/Users/isaac/Dropbox/Research_Project/2022-1-SFOPT_light_singlet/02-Analysis/phase_transition/test.ipynb#ch0000007?line=85'>86</a>\u001b[0m \u001b[39mreturn\u001b[39;00m tobj\n",
      "File \u001b[0;32m~/envs/base/lib/python3.9/site-packages/cosmoTransitions/pathDeformation.py:958\u001b[0m, in \u001b[0;36mfullTunneling\u001b[0;34m(path_pts, V, dV, maxiter, fixEndCutoff, save_all_steps, verbose, callback, callback_data, V_spline_samples, tunneling_class, tunneling_init_params, tunneling_findProfile_params, deformation_class, deformation_init_params, deformation_deform_params)\u001b[0m\n\u001b[1;32m    955\u001b[0m \u001b[39melse\u001b[39;00m:\n\u001b[1;32m    956\u001b[0m     tobj \u001b[39m=\u001b[39m tunneling_class(\u001b[39m0.0\u001b[39m, path\u001b[39m.\u001b[39mL, path\u001b[39m.\u001b[39mV, path\u001b[39m.\u001b[39mdV, \u001b[39mNone\u001b[39;00m,\n\u001b[1;32m    957\u001b[0m                            \u001b[39m*\u001b[39m\u001b[39m*\u001b[39mtunneling_init_params)\n\u001b[0;32m--> 958\u001b[0m profile1D \u001b[39m=\u001b[39m tobj\u001b[39m.\u001b[39;49mfindProfile(\u001b[39m*\u001b[39;49m\u001b[39m*\u001b[39;49mtunneling_findProfile_params)\n\u001b[1;32m    959\u001b[0m phi, dphi \u001b[39m=\u001b[39m profile1D\u001b[39m.\u001b[39mPhi, profile1D\u001b[39m.\u001b[39mdPhi\n\u001b[1;32m    960\u001b[0m phi, dphi \u001b[39m=\u001b[39m tobj\u001b[39m.\u001b[39mevenlySpacedPhi(phi, dphi, npoints\u001b[39m=\u001b[39m\u001b[39mlen\u001b[39m(phi),\n\u001b[1;32m    961\u001b[0m                                  fixAbs\u001b[39m=\u001b[39m\u001b[39mFalse\u001b[39;00m)\n",
      "File \u001b[0;32m~/envs/base/lib/python3.9/site-packages/cosmoTransitions/tunneling1D.py:709\u001b[0m, in \u001b[0;36mSingleFieldInstanton.findProfile\u001b[0;34m(self, xguess, xtol, phitol, thinCutoff, npoints, rmin, rmax, max_interior_pts)\u001b[0m\n\u001b[1;32m    707\u001b[0m r0 \u001b[39m=\u001b[39m r0_\n\u001b[1;32m    708\u001b[0m y0 \u001b[39m=\u001b[39m np\u001b[39m.\u001b[39marray([phi0, dphi0])\n\u001b[0;32m--> 709\u001b[0m rf, yf, ctype \u001b[39m=\u001b[39m \u001b[39mself\u001b[39;49m\u001b[39m.\u001b[39;49mintegrateProfile(r0, y0, \u001b[39m*\u001b[39;49mintegration_args)\n\u001b[1;32m    710\u001b[0m \u001b[39m# Check for overshoot, undershoot\u001b[39;00m\n\u001b[1;32m    711\u001b[0m \u001b[39mif\u001b[39;00m ctype \u001b[39m==\u001b[39m \u001b[39m\"\u001b[39m\u001b[39mconverged\u001b[39m\u001b[39m\"\u001b[39m:\n",
      "File \u001b[0;32m~/envs/base/lib/python3.9/site-packages/cosmoTransitions/tunneling1D.py:513\u001b[0m, in \u001b[0;36mSingleFieldInstanton.integrateProfile\u001b[0;34m(self, r0, y0, dr0, epsfrac, epsabs, drmin, rmax, *eqn_args)\u001b[0m\n\u001b[1;32m    510\u001b[0m f \u001b[39m=\u001b[39m cubicInterpFunction(y0, dr\u001b[39m*\u001b[39mdydr0, y1, dr\u001b[39m*\u001b[39mdydr1)\n\u001b[1;32m    511\u001b[0m \u001b[39mif\u001b[39;00m(y1[\u001b[39m1\u001b[39m]\u001b[39m*\u001b[39mysign \u001b[39m>\u001b[39m \u001b[39m0\u001b[39m):\n\u001b[1;32m    512\u001b[0m     \u001b[39m# Extrapolate to where dphi(r) = 0\u001b[39;00m\n\u001b[0;32m--> 513\u001b[0m     x \u001b[39m=\u001b[39m optimize\u001b[39m.\u001b[39;49mbrentq(\u001b[39mlambda\u001b[39;49;00m x: f(x)[\u001b[39m1\u001b[39;49m], \u001b[39m0\u001b[39;49m, \u001b[39m1\u001b[39;49m)\n\u001b[1;32m    514\u001b[0m     convergence_type \u001b[39m=\u001b[39m \u001b[39m\"\u001b[39m\u001b[39mundershoot\u001b[39m\u001b[39m\"\u001b[39m\n\u001b[1;32m    515\u001b[0m \u001b[39melse\u001b[39;00m:\n\u001b[1;32m    516\u001b[0m     \u001b[39m# Extrapolate to where phi(r) = phi_metaMin\u001b[39;00m\n",
      "File \u001b[0;32m~/envs/base/lib/python3.9/site-packages/scipy/optimize/_zeros_py.py:783\u001b[0m, in \u001b[0;36mbrentq\u001b[0;34m(f, a, b, args, xtol, rtol, maxiter, full_output, disp)\u001b[0m\n\u001b[1;32m    781\u001b[0m \u001b[39mif\u001b[39;00m rtol \u001b[39m<\u001b[39m _rtol:\n\u001b[1;32m    782\u001b[0m     \u001b[39mraise\u001b[39;00m \u001b[39mValueError\u001b[39;00m(\u001b[39m\"\u001b[39m\u001b[39mrtol too small (\u001b[39m\u001b[39m%g\u001b[39;00m\u001b[39m < \u001b[39m\u001b[39m%g\u001b[39;00m\u001b[39m)\u001b[39m\u001b[39m\"\u001b[39m \u001b[39m%\u001b[39m (rtol, _rtol))\n\u001b[0;32m--> 783\u001b[0m r \u001b[39m=\u001b[39m _zeros\u001b[39m.\u001b[39;49m_brentq(f, a, b, xtol, rtol, maxiter, args, full_output, disp)\n\u001b[1;32m    784\u001b[0m \u001b[39mreturn\u001b[39;00m results_c(full_output, r)\n",
      "\u001b[0;31mValueError\u001b[0m: f(a) and f(b) must have different signs"
     ]
    }
   ],
   "source": [
    "m.findTn()"
   ]
  },
  {
   "cell_type": "code",
   "execution_count": 27,
   "metadata": {},
   "outputs": [
    {
     "name": "stdout",
     "output_type": "stream",
     "text": [
      "Maximum number of deformation iterations reached.\n",
      "Deformation doesn't appear to be converging.Stopping at the point of best convergence.\n",
      "Deformation doesn't appear to be converging.Stopping at the point of best convergence.\n",
      "Path deformation converged. 56 steps. fRatio = 1.97813e-02\n"
     ]
    },
    {
     "name": "stderr",
     "output_type": "stream",
     "text": [
      "/Users/isaac/envs/base/lib/python3.9/site-packages/cosmoTransitions/tunneling1D.py:415: RuntimeWarning: overflow encountered in double_scalars\n",
      "  r *= 10\n"
     ]
    },
    {
     "name": "stdout",
     "output_type": "stream",
     "text": [
      "Path deformation converged. 45 steps. fRatio = 1.97907e-02\n",
      "Path deformation converged. 42 steps. fRatio = 1.99763e-02\n",
      "Path deformation converged. 16 steps. fRatio = 1.50866e-02\n",
      "Path deformation converged. 16 steps. fRatio = 1.90364e-02\n",
      "Path deformation converged. 21 steps. fRatio = 1.93156e-02\n",
      "Path deformation converged. 12 steps. fRatio = 1.94359e-02\n",
      "Path deformation converged. 11 steps. fRatio = 1.25497e-02\n",
      "Path deformation converged. 10 steps. fRatio = 1.90879e-02\n",
      "Path deformation converged. 10 steps. fRatio = 1.96464e-02\n",
      "Path deformation converged. 10 steps. fRatio = 1.91538e-02\n",
      "Path deformation converged. 10 steps. fRatio = 1.94499e-02\n",
      "Path deformation converged. 10 steps. fRatio = 1.91326e-02\n",
      "Path deformation converged. 10 steps. fRatio = 1.90238e-02\n",
      "Path deformation converged. 11 steps. fRatio = 1.50421e-02\n",
      "Path deformation converged. 10 steps. fRatio = 1.91795e-02\n",
      "Path deformation converged. 10 steps. fRatio = 1.96862e-02\n",
      "Path deformation converged. 10 steps. fRatio = 1.97097e-02\n",
      "39.622001\n",
      "921.534001940438\n",
      "Maximum number of deformation iterations reached.\n",
      "Deformation doesn't appear to be converging.Stopping at the point of best convergence.\n",
      "Deformation doesn't appear to be converging.Stopping at the point of best convergence.\n",
      "Path deformation converged. 38 steps. fRatio = 1.87805e-02\n",
      "Path deformation converged. 38 steps. fRatio = 1.85313e-02\n",
      "Path deformation converged. 41 steps. fRatio = 1.20866e-02\n",
      "Path deformation converged. 14 steps. fRatio = 1.89313e-02\n",
      "Path deformation converged. 11 steps. fRatio = 1.80976e-02\n",
      "Path deformation converged. 11 steps. fRatio = 1.56985e-02\n",
      "Path deformation converged. 10 steps. fRatio = 1.93296e-02\n",
      "Path deformation converged. 10 steps. fRatio = 1.90752e-02\n",
      "Path deformation converged. 10 steps. fRatio = 1.87971e-02\n",
      "Path deformation converged. 11 steps. fRatio = 1.03734e-02\n",
      "Path deformation converged. 10 steps. fRatio = 1.89532e-02\n",
      "Path deformation converged. 10 steps. fRatio = 1.84557e-02\n",
      "Path deformation converged. 10 steps. fRatio = 1.91893e-02\n",
      "Path deformation converged. 10 steps. fRatio = 1.87677e-02\n",
      "Path deformation converged. 10 steps. fRatio = 1.96345e-02\n",
      "Path deformation converged. 10 steps. fRatio = 1.91596e-02\n",
      "Path deformation converged. 10 steps. fRatio = 1.96852e-02\n",
      "Path deformation converged. 10 steps. fRatio = 1.87102e-02\n",
      "39.621601\n",
      "681.3944055051583\n",
      "Maximum number of deformation iterations reached.\n",
      "Deformation doesn't appear to be converging.Stopping at the point of best convergence.\n",
      "Deformation doesn't appear to be converging.Stopping at the point of best convergence.\n",
      "Path deformation converged. 44 steps. fRatio = 1.81386e-02\n",
      "Path deformation converged. 24 steps. fRatio = 1.92712e-02\n",
      "Path deformation converged. 32 steps. fRatio = 8.94658e-03\n",
      "Path deformation converged. 16 steps. fRatio = 1.96117e-02\n",
      "Path deformation converged. 12 steps. fRatio = 1.40455e-02\n"
     ]
    },
    {
     "name": "stderr",
     "output_type": "stream",
     "text": [
      "/Users/isaac/envs/base/lib/python3.9/site-packages/cosmoTransitions/tunneling1D.py:415: RuntimeWarning: overflow encountered in double_scalars\n",
      "  r *= 10\n"
     ]
    },
    {
     "name": "stdout",
     "output_type": "stream",
     "text": [
      "Deformation doesn't appear to be converging.Stopping at the point of best convergence.\n",
      "Deformation doesn't appear to be converging.Stopping at the point of best convergence.\n",
      "Path deformation converged. 117 steps. fRatio = 1.89731e-02\n",
      "Path deformation converged. 9 steps. fRatio = 1.81860e-02\n",
      "Path deformation converged. 21 steps. fRatio = 1.41695e-02\n",
      "Path deformation converged. 10 steps. fRatio = 1.97946e-02\n",
      "Path deformation converged. 10 steps. fRatio = 1.98704e-02\n",
      "Path deformation converged. 10 steps. fRatio = 1.73273e-02\n",
      "Path deformation converged. 10 steps. fRatio = 1.87529e-02\n",
      "Path deformation converged. 10 steps. fRatio = 1.89222e-02\n",
      "Path deformation converged. 10 steps. fRatio = 1.80320e-02\n",
      "Path deformation converged. 11 steps. fRatio = 1.09153e-02\n",
      "Deformation doesn't appear to be converging.Stopping at the point of best convergence.\n",
      "Deformation doesn't appear to be converging.Stopping at the point of best convergence.\n",
      "Path deformation converged. 38 steps. fRatio = 1.99317e-02\n",
      "39.621201\n",
      "4007.07347788734\n",
      "Maximum number of deformation iterations reached.\n",
      "Deformation doesn't appear to be converging.Stopping at the point of best convergence.\n",
      "Deformation doesn't appear to be converging.Stopping at the point of best convergence.\n",
      "Path deformation converged. 62 steps. fRatio = 1.78982e-02\n",
      "Path deformation converged. 24 steps. fRatio = 1.94196e-02\n",
      "Path deformation converged. 15 steps. fRatio = 1.60115e-02\n",
      "Path deformation converged. 18 steps. fRatio = 1.85230e-02\n",
      "Path deformation converged. 22 steps. fRatio = 1.52514e-02\n",
      "Path deformation converged. 11 steps. fRatio = 1.51331e-02\n",
      "Path deformation converged. 44 steps. fRatio = 1.96803e-02\n",
      "Path deformation converged. 35 steps. fRatio = 1.68703e-02\n",
      "Path deformation converged. 11 steps. fRatio = 1.78977e-02\n",
      "Path deformation converged. 9 steps. fRatio = 1.87710e-02\n",
      "Path deformation converged. 15 steps. fRatio = 1.79290e-02\n",
      "Path deformation converged. 21 steps. fRatio = 1.70073e-02\n",
      "Path deformation converged. 11 steps. fRatio = 1.66488e-02\n",
      "Path deformation converged. 10 steps. fRatio = 1.96039e-02\n",
      "Path deformation converged. 10 steps. fRatio = 1.85780e-02\n",
      "Path deformation converged. 12 steps. fRatio = 1.89550e-02\n",
      "Path deformation converged. 10 steps. fRatio = 1.89365e-02\n",
      "Path deformation converged. 10 steps. fRatio = 1.65883e-02\n",
      "39.620801\n",
      "360.91491736584777\n",
      "Maximum number of deformation iterations reached.\n",
      "Deformation doesn't appear to be converging.Stopping at the point of best convergence.\n",
      "Deformation doesn't appear to be converging.Stopping at the point of best convergence.\n",
      "Path deformation converged. 35 steps. fRatio = 1.94634e-02\n",
      "Path deformation converged. 21 steps. fRatio = 1.45295e-02\n",
      "Path deformation converged. 16 steps. fRatio = 1.92634e-02\n",
      "Path deformation converged. 17 steps. fRatio = 1.83776e-02\n",
      "Path deformation converged. 13 steps. fRatio = 1.92269e-02\n",
      "Path deformation converged. 13 steps. fRatio = 1.79560e-02\n",
      "Path deformation converged. 29 steps. fRatio = 1.76939e-02\n",
      "Path deformation converged. 15 steps. fRatio = 1.68251e-02\n",
      "Path deformation converged. 21 steps. fRatio = 1.71051e-02\n",
      "Path deformation converged. 9 steps. fRatio = 1.98267e-02\n",
      "Path deformation converged. 10 steps. fRatio = 1.86338e-02\n",
      "Path deformation converged. 8 steps. fRatio = 1.72492e-02\n",
      "Path deformation converged. 10 steps. fRatio = 1.68901e-02\n",
      "Path deformation converged. 8 steps. fRatio = 1.89008e-02\n",
      "Path deformation converged. 11 steps. fRatio = 1.48722e-02\n",
      "Deformation doesn't appear to be converging.Stopping at the point of best convergence.\n",
      "Deformation doesn't appear to be converging.Stopping at the point of best convergence.\n",
      "Path deformation converged. 42 steps. fRatio = 1.87979e-02\n",
      "Path deformation converged. 20 steps. fRatio = 1.68187e-02\n",
      "39.620400999999994\n",
      "341.4777427450198\n",
      "Maximum number of deformation iterations reached.\n",
      "Deformation doesn't appear to be converging.Stopping at the point of best convergence.\n",
      "Deformation doesn't appear to be converging.Stopping at the point of best convergence.\n",
      "Path deformation converged. 42 steps. fRatio = 1.35772e-02\n",
      "Path deformation converged. 19 steps. fRatio = 1.27583e-02\n",
      "Path deformation converged. 17 steps. fRatio = 1.94621e-02\n",
      "Path deformation converged. 13 steps. fRatio = 1.95068e-02\n",
      "Path deformation converged. 11 steps. fRatio = 1.79118e-02\n",
      "Path deformation converged. 12 steps. fRatio = 1.31806e-02\n",
      "Path deformation converged. 13 steps. fRatio = 1.90763e-02\n",
      "Path deformation converged. 9 steps. fRatio = 1.79857e-02\n",
      "Path deformation converged. 10 steps. fRatio = 1.51481e-02\n",
      "Path deformation converged. 11 steps. fRatio = 1.14062e-02\n",
      "Path deformation converged. 10 steps. fRatio = 1.97117e-02\n",
      "Path deformation converged. 13 steps. fRatio = 1.74717e-02\n",
      "Path deformation converged. 10 steps. fRatio = 1.32878e-02\n",
      "Path deformation converged. 9 steps. fRatio = 1.82219e-02\n",
      "Path deformation converged. 11 steps. fRatio = 1.57247e-02\n",
      "Path deformation converged. 28 steps. fRatio = 1.48896e-02\n",
      "Path deformation converged. 10 steps. fRatio = 1.80435e-02\n",
      "Path deformation converged. 8 steps. fRatio = 1.97976e-02\n",
      "39.620000999999995\n",
      "180.10822415236242\n",
      "Maximum number of deformation iterations reached.\n",
      "Deformation doesn't appear to be converging.Stopping at the point of best convergence.\n",
      "Deformation doesn't appear to be converging.Stopping at the point of best convergence.\n",
      "Path deformation converged. 37 steps. fRatio = 1.45606e-02\n",
      "Path deformation converged. 24 steps. fRatio = 1.74057e-02\n",
      "Path deformation converged. 15 steps. fRatio = 1.47166e-02\n",
      "Path deformation converged. 12 steps. fRatio = 1.98976e-02\n",
      "Path deformation converged. 35 steps. fRatio = 1.77852e-02\n",
      "Path deformation converged. 11 steps. fRatio = 1.25411e-02\n",
      "Path deformation converged. 9 steps. fRatio = 1.69819e-02\n",
      "Path deformation converged. 9 steps. fRatio = 1.88772e-02\n",
      "Path deformation converged. 13 steps. fRatio = 1.92573e-02\n",
      "Path deformation converged. 13 steps. fRatio = 1.88315e-02\n",
      "Path deformation converged. 21 steps. fRatio = 1.54572e-02\n",
      "Path deformation converged. 19 steps. fRatio = 1.97351e-02\n",
      "Path deformation converged. 9 steps. fRatio = 1.98437e-02\n",
      "Path deformation converged. 17 steps. fRatio = 1.79893e-02\n",
      "Path deformation converged. 9 steps. fRatio = 1.65473e-02\n",
      "Path deformation converged. 10 steps. fRatio = 1.89999e-02\n",
      "Path deformation converged. 12 steps. fRatio = 1.86751e-02\n",
      "Path deformation converged. 10 steps. fRatio = 1.84301e-02\n",
      "39.619600999999996\n",
      "121.6311500559739\n",
      "39.619974882131295\n"
     ]
    }
   ],
   "source": [
    "T_start = 39.622001\n",
    "Teps=0.0004\n",
    "list= []\n",
    "for i in range(0,100):\n",
    "    Ttest = T_start - i*Teps\n",
    "    action=m.tunneling_at_T(Ttest).action/Ttest\n",
    "    print(Ttest)\n",
    "    list.append([Ttest,action])\n",
    "    print(action)\n",
    "    if action <= 140:\n",
    "        break\n",
    "list = np.array(list).transpose().tolist()\n",
    "Tlist = list[0]\n",
    "actionlist = [i-140 for i in list[1]]\n",
    "f=interpolate.interp1d(Tlist,actionlist,kind='cubic')\n",
    "Tn=optimize.brentq(f,Tlist[-2],Tlist[-1],disp=False, xtol=1e-5, rtol=1e-6)\n",
    "print(Tn)"
   ]
  },
  {
   "cell_type": "code",
   "execution_count": 13,
   "metadata": {},
   "outputs": [
    {
     "name": "stdout",
     "output_type": "stream",
     "text": [
      "Maximum number of deformation iterations reached.\n",
      "Deformation doesn't appear to be converging.Stopping at the point of best convergence.\n",
      "Deformation doesn't appear to be converging.Stopping at the point of best convergence.\n",
      "Path deformation converged. 53 steps. fRatio = 1.97854e-02\n",
      "Path deformation converged. 20 steps. fRatio = 1.50199e-02\n",
      "Path deformation converged. 23 steps. fRatio = 1.97045e-02\n",
      "Path deformation converged. 19 steps. fRatio = 1.66921e-02\n",
      "Path deformation converged. 14 steps. fRatio = 1.93866e-02\n",
      "Path deformation converged. 13 steps. fRatio = 1.90098e-02\n",
      "Path deformation converged. 15 steps. fRatio = 9.88371e-03\n",
      "Path deformation converged. 11 steps. fRatio = 1.08505e-02\n",
      "Deformation doesn't appear to be converging.Stopping at the point of best convergence.\n",
      "Deformation doesn't appear to be converging.Stopping at the point of best convergence.\n",
      "Path deformation converged. 10 steps. fRatio = 1.94502e-02\n",
      "Path deformation converged. 12 steps. fRatio = 1.96315e-02\n",
      "Path deformation converged. 10 steps. fRatio = 1.99176e-02\n",
      "Path deformation converged. 10 steps. fRatio = 1.96191e-02\n",
      "Path deformation converged. 11 steps. fRatio = 1.13283e-02\n",
      "Deformation doesn't appear to be converging.Stopping at the point of best convergence.\n",
      "Deformation doesn't appear to be converging.Stopping at the point of best convergence.\n",
      "Path deformation converged. 59 steps. fRatio = 1.93478e-02\n",
      "Path deformation converged. 21 steps. fRatio = 1.58926e-02\n",
      "Path deformation converged. 26 steps. fRatio = 1.39232e-02\n",
      "951.9985955002031\n"
     ]
    }
   ],
   "source": [
    "Ttest=39.62204698264353\n",
    "print(m.tunneling_at_T(T=Ttest).action/Ttest)"
   ]
  },
  {
   "cell_type": "code",
   "execution_count": 207,
   "metadata": {},
   "outputs": [
    {
     "name": "stdout",
     "output_type": "stream",
     "text": [
      "36.96634504406145\n"
     ]
    }
   ],
   "source": [
    "list = np.array([[36.968,592.7331645487484],[36.9671111,300.98961160877667],[36.966711,202.72919071012572],[36.966,106.53174389803107]]).transpose().tolist()\n",
    "Tlist = list[0]\n",
    "actionlist = [i-140 for i in list[1]]\n",
    "f=interpolate.interp1d(Tlist,actionlist,kind='cubic')\n",
    "Tn=optimize.brentq(f,36.967,36.966,disp=False, xtol=1e-5, rtol=1e-6)\n",
    "print(Tn)"
   ]
  },
  {
   "cell_type": "code",
   "execution_count": 89,
   "metadata": {},
   "outputs": [],
   "source": [
    "import matplotlib.pyplot as plt"
   ]
  },
  {
   "cell_type": "code",
   "execution_count": 96,
   "metadata": {},
   "outputs": [
    {
     "data": {
      "text/plain": [
       "array(32.70515374)"
      ]
     },
     "execution_count": 96,
     "metadata": {},
     "output_type": "execute_result"
    }
   ],
   "source": [
    "f(41.3171)"
   ]
  },
  {
   "cell_type": "code",
   "execution_count": 25,
   "metadata": {},
   "outputs": [
    {
     "name": "stdout",
     "output_type": "stream",
     "text": [
      "54608227.79597033\n"
     ]
    }
   ],
   "source": [
    "Tnuc = 39.619974882131295\n",
    "eps = 0.5*(Tnuc-Tlist[-1])*.99\n",
    "dev = (f(Tnuc - 2.*eps) - 8.*f(Tnuc - eps) + 8.*f(Tnuc+eps) - f(Tnuc + 2.*eps))/(12.*eps)\n",
    "print(dev*Tnuc)"
   ]
  },
  {
   "cell_type": "code",
   "execution_count": 154,
   "metadata": {},
   "outputs": [
    {
     "name": "stdout",
     "output_type": "stream",
     "text": [
      "Finding nucleation temperature for 1d case...\n",
      "Path deformation converged. 1 steps. fRatio = 6.92572e-14\n",
      "Path deformation converged. 1 steps. fRatio = 7.84080e-14\n",
      "Path deformation converged. 1 steps. fRatio = 9.23429e-14\n",
      "Path deformation converged. 1 steps. fRatio = 7.84080e-14\n",
      "Path deformation converged. 1 steps. fRatio = 1.23726e-13\n",
      "Path deformation converged. 1 steps. fRatio = 9.55380e-14\n",
      "Path deformation converged. 1 steps. fRatio = 9.60428e-14\n",
      "Path deformation converged. 1 steps. fRatio = 9.59635e-14\n",
      "Path deformation converged. 1 steps. fRatio = 1.01959e-13\n",
      "Path deformation converged. 1 steps. fRatio = 7.19713e-14\n",
      "Path deformation converged. 1 steps. fRatio = 1.19952e-13\n",
      "Path deformation converged. 1 steps. fRatio = 7.19713e-14\n",
      "Path deformation converged. 1 steps. fRatio = 7.19713e-14\n",
      "Path deformation converged. 1 steps. fRatio = 7.19772e-14\n",
      "Path deformation converged. 1 steps. fRatio = 1.67941e-13\n",
      "Path deformation converged. 1 steps. fRatio = 9.59573e-14\n",
      "Path deformation converged. 1 steps. fRatio = 5.99706e-14\n"
     ]
    },
    {
     "data": {
      "text/plain": [
       "183128.99746081745"
      ]
     },
     "execution_count": 154,
     "metadata": {},
     "output_type": "execute_result"
    }
   ],
   "source": [
    "m.beta_over_H_at_Tn_1d()"
   ]
  },
  {
   "cell_type": "code",
   "execution_count": 210,
   "metadata": {},
   "outputs": [
    {
     "data": {
      "text/plain": [
       "37.07572019262953"
      ]
     },
     "execution_count": 210,
     "metadata": {},
     "output_type": "execute_result"
    }
   ],
   "source": [
    "m.Tn1d"
   ]
  },
  {
   "cell_type": "code",
   "execution_count": 16,
   "metadata": {},
   "outputs": [
    {
     "name": "stdout",
     "output_type": "stream",
     "text": [
      "Finding nucleation temperature for 1d case...\n",
      "Path deformation converged. 1 steps. fRatio = 1.30535e-13\n",
      "Path deformation converged. 1 steps. fRatio = 6.26313e-14\n",
      "Path deformation converged. 1 steps. fRatio = 7.83212e-14\n",
      "Path deformation converged. 1 steps. fRatio = 6.26313e-14\n",
      "Path deformation converged. 1 steps. fRatio = 1.05780e-13\n",
      "Path deformation converged. 1 steps. fRatio = 5.25095e-14\n",
      "Path deformation converged. 1 steps. fRatio = 1.31187e-13\n",
      "Path deformation converged. 1 steps. fRatio = 5.24753e-14\n",
      "Path deformation converged. 1 steps. fRatio = 1.04951e-13\n",
      "Path deformation converged. 1 steps. fRatio = 1.04951e-13\n",
      "Path deformation converged. 1 steps. fRatio = 1.83664e-13\n",
      "Path deformation converged. 1 steps. fRatio = 5.24753e-14\n",
      "Path deformation converged. 1 steps. fRatio = 7.87129e-14\n",
      "Tunneling at T=39.664046982643534\n",
      "Maximum number of deformation iterations reached.\n",
      "Deformation doesn't appear to be converging.Stopping at the point of best convergence.\n",
      "Deformation doesn't appear to be converging.Stopping at the point of best convergence.\n",
      "Deformation doesn't appear to be converging.Stopping at the point of best convergence.\n",
      "Deformation doesn't appear to be converging.Stopping at the point of best convergence.\n",
      "Deformation doesn't appear to be converging.Stopping at the point of best convergence.\n",
      "Deformation doesn't appear to be converging.Stopping at the point of best convergence.\n",
      "Path deformation converged. 15 steps. fRatio = 1.44238e-02\n",
      "Path deformation converged. 1 steps. fRatio = 2.17181e-02\n",
      "S3/T=8746168.895112079\n",
      "Tunneling at T=39.65904698264353\n",
      "Maximum number of deformation iterations reached.\n",
      "Deformation doesn't appear to be converging.Stopping at the point of best convergence.\n",
      "Deformation doesn't appear to be converging.Stopping at the point of best convergence.\n",
      "Deformation doesn't appear to be converging.Stopping at the point of best convergence.\n",
      "Deformation doesn't appear to be converging.Stopping at the point of best convergence.\n",
      "Deformation doesn't appear to be converging.Stopping at the point of best convergence.\n",
      "Deformation doesn't appear to be converging.Stopping at the point of best convergence.\n",
      "Deformation doesn't appear to be converging.Stopping at the point of best convergence.\n",
      "Deformation doesn't appear to be converging.Stopping at the point of best convergence.\n",
      "Maximum number of deformation iterations reached.\n",
      "Deformation doesn't appear to be converging.Stopping at the point of best convergence.\n",
      "Deformation doesn't appear to be converging.Stopping at the point of best convergence.\n",
      "Path deformation converged. 17 steps. fRatio = 1.93301e-02\n",
      "Path deformation converged. 1 steps. fRatio = 4.82944e-02\n",
      "S3/T=5228401.350737161\n",
      "Tunneling at T=39.654046982643536\n",
      "Maximum number of deformation iterations reached.\n",
      "Deformation doesn't appear to be converging.Stopping at the point of best convergence.\n",
      "Deformation doesn't appear to be converging.Stopping at the point of best convergence.\n",
      "Maximum number of deformation iterations reached.\n",
      "Path deformation converged. 1 steps. fRatio = 4.15310e-02\n",
      "S3/T=2951213.0616856026\n",
      "Tunneling at T=39.64904698264353\n",
      "Maximum number of deformation iterations reached.\n",
      "Deformation doesn't appear to be converging.Stopping at the point of best convergence.\n",
      "Deformation doesn't appear to be converging.Stopping at the point of best convergence.\n",
      "Deformation doesn't appear to be converging.Stopping at the point of best convergence.\n",
      "Deformation doesn't appear to be converging.Stopping at the point of best convergence.\n",
      "Deformation doesn't appear to be converging.Stopping at the point of best convergence.\n",
      "Deformation doesn't appear to be converging.Stopping at the point of best convergence.\n",
      "Path deformation converged. 1 steps. fRatio = 3.11392e-02\n",
      "S3/T=1544790.656107085\n",
      "Tunneling at T=39.64404698264353\n",
      "Maximum number of deformation iterations reached.\n",
      "Deformation doesn't appear to be converging.Stopping at the point of best convergence.\n",
      "Deformation doesn't appear to be converging.Stopping at the point of best convergence.\n",
      "Deformation doesn't appear to be converging.Stopping at the point of best convergence.\n",
      "Deformation doesn't appear to be converging.Stopping at the point of best convergence.\n",
      "Path deformation converged. 1 steps. fRatio = 4.65875e-02\n",
      "S3/T=716862.4529464333\n",
      "Tunneling at T=39.639046982643535\n",
      "Maximum number of deformation iterations reached.\n",
      "Deformation doesn't appear to be converging.Stopping at the point of best convergence.\n",
      "Deformation doesn't appear to be converging.Stopping at the point of best convergence.\n",
      "Deformation doesn't appear to be converging.Stopping at the point of best convergence.\n",
      "Deformation doesn't appear to be converging.Stopping at the point of best convergence.\n",
      "Deformation doesn't appear to be converging.Stopping at the point of best convergence.\n",
      "Deformation doesn't appear to be converging.Stopping at the point of best convergence.\n",
      "Deformation doesn't appear to be converging.Stopping at the point of best convergence.\n",
      "Deformation doesn't appear to be converging.Stopping at the point of best convergence.\n",
      "Deformation doesn't appear to be converging.Stopping at the point of best convergence.\n",
      "Deformation doesn't appear to be converging.Stopping at the point of best convergence.\n",
      "Path deformation converged. 1 steps. fRatio = 7.95360e-02\n",
      "S3/T=302447.3813934343\n",
      "Tunneling at T=39.63404698264353\n",
      "Maximum number of deformation iterations reached.\n",
      "Deformation doesn't appear to be converging.Stopping at the point of best convergence.\n",
      "Deformation doesn't appear to be converging.Stopping at the point of best convergence.\n",
      "Deformation doesn't appear to be converging.Stopping at the point of best convergence.\n",
      "Deformation doesn't appear to be converging.Stopping at the point of best convergence.\n",
      "Deformation doesn't appear to be converging.Stopping at the point of best convergence.\n",
      "Deformation doesn't appear to be converging.Stopping at the point of best convergence.\n",
      "Deformation doesn't appear to be converging.Stopping at the point of best convergence.\n",
      "Deformation doesn't appear to be converging.Stopping at the point of best convergence.\n",
      "Deformation doesn't appear to be converging.Stopping at the point of best convergence.\n",
      "Deformation doesn't appear to be converging.Stopping at the point of best convergence.\n",
      "Deformation doesn't appear to be converging.Stopping at the point of best convergence.\n",
      "Deformation doesn't appear to be converging.Stopping at the point of best convergence.\n",
      "Deformation doesn't appear to be converging.Stopping at the point of best convergence.\n",
      "Deformation doesn't appear to be converging.Stopping at the point of best convergence.\n",
      "Deformation doesn't appear to be converging.Stopping at the point of best convergence.\n",
      "Deformation doesn't appear to be converging.Stopping at the point of best convergence.\n",
      "Deformation doesn't appear to be converging.Stopping at the point of best convergence.\n",
      "Deformation doesn't appear to be converging.Stopping at the point of best convergence.\n",
      "Deformation doesn't appear to be converging.Stopping at the point of best convergence.\n",
      "Deformation doesn't appear to be converging.Stopping at the point of best convergence.\n",
      "Deformation doesn't appear to be converging.Stopping at the point of best convergence.\n",
      "Deformation doesn't appear to be converging.Stopping at the point of best convergence.\n",
      "Deformation doesn't appear to be converging.Stopping at the point of best convergence.\n",
      "Deformation doesn't appear to be converging.Stopping at the point of best convergence.\n",
      "Deformation doesn't appear to be converging.Stopping at the point of best convergence.\n",
      "Deformation doesn't appear to be converging.Stopping at the point of best convergence.\n",
      "Deformation doesn't appear to be converging.Stopping at the point of best convergence.\n",
      "Deformation doesn't appear to be converging.Stopping at the point of best convergence.\n",
      "Deformation doesn't appear to be converging.Stopping at the point of best convergence.\n",
      "Deformation doesn't appear to be converging.Stopping at the point of best convergence.\n",
      "Deformation doesn't appear to be converging.Stopping at the point of best convergence.\n",
      "Deformation doesn't appear to be converging.Stopping at the point of best convergence.\n",
      "Deformation doesn't appear to be converging.Stopping at the point of best convergence.\n",
      "Deformation doesn't appear to be converging.Stopping at the point of best convergence.\n",
      "Deformation doesn't appear to be converging.Stopping at the point of best convergence.\n",
      "Deformation doesn't appear to be converging.Stopping at the point of best convergence.\n",
      "Deformation doesn't appear to be converging.Stopping at the point of best convergence.\n",
      "Deformation doesn't appear to be converging.Stopping at the point of best convergence.\n",
      "S3/T=109252.29555989831\n",
      "Tunneling at T=39.62904698264354\n",
      "Maximum number of deformation iterations reached.\n",
      "Deformation doesn't appear to be converging.Stopping at the point of best convergence.\n",
      "Deformation doesn't appear to be converging.Stopping at the point of best convergence.\n",
      "Deformation doesn't appear to be converging.Stopping at the point of best convergence.\n",
      "Deformation doesn't appear to be converging.Stopping at the point of best convergence.\n",
      "Deformation doesn't appear to be converging.Stopping at the point of best convergence.\n",
      "Deformation doesn't appear to be converging.Stopping at the point of best convergence.\n",
      "Deformation doesn't appear to be converging.Stopping at the point of best convergence.\n",
      "Deformation doesn't appear to be converging.Stopping at the point of best convergence.\n",
      "Deformation doesn't appear to be converging.Stopping at the point of best convergence.\n",
      "Deformation doesn't appear to be converging.Stopping at the point of best convergence.\n",
      "Deformation doesn't appear to be converging.Stopping at the point of best convergence.\n",
      "Deformation doesn't appear to be converging.Stopping at the point of best convergence.\n",
      "Deformation doesn't appear to be converging.Stopping at the point of best convergence.\n",
      "Deformation doesn't appear to be converging.Stopping at the point of best convergence.\n",
      "Deformation doesn't appear to be converging.Stopping at the point of best convergence.\n",
      "Deformation doesn't appear to be converging.Stopping at the point of best convergence.\n",
      "Deformation doesn't appear to be converging.Stopping at the point of best convergence.\n",
      "Deformation doesn't appear to be converging.Stopping at the point of best convergence.\n",
      "Deformation doesn't appear to be converging.Stopping at the point of best convergence.\n",
      "Deformation doesn't appear to be converging.Stopping at the point of best convergence.\n",
      "Deformation doesn't appear to be converging.Stopping at the point of best convergence.\n",
      "Deformation doesn't appear to be converging.Stopping at the point of best convergence.\n",
      "Deformation doesn't appear to be converging.Stopping at the point of best convergence.\n",
      "Deformation doesn't appear to be converging.Stopping at the point of best convergence.\n",
      "Deformation doesn't appear to be converging.Stopping at the point of best convergence.\n",
      "Deformation doesn't appear to be converging.Stopping at the point of best convergence.\n",
      "Deformation doesn't appear to be converging.Stopping at the point of best convergence.\n",
      "Deformation doesn't appear to be converging.Stopping at the point of best convergence.\n",
      "Deformation doesn't appear to be converging.Stopping at the point of best convergence.\n",
      "Deformation doesn't appear to be converging.Stopping at the point of best convergence.\n",
      "Deformation doesn't appear to be converging.Stopping at the point of best convergence.\n",
      "Deformation doesn't appear to be converging.Stopping at the point of best convergence.\n",
      "Deformation doesn't appear to be converging.Stopping at the point of best convergence.\n",
      "Deformation doesn't appear to be converging.Stopping at the point of best convergence.\n",
      "Deformation doesn't appear to be converging.Stopping at the point of best convergence.\n",
      "Deformation doesn't appear to be converging.Stopping at the point of best convergence.\n",
      "Deformation doesn't appear to be converging.Stopping at the point of best convergence.\n",
      "Deformation doesn't appear to be converging.Stopping at the point of best convergence.\n",
      "S3/T=26198.892733237557\n",
      "Tunneling at T=39.624046982643534\n",
      "Maximum number of deformation iterations reached.\n",
      "Path deformation converged. 149 steps. fRatio = 1.86045e-02\n",
      "Deformation doesn't appear to be converging.Stopping at the point of best convergence.\n",
      "Deformation doesn't appear to be converging.Stopping at the point of best convergence.\n",
      "Path deformation converged. 62 steps. fRatio = 1.99432e-02\n",
      "Deformation doesn't appear to be converging.Stopping at the point of best convergence.\n",
      "Deformation doesn't appear to be converging.Stopping at the point of best convergence.\n"
     ]
    },
    {
     "name": "stderr",
     "output_type": "stream",
     "text": [
      "/Users/isaac/envs/base/lib/python3.9/site-packages/cosmoTransitions/tunneling1D.py:415: RuntimeWarning: overflow encountered in double_scalars\n",
      "  r *= 10\n"
     ]
    },
    {
     "name": "stdout",
     "output_type": "stream",
     "text": [
      "Deformation doesn't appear to be converging.Stopping at the point of best convergence.\n",
      "Deformation doesn't appear to be converging.Stopping at the point of best convergence.\n",
      "Deformation doesn't appear to be converging.Stopping at the point of best convergence.\n",
      "Deformation doesn't appear to be converging.Stopping at the point of best convergence.\n"
     ]
    },
    {
     "ename": "ValueError",
     "evalue": "f(a) and f(b) must have different signs",
     "output_type": "error",
     "traceback": [
      "\u001b[0;31m---------------------------------------------------------------------------\u001b[0m",
      "\u001b[0;31mValueError\u001b[0m                                Traceback (most recent call last)",
      "\u001b[1;32m/Users/isaac/Dropbox/Research_Project/2022-1-SFOPT_light_singlet/02-Analysis/phase_transition/test.ipynb Cell 20'\u001b[0m in \u001b[0;36m<cell line: 1>\u001b[0;34m()\u001b[0m\n\u001b[0;32m----> <a href='vscode-notebook-cell:/Users/isaac/Dropbox/Research_Project/2022-1-SFOPT_light_singlet/02-Analysis/phase_transition/test.ipynb#ch0000019?line=0'>1</a>\u001b[0m m\u001b[39m.\u001b[39;49mfindTn()\n",
      "\u001b[1;32m/Users/isaac/Dropbox/Research_Project/2022-1-SFOPT_light_singlet/02-Analysis/phase_transition/test.ipynb Cell 8'\u001b[0m in \u001b[0;36mmodel.findTn\u001b[0;34m(self)\u001b[0m\n\u001b[1;32m    <a href='vscode-notebook-cell:/Users/isaac/Dropbox/Research_Project/2022-1-SFOPT_light_singlet/02-Analysis/phase_transition/test.ipynb#ch0000007?line=137'>138</a>\u001b[0m \u001b[39mdef\u001b[39;00m \u001b[39mfindTn\u001b[39m(\u001b[39mself\u001b[39m):\n\u001b[0;32m--> <a href='vscode-notebook-cell:/Users/isaac/Dropbox/Research_Project/2022-1-SFOPT_light_singlet/02-Analysis/phase_transition/test.ipynb#ch0000007?line=138'>139</a>\u001b[0m     \u001b[39mself\u001b[39;49m\u001b[39m.\u001b[39;49mtrace_action()\n\u001b[1;32m    <a href='vscode-notebook-cell:/Users/isaac/Dropbox/Research_Project/2022-1-SFOPT_light_singlet/02-Analysis/phase_transition/test.ipynb#ch0000007?line=139'>140</a>\u001b[0m     Tlist\u001b[39m=\u001b[39m\u001b[39mself\u001b[39m\u001b[39m.\u001b[39maction_trace_data[\u001b[39m0\u001b[39m]\n\u001b[1;32m    <a href='vscode-notebook-cell:/Users/isaac/Dropbox/Research_Project/2022-1-SFOPT_light_singlet/02-Analysis/phase_transition/test.ipynb#ch0000007?line=140'>141</a>\u001b[0m     log_action \u001b[39m=\u001b[39m [np\u001b[39m.\u001b[39mlog10(i)\u001b[39m-\u001b[39mnp\u001b[39m.\u001b[39mlog10(\u001b[39m140\u001b[39m) \u001b[39mfor\u001b[39;00m i \u001b[39min\u001b[39;00m \u001b[39mself\u001b[39m\u001b[39m.\u001b[39maction_trace_data[\u001b[39m1\u001b[39m]]\n",
      "\u001b[1;32m/Users/isaac/Dropbox/Research_Project/2022-1-SFOPT_light_singlet/02-Analysis/phase_transition/test.ipynb Cell 8'\u001b[0m in \u001b[0;36mmodel.trace_action\u001b[0;34m(self)\u001b[0m\n\u001b[1;32m    <a href='vscode-notebook-cell:/Users/isaac/Dropbox/Research_Project/2022-1-SFOPT_light_singlet/02-Analysis/phase_transition/test.ipynb#ch0000007?line=126'>127</a>\u001b[0m Ttest\u001b[39m=\u001b[39mTmax\u001b[39m-\u001b[39mi\u001b[39m*\u001b[39meps\n\u001b[1;32m    <a href='vscode-notebook-cell:/Users/isaac/Dropbox/Research_Project/2022-1-SFOPT_light_singlet/02-Analysis/phase_transition/test.ipynb#ch0000007?line=127'>128</a>\u001b[0m \u001b[39mprint\u001b[39m(\u001b[39m\"\u001b[39m\u001b[39mTunneling at T=\u001b[39m\u001b[39m\"\u001b[39m \u001b[39m+\u001b[39m \u001b[39mstr\u001b[39m(Ttest))\n\u001b[0;32m--> <a href='vscode-notebook-cell:/Users/isaac/Dropbox/Research_Project/2022-1-SFOPT_light_singlet/02-Analysis/phase_transition/test.ipynb#ch0000007?line=128'>129</a>\u001b[0m trigger\u001b[39m=\u001b[39m\u001b[39mself\u001b[39;49m\u001b[39m.\u001b[39;49mS_over_T(Ttest)\n\u001b[1;32m    <a href='vscode-notebook-cell:/Users/isaac/Dropbox/Research_Project/2022-1-SFOPT_light_singlet/02-Analysis/phase_transition/test.ipynb#ch0000007?line=129'>130</a>\u001b[0m \u001b[39mprint\u001b[39m(\u001b[39m\"\u001b[39m\u001b[39mS3/T=\u001b[39m\u001b[39m\"\u001b[39m\u001b[39m+\u001b[39m \u001b[39mstr\u001b[39m(trigger))\n\u001b[1;32m    <a href='vscode-notebook-cell:/Users/isaac/Dropbox/Research_Project/2022-1-SFOPT_light_singlet/02-Analysis/phase_transition/test.ipynb#ch0000007?line=130'>131</a>\u001b[0m \u001b[39mlist\u001b[39m\u001b[39m.\u001b[39mappend([Ttest,trigger])\n",
      "\u001b[1;32m/Users/isaac/Dropbox/Research_Project/2022-1-SFOPT_light_singlet/02-Analysis/phase_transition/test.ipynb Cell 8'\u001b[0m in \u001b[0;36mmodel.S_over_T\u001b[0;34m(self, T)\u001b[0m\n\u001b[1;32m     <a href='vscode-notebook-cell:/Users/isaac/Dropbox/Research_Project/2022-1-SFOPT_light_singlet/02-Analysis/phase_transition/test.ipynb#ch0000007?line=87'>88</a>\u001b[0m \u001b[39mdef\u001b[39;00m \u001b[39mS_over_T\u001b[39m(\u001b[39mself\u001b[39m,T):\n\u001b[1;32m     <a href='vscode-notebook-cell:/Users/isaac/Dropbox/Research_Project/2022-1-SFOPT_light_singlet/02-Analysis/phase_transition/test.ipynb#ch0000007?line=88'>89</a>\u001b[0m     Tv\u001b[39m=\u001b[39mT\n\u001b[0;32m---> <a href='vscode-notebook-cell:/Users/isaac/Dropbox/Research_Project/2022-1-SFOPT_light_singlet/02-Analysis/phase_transition/test.ipynb#ch0000007?line=89'>90</a>\u001b[0m     ST\u001b[39m=\u001b[39m\u001b[39mself\u001b[39;49m\u001b[39m.\u001b[39;49mtunneling_at_T(T\u001b[39m=\u001b[39;49mTv)\u001b[39m.\u001b[39maction\u001b[39m/\u001b[39mTv\n\u001b[1;32m     <a href='vscode-notebook-cell:/Users/isaac/Dropbox/Research_Project/2022-1-SFOPT_light_singlet/02-Analysis/phase_transition/test.ipynb#ch0000007?line=90'>91</a>\u001b[0m     \u001b[39mreturn\u001b[39;00m ST\n",
      "\u001b[1;32m/Users/isaac/Dropbox/Research_Project/2022-1-SFOPT_light_singlet/02-Analysis/phase_transition/test.ipynb Cell 8'\u001b[0m in \u001b[0;36mmodel.tunneling_at_T\u001b[0;34m(self, T)\u001b[0m\n\u001b[1;32m     <a href='vscode-notebook-cell:/Users/isaac/Dropbox/Research_Project/2022-1-SFOPT_light_singlet/02-Analysis/phase_transition/test.ipynb#ch0000007?line=82'>83</a>\u001b[0m \u001b[39mdef\u001b[39;00m \u001b[39mdV_\u001b[39m(x, T\u001b[39m=\u001b[39mT, dV\u001b[39m=\u001b[39m\u001b[39mself\u001b[39m\u001b[39m.\u001b[39mgradV):\n\u001b[1;32m     <a href='vscode-notebook-cell:/Users/isaac/Dropbox/Research_Project/2022-1-SFOPT_light_singlet/02-Analysis/phase_transition/test.ipynb#ch0000007?line=83'>84</a>\u001b[0m     \u001b[39mreturn\u001b[39;00m dV(x,T)\n\u001b[0;32m---> <a href='vscode-notebook-cell:/Users/isaac/Dropbox/Research_Project/2022-1-SFOPT_light_singlet/02-Analysis/phase_transition/test.ipynb#ch0000007?line=84'>85</a>\u001b[0m tobj \u001b[39m=\u001b[39m pd\u001b[39m.\u001b[39;49mfullTunneling([[\u001b[39mself\u001b[39;49m\u001b[39m.\u001b[39;49mtruevev(T),\u001b[39mself\u001b[39;49m\u001b[39m.\u001b[39;49mSpath([\u001b[39mself\u001b[39;49m\u001b[39m.\u001b[39;49mtruevev(T)],T)],[\u001b[39m0.\u001b[39;49m,\u001b[39mself\u001b[39;49m\u001b[39m.\u001b[39;49mSpath([\u001b[39m0.\u001b[39;49m],T)]],V_,dV_)\n\u001b[1;32m     <a href='vscode-notebook-cell:/Users/isaac/Dropbox/Research_Project/2022-1-SFOPT_light_singlet/02-Analysis/phase_transition/test.ipynb#ch0000007?line=85'>86</a>\u001b[0m \u001b[39mreturn\u001b[39;00m tobj\n",
      "File \u001b[0;32m~/envs/base/lib/python3.9/site-packages/cosmoTransitions/pathDeformation.py:958\u001b[0m, in \u001b[0;36mfullTunneling\u001b[0;34m(path_pts, V, dV, maxiter, fixEndCutoff, save_all_steps, verbose, callback, callback_data, V_spline_samples, tunneling_class, tunneling_init_params, tunneling_findProfile_params, deformation_class, deformation_init_params, deformation_deform_params)\u001b[0m\n\u001b[1;32m    955\u001b[0m \u001b[39melse\u001b[39;00m:\n\u001b[1;32m    956\u001b[0m     tobj \u001b[39m=\u001b[39m tunneling_class(\u001b[39m0.0\u001b[39m, path\u001b[39m.\u001b[39mL, path\u001b[39m.\u001b[39mV, path\u001b[39m.\u001b[39mdV, \u001b[39mNone\u001b[39;00m,\n\u001b[1;32m    957\u001b[0m                            \u001b[39m*\u001b[39m\u001b[39m*\u001b[39mtunneling_init_params)\n\u001b[0;32m--> 958\u001b[0m profile1D \u001b[39m=\u001b[39m tobj\u001b[39m.\u001b[39;49mfindProfile(\u001b[39m*\u001b[39;49m\u001b[39m*\u001b[39;49mtunneling_findProfile_params)\n\u001b[1;32m    959\u001b[0m phi, dphi \u001b[39m=\u001b[39m profile1D\u001b[39m.\u001b[39mPhi, profile1D\u001b[39m.\u001b[39mdPhi\n\u001b[1;32m    960\u001b[0m phi, dphi \u001b[39m=\u001b[39m tobj\u001b[39m.\u001b[39mevenlySpacedPhi(phi, dphi, npoints\u001b[39m=\u001b[39m\u001b[39mlen\u001b[39m(phi),\n\u001b[1;32m    961\u001b[0m                                  fixAbs\u001b[39m=\u001b[39m\u001b[39mFalse\u001b[39;00m)\n",
      "File \u001b[0;32m~/envs/base/lib/python3.9/site-packages/cosmoTransitions/tunneling1D.py:709\u001b[0m, in \u001b[0;36mSingleFieldInstanton.findProfile\u001b[0;34m(self, xguess, xtol, phitol, thinCutoff, npoints, rmin, rmax, max_interior_pts)\u001b[0m\n\u001b[1;32m    707\u001b[0m r0 \u001b[39m=\u001b[39m r0_\n\u001b[1;32m    708\u001b[0m y0 \u001b[39m=\u001b[39m np\u001b[39m.\u001b[39marray([phi0, dphi0])\n\u001b[0;32m--> 709\u001b[0m rf, yf, ctype \u001b[39m=\u001b[39m \u001b[39mself\u001b[39;49m\u001b[39m.\u001b[39;49mintegrateProfile(r0, y0, \u001b[39m*\u001b[39;49mintegration_args)\n\u001b[1;32m    710\u001b[0m \u001b[39m# Check for overshoot, undershoot\u001b[39;00m\n\u001b[1;32m    711\u001b[0m \u001b[39mif\u001b[39;00m ctype \u001b[39m==\u001b[39m \u001b[39m\"\u001b[39m\u001b[39mconverged\u001b[39m\u001b[39m\"\u001b[39m:\n",
      "File \u001b[0;32m~/envs/base/lib/python3.9/site-packages/cosmoTransitions/tunneling1D.py:513\u001b[0m, in \u001b[0;36mSingleFieldInstanton.integrateProfile\u001b[0;34m(self, r0, y0, dr0, epsfrac, epsabs, drmin, rmax, *eqn_args)\u001b[0m\n\u001b[1;32m    510\u001b[0m f \u001b[39m=\u001b[39m cubicInterpFunction(y0, dr\u001b[39m*\u001b[39mdydr0, y1, dr\u001b[39m*\u001b[39mdydr1)\n\u001b[1;32m    511\u001b[0m \u001b[39mif\u001b[39;00m(y1[\u001b[39m1\u001b[39m]\u001b[39m*\u001b[39mysign \u001b[39m>\u001b[39m \u001b[39m0\u001b[39m):\n\u001b[1;32m    512\u001b[0m     \u001b[39m# Extrapolate to where dphi(r) = 0\u001b[39;00m\n\u001b[0;32m--> 513\u001b[0m     x \u001b[39m=\u001b[39m optimize\u001b[39m.\u001b[39;49mbrentq(\u001b[39mlambda\u001b[39;49;00m x: f(x)[\u001b[39m1\u001b[39;49m], \u001b[39m0\u001b[39;49m, \u001b[39m1\u001b[39;49m)\n\u001b[1;32m    514\u001b[0m     convergence_type \u001b[39m=\u001b[39m \u001b[39m\"\u001b[39m\u001b[39mundershoot\u001b[39m\u001b[39m\"\u001b[39m\n\u001b[1;32m    515\u001b[0m \u001b[39melse\u001b[39;00m:\n\u001b[1;32m    516\u001b[0m     \u001b[39m# Extrapolate to where phi(r) = phi_metaMin\u001b[39;00m\n",
      "File \u001b[0;32m~/envs/base/lib/python3.9/site-packages/scipy/optimize/_zeros_py.py:783\u001b[0m, in \u001b[0;36mbrentq\u001b[0;34m(f, a, b, args, xtol, rtol, maxiter, full_output, disp)\u001b[0m\n\u001b[1;32m    781\u001b[0m \u001b[39mif\u001b[39;00m rtol \u001b[39m<\u001b[39m _rtol:\n\u001b[1;32m    782\u001b[0m     \u001b[39mraise\u001b[39;00m \u001b[39mValueError\u001b[39;00m(\u001b[39m\"\u001b[39m\u001b[39mrtol too small (\u001b[39m\u001b[39m%g\u001b[39;00m\u001b[39m < \u001b[39m\u001b[39m%g\u001b[39;00m\u001b[39m)\u001b[39m\u001b[39m\"\u001b[39m \u001b[39m%\u001b[39m (rtol, _rtol))\n\u001b[0;32m--> 783\u001b[0m r \u001b[39m=\u001b[39m _zeros\u001b[39m.\u001b[39;49m_brentq(f, a, b, xtol, rtol, maxiter, args, full_output, disp)\n\u001b[1;32m    784\u001b[0m \u001b[39mreturn\u001b[39;00m results_c(full_output, r)\n",
      "\u001b[0;31mValueError\u001b[0m: f(a) and f(b) must have different signs"
     ]
    }
   ],
   "source": [
    "m.findTn()"
   ]
  },
  {
   "cell_type": "code",
   "execution_count": 209,
   "metadata": {},
   "outputs": [
    {
     "name": "stdout",
     "output_type": "stream",
     "text": [
      "1.3087639644712996\n",
      "1.0516783925648414\n"
     ]
    }
   ],
   "source": [
    "m.Tn=36.96634504406145\n",
    "print(m.strength_Tn())\n",
    "print(m.strength_Tn1d())"
   ]
  },
  {
   "cell_type": "code",
   "execution_count": 214,
   "metadata": {},
   "outputs": [
    {
     "data": {
      "text/plain": [
       "1.2224406147071674"
      ]
     },
     "execution_count": 214,
     "metadata": {},
     "output_type": "execute_result"
    }
   ],
   "source": [
    "1.429040956/1.169006444"
   ]
  },
  {
   "cell_type": "code",
   "execution_count": 215,
   "metadata": {},
   "outputs": [
    {
     "data": {
      "text/plain": [
       "1.259866616886505"
      ]
     },
     "execution_count": 215,
     "metadata": {},
     "output_type": "execute_result"
    }
   ],
   "source": [
    "0.941659078/0.747427597"
   ]
  },
  {
   "cell_type": "code",
   "execution_count": 218,
   "metadata": {},
   "outputs": [
    {
     "data": {
      "text/plain": [
       "1.218035192351939"
      ]
     },
     "execution_count": 218,
     "metadata": {},
     "output_type": "execute_result"
    }
   ],
   "source": [
    "1.423890989/1.1690064441"
   ]
  },
  {
   "cell_type": "code",
   "execution_count": 39,
   "metadata": {},
   "outputs": [],
   "source": [
    "m.Tn=39.619974882131295"
   ]
  },
  {
   "cell_type": "code",
   "execution_count": 40,
   "metadata": {},
   "outputs": [
    {
     "data": {
      "text/plain": [
       "0.005770712843595349"
      ]
     },
     "execution_count": 40,
     "metadata": {},
     "output_type": "execute_result"
    }
   ],
   "source": [
    "m.alpha()"
   ]
  },
  {
   "cell_type": "code",
   "execution_count": null,
   "metadata": {},
   "outputs": [],
   "source": []
  }
 ],
 "metadata": {
  "kernelspec": {
   "display_name": "Python 3.9.10 ('base')",
   "language": "python",
   "name": "python3"
  },
  "language_info": {
   "codemirror_mode": {
    "name": "ipython",
    "version": 3
   },
   "file_extension": ".py",
   "mimetype": "text/x-python",
   "name": "python",
   "nbconvert_exporter": "python",
   "pygments_lexer": "ipython3",
   "version": "3.9.10"
  },
  "orig_nbformat": 4,
  "vscode": {
   "interpreter": {
    "hash": "d1fdd9000e0c5e4509e568fa85b190da3365b3c2a27cc0fa2efb4d17d7059255"
   }
  }
 },
 "nbformat": 4,
 "nbformat_minor": 2
}
