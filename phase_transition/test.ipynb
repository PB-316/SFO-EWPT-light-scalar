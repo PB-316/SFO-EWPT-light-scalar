{
 "cells": [
  {
   "cell_type": "markdown",
   "metadata": {},
   "source": [
    "# Phase Transitions"
   ]
  },
  {
   "cell_type": "markdown",
   "metadata": {},
   "source": [
    "This notebook implement the effective potential with manually made functions to solve for the nucleation temperature and other parameters."
   ]
  },
  {
   "cell_type": "code",
   "execution_count": 1,
   "metadata": {},
   "outputs": [],
   "source": [
    "import numpy as np\n",
    "from scipy import optimize\n",
    "from cosmoTransitions import generic_potential as gp\n",
    "from cosmoTransitions import pathDeformation as pd\n",
    "from scipy import interpolate\n",
    "from cosmoTransitions import helper_functions"
   ]
  },
  {
   "cell_type": "markdown",
   "metadata": {},
   "source": [
    "## Pre-definitions"
   ]
  },
  {
   "cell_type": "code",
   "execution_count": 2,
   "metadata": {},
   "outputs": [],
   "source": [
    "GF = 1.16637e-05\n",
    "v = 1/(np.sqrt(2*np.sqrt(2)*GF))\n",
    "mHSM = 125.13"
   ]
  },
  {
   "cell_type": "code",
   "execution_count": 3,
   "metadata": {},
   "outputs": [],
   "source": [
    "def muH2(mS, sintheta):\n",
    "    \"\"\"\\mu_H square\"\"\"\n",
    "    return 0.5*(mHSM**2 * (1-sintheta**2) + mS**2 * sintheta**2)\n",
    "\n",
    "def muS2(mS, sintheta):\n",
    "    \"\"\"\\mu_S square\"\"\"\n",
    "    return sintheta**2 * mHSM**2 + (1 - sintheta**2) * mS**2\n",
    "\n",
    "def A(mS, sintheta):\n",
    "    \"\"\"A parameter\"\"\"\n",
    "    nominator = (mHSM**2 - mS**2) * sintheta * np.sqrt(1-sintheta**2)\n",
    "    denominator = np.sqrt(2) * v\n",
    "    return nominator/denominator\n",
    "\n",
    "def lm(mS, sintheta):\n",
    "    \"\"\"\\lambda parameter\"\"\"\n",
    "    nominator = (1 - sintheta**2)*mHSM**2 + sintheta**2 * mS**2\n",
    "    return nominator/(4*v**2)\n",
    "\n",
    "def sintheta(mS, ft):\n",
    "    \"\"\"Solve the mixing angle according to find-tuning\"\"\"\n",
    "    return (mS**2*(1/ft-1)/(mHSM**2-mS**2))**0.5"
   ]
  },
  {
   "cell_type": "markdown",
   "metadata": {},
   "source": [
    "## The effective potential"
   ]
  },
  {
   "cell_type": "code",
   "execution_count": 4,
   "metadata": {},
   "outputs": [],
   "source": [
    "class model(gp.generic_potential):\n",
    "    def init(self, mS, sintheta):\n",
    "        self.Ndim = 2\n",
    "        self.Tmax = 100\n",
    "        self.mS = mS\n",
    "        self.sintheta = sintheta\n",
    "        self.lm = lm(self.mS, self.sintheta)\n",
    "        self.A = A(self.mS,self.sintheta)\n",
    "        self.muH2 = muH2(self.mS,self.sintheta)\n",
    "        self.muS2 = muS2(self.mS,self.sintheta)\n",
    "        self.g = 0.65\n",
    "        self.gY = 0.36\n",
    "        self.yt = 0.9945\n",
    "        self.D = (3*self.g**2 + self.gY**2 + 4*self.yt**2)/16.\n",
    "        self.E = (2*self.g**3+(self.g**2 + self.gY**2)**(3/2))/(48*np.pi)\n",
    "        self.cs = 1./3\n",
    "        self.Deff = self.D - self.cs * self.A**2/(4.*self.muS2)\n",
    "        self.lmeff = self.lm - self.A**2/(2*self.muS2)\n",
    "        self.T0 = np.sqrt(0.5*self.muH2 - v**2 * self.A**2 /(2*self.muS2))/np.sqrt(self.D - self.cs*self.A**2/(4*self.muS2))\n",
    "        self.Tc = self.T0*np.sqrt((self.Deff * self.lmeff)/(-self.E**2 + self.Deff*self.lmeff))\n",
    "        self.strength = 2*self.E/self.lmeff\n",
    "        self.Tn = False\n",
    "        self.Tn1d=False\n",
    "        self.action_trace_data=[]\n",
    "        self.T_eps=5e-4\n",
    "\n",
    "\n",
    "    def Vtot(self, X, T, include_radiation=True):\n",
    "        \"\"\"The total effective potential in the high-T expansion.\"\"\"\n",
    "        T = np.asanyarray(T, dtype=float)\n",
    "        X = np.asanyarray(X, dtype=float)\n",
    "        T2 = (T*T)+1e-100\n",
    "        phi1 = X[...,0]\n",
    "        phi2 = X[...,1]\n",
    "        y = self.D * T2 * phi1**2 - 0.5 * self.muH2 * phi1**2\n",
    "        y += - self.E * T * phi1**3\n",
    "        y += 0.25 * self.lm * phi1**4\n",
    "        y += 0.5*self.muS2*phi2**2 - 0.5 * self.A * (phi1**2 + self.cs * T2 - 2 * v**2)*phi2\n",
    "\n",
    "        return y\n",
    "\n",
    "    def Vtot1d(self, X, T, include_radiation=True):\n",
    "        T = np.asanyarray(T, dtype=float)\n",
    "        X = np.asanyarray(X, dtype=float)\n",
    "        T2 = (T*T) + 1e-100\n",
    "        phi1 = X[...,0]\n",
    "        y = self.Deff * T2 * phi1**2 - (0.5*self.muH2 - 0.5 * v**2 * self.A**2 / (self.muS2))*phi1**2\n",
    "        y += - self.E * T * phi1 **3\n",
    "        y += 0.25 * self.lmeff * phi1**4\n",
    "        return y\n",
    "\n",
    "    def truevev(self,T):\n",
    "        assert T < self.Tc\n",
    "        nominator = 3.* T * self.E + np.sqrt(9.*self.E**2 * T**2 + 8.*self.Deff * (self.T0**2 - T**2)*self.lmeff)\n",
    "        denominator = 2.*self.lmeff\n",
    "        return nominator/denominator\n",
    "\n",
    "    def Spath(self, X, T):\n",
    "        X = np.asanyarray(X)\n",
    "        T = np.asanyarray(T)\n",
    "        phi1 = X[...,0]\n",
    "        T2 = (T*T) + 1e-100\n",
    "        return 0.5*self.A*(phi1**2 + self.cs * T2 - 2 * v**2)/self.muS2\n",
    "\n",
    "    def gradV1d(self,X,T):\n",
    "        f=helper_functions.gradientFunction(self.Vtot1d, self.x_eps,1,self.deriv_order)\n",
    "        T = np.asanyarray(T)[...,np.newaxis, np.newaxis]\n",
    "        return f(X,T,False)\n",
    "\n",
    "    def tunneling_at_T_1d(self, T):\n",
    "        assert T < self.Tc\n",
    "        def V_(x, T=T, V=self.Vtot1d):\n",
    "            return V(x,T)\n",
    "        def dV_(x, T=T, dV=self.gradV1d):\n",
    "            return dV(x,T)\n",
    "        tobj = pd.fullTunneling([[self.truevev(T)],[0.]],V_,dV_)\n",
    "        return tobj\n",
    "\n",
    "    def tunneling_at_T(self,T):\n",
    "        assert T < self.Tc\n",
    "        def V_(x, T=T, V=self.Vtot):\n",
    "            return V(x,T)\n",
    "        def dV_(x, T=T, dV=self.gradV):\n",
    "            return dV(x,T)\n",
    "        tobj = pd.fullTunneling([[self.truevev(T),self.Spath([self.truevev(T)],T)],[0.,self.Spath([0.],T)]],V_,dV_)\n",
    "        return tobj \n",
    "\n",
    "    def S_over_T(self,T):\n",
    "        Tv=T\n",
    "        ST=self.tunneling_at_T(T=Tv).action/Tv\n",
    "        return ST\n",
    "\n",
    "    def findTn_1d(self):\n",
    "        print(\"Finding nucleation temperature for 1d case...\")\n",
    "        if self.mS<=0.1:\n",
    "            eps = 0.03\n",
    "        elif self.mS<=1:\n",
    "            eps=0.02\n",
    "        else: eps=0.01\n",
    "        def nuclea_trigger(Tv):\n",
    "            ST = self.tunneling_at_T_1d(T=Tv).action/Tv\n",
    "            return ST - 140.\n",
    "        for i in range(1,1000):\n",
    "            if nuclea_trigger(self.Tc - i*eps) <= 0.:\n",
    "                break\n",
    "        Tn1 = self.Tc - (i-1)*eps\n",
    "        self.Tn1d = optimize.brentq(nuclea_trigger,Tn1-1e-10, Tn1-eps,disp=False)\n",
    "\n",
    "    def trace_action(self):\n",
    "        if self.mS <= 0.01:\n",
    "            if self.Tn1d == False:\n",
    "                self.findTn_1d()\n",
    "            Tmax = 0.9985*self.Tn1d\n",
    "        elif self.mS <= 0.05:\n",
    "            if self.Tn1d == False:\n",
    "                self.findTn_1d()\n",
    "            Tmax = self.Tn1d-0.05\n",
    "        elif self.mS <= 1:\n",
    "            if self.Tn1d == False:\n",
    "                self.findTn_1d()\n",
    "            Tmax = self.Tn1d-0.01\n",
    "        else:\n",
    "            Tmax = self.Tc - 0.01\n",
    "        eps = 0.004\n",
    "        list = []\n",
    "        for i in range(0,1000):\n",
    "            Ttest=Tmax-i*eps\n",
    "            print(\"Tunneling at T=\" + str(Ttest))\n",
    "            trigger=self.S_over_T(Ttest)\n",
    "            print(\"S3/T=\"+ str(trigger))\n",
    "            list.append([Ttest,trigger])\n",
    "            if trigger< 140.:\n",
    "                break\n",
    "        Tmin = Ttest\n",
    "        print(\"Tnuc should be within \" + str(Tmin) + \" and \" + str(Tmin+eps))\n",
    "        self.action_trace_data=np.array(list).transpose().tolist()\n",
    "\n",
    "    def findTn(self):\n",
    "        self.trace_action()\n",
    "        Tlist=self.action_trace_data[0]\n",
    "        log_action = [np.log10(i)-np.log10(140) for i in self.action_trace_data[1]]\n",
    "        # trigger_list=[i-140 for i in self.action_trace_data[1]]\n",
    "        # Action_drop = interpolate.interp1d(Tlist,trigger_list, kind='cubic')\n",
    "        function = interpolate.interp1d(Tlist, log_action, kind='cubic')\n",
    "        # self.Tn = optimize.brentq(Action_drop, Tlist[-2], Tlist[-1],disp=False,xtol=1e-5,rtol=1e-6)\n",
    "        self.Tn = optimize.brentq(function, Tlist[-2], Tlist[-1],disp=False,xtol=1e-5,rtol=1e-6)\n",
    "\n",
    "    def strength_Tn(self):\n",
    "        if not self.Tn:\n",
    "            self.findTn()\n",
    "        Tnuc = self.Tn\n",
    "        return self.truevev(T=Tnuc) / Tnuc\n",
    "\n",
    "    def strength_Tn1d(self):\n",
    "        if not self.Tn1d:\n",
    "            self.findTn_1d()\n",
    "        Tnuc = self.Tn1d\n",
    "        return self.truevev(T=Tnuc) / Tnuc\n",
    "\n",
    "    def beta_over_H_at_Tn(self):\n",
    "        \"Ridders algorithm\"\n",
    "        if not self.Tn:\n",
    "            self.findTn()\n",
    "        Tnuc = self.Tn\n",
    "        if self.action_trace_data==[]:\n",
    "            self.trace_action()\n",
    "        Tlist=self.action_trace_data[0]\n",
    "        trigger_list=[i-140 for i in self.action_trace_data[1]]\n",
    "        Action_drop = interpolate.interp1d(Tlist,trigger_list, kind='cubic')\n",
    "        eps = 0.5*(Tnuc-Tlist[-1])*0.9\n",
    "        dev = (Action_drop(Tnuc-2.*eps) - 8.*Action_drop(Tnuc-eps) + 8.*Action_drop(Tnuc+eps)- Action_drop(Tnuc+2.*eps))/(12.*eps)\n",
    "        return dev*Tnuc\n",
    "\n",
    "    def beta_over_H_at_Tn_1d(self):\n",
    "        \"Ridders algorithm\"\n",
    "        if not self.Tn1d:\n",
    "            self.findTn_1d()\n",
    "        Tnuc = self.Tn1d\n",
    "        eps=1e-5\n",
    "        def SoverT(Tv):\n",
    "            ST = self.tunneling_at_T_1d(T=Tv).action/Tv\n",
    "            return ST\n",
    "        dev = (SoverT(Tnuc-2.*eps) - 8.*SoverT(Tnuc-eps) + 8.*SoverT(Tnuc+eps)- SoverT(Tnuc+2.*eps))/(12.*eps)\n",
    "        return dev*Tnuc\n",
    "\n",
    "    def alpha(self):\n",
    "        if not self.Tn:\n",
    "            self.findTn()\n",
    "        Tnuc = self.Tn\n",
    "        if self.Tc-Tnuc >=0.002: eps = 0.001\n",
    "        else: eps=0.0001\n",
    "        def deltaV(T):\n",
    "            falsev=[0,self.Spath([0],T)]\n",
    "            truev=[self.truevev(T=T),self.Spath([self.truevev(T=T)],T)]\n",
    "            return self.Vtot(falsev,T)-self.Vtot(truev,T)\n",
    "        dev = (deltaV(Tnuc-2*eps) - 8.*deltaV(Tnuc-eps) + 8.*deltaV(Tnuc+eps) - deltaV(Tnuc+2.*eps))/(12.*eps) # derivative of deltaV w.r.t T at Tn\n",
    "        latent=deltaV(Tnuc) - 0.25*Tnuc*dev\n",
    "        rho_crit = np.pi**2*106.75*Tnuc**4/30.\n",
    "        return latent/rho_crit\n",
    "\n",
    "    def approxZeroTMin(self):\n",
    "        return [np.array([2**0.5*v,0])]"
   ]
  },
  {
   "cell_type": "code",
   "execution_count": 5,
   "metadata": {},
   "outputs": [
    {
     "data": {
      "text/plain": [
       "0.00011987532975285767"
      ]
     },
     "execution_count": 5,
     "metadata": {},
     "output_type": "execute_result"
    }
   ],
   "source": [
    "sintheta(0.005,0.1)"
   ]
  },
  {
   "cell_type": "code",
   "execution_count": 6,
   "metadata": {},
   "outputs": [],
   "source": [
    "m=model(0.005,0.00012)"
   ]
  },
  {
   "cell_type": "code",
   "execution_count": 7,
   "metadata": {},
   "outputs": [
    {
     "name": "stdout",
     "output_type": "stream",
     "text": [
      "Finding nucleation temperature for 1d case...\n",
      "Path deformation converged. 1 steps. fRatio = 1.15320e-13\n",
      "Path deformation converged. 1 steps. fRatio = 6.52528e-14\n",
      "Path deformation converged. 1 steps. fRatio = 9.22563e-14\n",
      "Path deformation converged. 1 steps. fRatio = 6.52528e-14\n",
      "Path deformation converged. 1 steps. fRatio = 1.73102e-13\n",
      "Path deformation converged. 1 steps. fRatio = 7.16138e-14\n",
      "Path deformation converged. 1 steps. fRatio = 9.59848e-14\n",
      "Path deformation converged. 1 steps. fRatio = 7.19299e-14\n",
      "Path deformation converged. 1 steps. fRatio = 9.59040e-14\n",
      "Path deformation converged. 1 steps. fRatio = 7.19280e-14\n",
      "Path deformation converged. 1 steps. fRatio = 9.59047e-14\n",
      "Path deformation converged. 1 steps. fRatio = 7.19280e-14\n",
      "Path deformation converged. 1 steps. fRatio = 9.59040e-14\n",
      "Path deformation converged. 1 steps. fRatio = 9.59040e-14\n",
      "Path deformation converged. 1 steps. fRatio = 1.43856e-13\n",
      "Path deformation converged. 1 steps. fRatio = 1.43857e-13\n",
      "Path deformation converged. 1 steps. fRatio = 9.59040e-14\n",
      "Path deformation converged. 1 steps. fRatio = 7.19286e-14\n",
      "Path deformation converged. 1 steps. fRatio = 7.19280e-14\n",
      "Path deformation converged. 1 steps. fRatio = 9.59047e-14\n",
      "Path deformation converged. 1 steps. fRatio = 9.59040e-14\n",
      "Path deformation converged. 1 steps. fRatio = 7.19280e-14\n",
      "Path deformation converged. 1 steps. fRatio = 7.19286e-14\n",
      "Path deformation converged. 1 steps. fRatio = 7.19280e-14\n",
      "Path deformation converged. 1 steps. fRatio = 7.19286e-14\n",
      "Path deformation converged. 1 steps. fRatio = 9.59040e-14\n",
      "Path deformation converged. 1 steps. fRatio = 7.19280e-14\n",
      "Path deformation converged. 1 steps. fRatio = 7.19286e-14\n",
      "Path deformation converged. 1 steps. fRatio = 2.15784e-13\n",
      "Path deformation converged. 1 steps. fRatio = 7.19286e-14\n",
      "Path deformation converged. 1 steps. fRatio = 9.59040e-14\n",
      "Path deformation converged. 1 steps. fRatio = 1.19881e-13\n",
      "35.338349757676475\n"
     ]
    }
   ],
   "source": [
    "m.findTn_1d()\n",
    "print(m.Tn1d)"
   ]
  },
  {
   "cell_type": "code",
   "execution_count": 20,
   "metadata": {},
   "outputs": [
    {
     "name": "stdout",
     "output_type": "stream",
     "text": [
      "Tunneling at T=39.664046982643534\n",
      "Maximum number of deformation iterations reached.\n",
      "Deformation doesn't appear to be converging.Stopping at the point of best convergence.\n",
      "Deformation doesn't appear to be converging.Stopping at the point of best convergence.\n",
      "Deformation doesn't appear to be converging.Stopping at the point of best convergence.\n",
      "Deformation doesn't appear to be converging.Stopping at the point of best convergence.\n",
      "Deformation doesn't appear to be converging.Stopping at the point of best convergence.\n",
      "Deformation doesn't appear to be converging.Stopping at the point of best convergence.\n",
      "Path deformation converged. 15 steps. fRatio = 1.44238e-02\n",
      "Path deformation converged. 1 steps. fRatio = 2.17181e-02\n",
      "S3/T=8746168.895112079\n",
      "Tunneling at T=39.660046982643536\n",
      "Maximum number of deformation iterations reached.\n",
      "Deformation doesn't appear to be converging.Stopping at the point of best convergence.\n",
      "Deformation doesn't appear to be converging.Stopping at the point of best convergence.\n",
      "Deformation doesn't appear to be converging.Stopping at the point of best convergence.\n",
      "Deformation doesn't appear to be converging.Stopping at the point of best convergence.\n",
      "Deformation doesn't appear to be converging.Stopping at the point of best convergence.\n",
      "Deformation doesn't appear to be converging.Stopping at the point of best convergence.\n",
      "Deformation doesn't appear to be converging.Stopping at the point of best convergence.\n",
      "Deformation doesn't appear to be converging.Stopping at the point of best convergence.\n",
      "Deformation doesn't appear to be converging.Stopping at the point of best convergence.\n",
      "Deformation doesn't appear to be converging.Stopping at the point of best convergence.\n",
      "Deformation doesn't appear to be converging.Stopping at the point of best convergence.\n",
      "Deformation doesn't appear to be converging.Stopping at the point of best convergence.\n",
      "Deformation doesn't appear to be converging.Stopping at the point of best convergence.\n",
      "Deformation doesn't appear to be converging.Stopping at the point of best convergence.\n",
      "Path deformation converged. 13 steps. fRatio = 1.97787e-02\n",
      "Path deformation converged. 1 steps. fRatio = 3.29227e-02\n",
      "S3/T=5806245.669986872\n",
      "Tunneling at T=39.65604698264353\n",
      "Maximum number of deformation iterations reached.\n",
      "Deformation doesn't appear to be converging.Stopping at the point of best convergence.\n",
      "Deformation doesn't appear to be converging.Stopping at the point of best convergence.\n",
      "Deformation doesn't appear to be converging.Stopping at the point of best convergence.\n",
      "Deformation doesn't appear to be converging.Stopping at the point of best convergence.\n",
      "Deformation doesn't appear to be converging.Stopping at the point of best convergence.\n",
      "Deformation doesn't appear to be converging.Stopping at the point of best convergence.\n",
      "Deformation doesn't appear to be converging.Stopping at the point of best convergence.\n",
      "Deformation doesn't appear to be converging.Stopping at the point of best convergence.\n",
      "Deformation doesn't appear to be converging.Stopping at the point of best convergence.\n",
      "Deformation doesn't appear to be converging.Stopping at the point of best convergence.\n",
      "Deformation doesn't appear to be converging.Stopping at the point of best convergence.\n",
      "Deformation doesn't appear to be converging.Stopping at the point of best convergence.\n",
      "Maximum number of deformation iterations reached.\n",
      "Maximum number of deformation iterations reached.\n",
      "Maximum number of deformation iterations reached.\n",
      "Maximum number of deformation iterations reached.\n",
      "Maximum number of deformation iterations reached.\n",
      "Maximum number of deformation iterations reached.\n",
      "Maximum number of deformation iterations reached.\n",
      "Maximum number of deformation iterations reached.\n",
      "Maximum number of deformation iterations reached.\n",
      "Maximum number of deformation iterations reached.\n",
      "Maximum number of deformation iterations reached.\n",
      "Maximum number of deformation iterations reached.\n",
      "Maximum number of deformation iterations reached.\n",
      "S3/T=3725724.955592989\n",
      "Tunneling at T=39.65204698264353\n",
      "Maximum number of deformation iterations reached.\n",
      "Deformation doesn't appear to be converging.Stopping at the point of best convergence.\n",
      "Deformation doesn't appear to be converging.Stopping at the point of best convergence.\n",
      "Deformation doesn't appear to be converging.Stopping at the point of best convergence.\n",
      "Deformation doesn't appear to be converging.Stopping at the point of best convergence.\n",
      "Deformation doesn't appear to be converging.Stopping at the point of best convergence.\n",
      "Deformation doesn't appear to be converging.Stopping at the point of best convergence.\n",
      "Path deformation converged. 1 steps. fRatio = 3.49734e-02\n",
      "S3/T=2311563.5708392924\n",
      "Tunneling at T=39.648046982643535\n",
      "Maximum number of deformation iterations reached.\n",
      "Deformation doesn't appear to be converging.Stopping at the point of best convergence.\n",
      "Deformation doesn't appear to be converging.Stopping at the point of best convergence.\n",
      "Deformation doesn't appear to be converging.Stopping at the point of best convergence.\n",
      "Deformation doesn't appear to be converging.Stopping at the point of best convergence.\n",
      "Deformation doesn't appear to be converging.Stopping at the point of best convergence.\n",
      "Deformation doesn't appear to be converging.Stopping at the point of best convergence.\n",
      "Path deformation converged. 1 steps. fRatio = 9.19226e-02\n",
      "S3/T=1349551.0043168403\n",
      "Tunneling at T=39.64404698264353\n",
      "Maximum number of deformation iterations reached.\n",
      "Deformation doesn't appear to be converging.Stopping at the point of best convergence.\n",
      "Deformation doesn't appear to be converging.Stopping at the point of best convergence.\n",
      "Deformation doesn't appear to be converging.Stopping at the point of best convergence.\n",
      "Deformation doesn't appear to be converging.Stopping at the point of best convergence.\n",
      "Path deformation converged. 1 steps. fRatio = 4.65875e-02\n",
      "S3/T=716862.4529464333\n",
      "Tunneling at T=39.64004698264353\n",
      "Maximum number of deformation iterations reached.\n",
      "Deformation doesn't appear to be converging.Stopping at the point of best convergence.\n",
      "Deformation doesn't appear to be converging.Stopping at the point of best convergence.\n",
      "Deformation doesn't appear to be converging.Stopping at the point of best convergence.\n",
      "Deformation doesn't appear to be converging.Stopping at the point of best convergence.\n",
      "Deformation doesn't appear to be converging.Stopping at the point of best convergence.\n",
      "Deformation doesn't appear to be converging.Stopping at the point of best convergence.\n",
      "Deformation doesn't appear to be converging.Stopping at the point of best convergence.\n",
      "Deformation doesn't appear to be converging.Stopping at the point of best convergence.\n",
      "Deformation doesn't appear to be converging.Stopping at the point of best convergence.\n",
      "Deformation doesn't appear to be converging.Stopping at the point of best convergence.\n",
      "Path deformation converged. 1 steps. fRatio = 4.93615e-02\n",
      "S3/T=363299.6252738955\n",
      "Tunneling at T=39.636046982643535\n",
      "Maximum number of deformation iterations reached.\n",
      "Deformation doesn't appear to be converging.Stopping at the point of best convergence.\n",
      "Deformation doesn't appear to be converging.Stopping at the point of best convergence.\n",
      "Deformation doesn't appear to be converging.Stopping at the point of best convergence.\n",
      "Deformation doesn't appear to be converging.Stopping at the point of best convergence.\n",
      "Deformation doesn't appear to be converging.Stopping at the point of best convergence.\n",
      "Deformation doesn't appear to be converging.Stopping at the point of best convergence.\n",
      "Path deformation converged. 1 steps. fRatio = 8.26244e-02\n",
      "S3/T=171099.93338731848\n",
      "Tunneling at T=39.63204698264354\n",
      "Maximum number of deformation iterations reached.\n",
      "Deformation doesn't appear to be converging.Stopping at the point of best convergence.\n",
      "Deformation doesn't appear to be converging.Stopping at the point of best convergence.\n",
      "Deformation doesn't appear to be converging.Stopping at the point of best convergence.\n",
      "Deformation doesn't appear to be converging.Stopping at the point of best convergence.\n",
      "Deformation doesn't appear to be converging.Stopping at the point of best convergence.\n",
      "Deformation doesn't appear to be converging.Stopping at the point of best convergence.\n",
      "Deformation doesn't appear to be converging.Stopping at the point of best convergence.\n",
      "Deformation doesn't appear to be converging.Stopping at the point of best convergence.\n",
      "Deformation doesn't appear to be converging.Stopping at the point of best convergence.\n",
      "Deformation doesn't appear to be converging.Stopping at the point of best convergence.\n",
      "Deformation doesn't appear to be converging.Stopping at the point of best convergence.\n",
      "Deformation doesn't appear to be converging.Stopping at the point of best convergence.\n",
      "Deformation doesn't appear to be converging.Stopping at the point of best convergence.\n",
      "Deformation doesn't appear to be converging.Stopping at the point of best convergence.\n",
      "Deformation doesn't appear to be converging.Stopping at the point of best convergence.\n",
      "Deformation doesn't appear to be converging.Stopping at the point of best convergence.\n",
      "Deformation doesn't appear to be converging.Stopping at the point of best convergence.\n",
      "Deformation doesn't appear to be converging.Stopping at the point of best convergence.\n",
      "Deformation doesn't appear to be converging.Stopping at the point of best convergence.\n",
      "Deformation doesn't appear to be converging.Stopping at the point of best convergence.\n",
      "Deformation doesn't appear to be converging.Stopping at the point of best convergence.\n",
      "Deformation doesn't appear to be converging.Stopping at the point of best convergence.\n",
      "Deformation doesn't appear to be converging.Stopping at the point of best convergence.\n",
      "Deformation doesn't appear to be converging.Stopping at the point of best convergence.\n",
      "Deformation doesn't appear to be converging.Stopping at the point of best convergence.\n",
      "Deformation doesn't appear to be converging.Stopping at the point of best convergence.\n",
      "Deformation doesn't appear to be converging.Stopping at the point of best convergence.\n",
      "Deformation doesn't appear to be converging.Stopping at the point of best convergence.\n",
      "Deformation doesn't appear to be converging.Stopping at the point of best convergence.\n",
      "Deformation doesn't appear to be converging.Stopping at the point of best convergence.\n",
      "Deformation doesn't appear to be converging.Stopping at the point of best convergence.\n",
      "Deformation doesn't appear to be converging.Stopping at the point of best convergence.\n",
      "Deformation doesn't appear to be converging.Stopping at the point of best convergence.\n",
      "Deformation doesn't appear to be converging.Stopping at the point of best convergence.\n",
      "Deformation doesn't appear to be converging.Stopping at the point of best convergence.\n",
      "Deformation doesn't appear to be converging.Stopping at the point of best convergence.\n",
      "Deformation doesn't appear to be converging.Stopping at the point of best convergence.\n",
      "Deformation doesn't appear to be converging.Stopping at the point of best convergence.\n",
      "S3/T=66764.63723852768\n",
      "Tunneling at T=39.62804698264353\n",
      "Maximum number of deformation iterations reached.\n",
      "Deformation doesn't appear to be converging.Stopping at the point of best convergence.\n",
      "Deformation doesn't appear to be converging.Stopping at the point of best convergence.\n",
      "Deformation doesn't appear to be converging.Stopping at the point of best convergence.\n",
      "Deformation doesn't appear to be converging.Stopping at the point of best convergence.\n",
      "Deformation doesn't appear to be converging.Stopping at the point of best convergence.\n",
      "Deformation doesn't appear to be converging.Stopping at the point of best convergence.\n",
      "Deformation doesn't appear to be converging.Stopping at the point of best convergence.\n",
      "Deformation doesn't appear to be converging.Stopping at the point of best convergence.\n",
      "Deformation doesn't appear to be converging.Stopping at the point of best convergence.\n",
      "Deformation doesn't appear to be converging.Stopping at the point of best convergence.\n",
      "Deformation doesn't appear to be converging.Stopping at the point of best convergence.\n",
      "Deformation doesn't appear to be converging.Stopping at the point of best convergence.\n",
      "Deformation doesn't appear to be converging.Stopping at the point of best convergence.\n",
      "Deformation doesn't appear to be converging.Stopping at the point of best convergence.\n",
      "Deformation doesn't appear to be converging.Stopping at the point of best convergence.\n",
      "Deformation doesn't appear to be converging.Stopping at the point of best convergence.\n",
      "Deformation doesn't appear to be converging.Stopping at the point of best convergence.\n",
      "Deformation doesn't appear to be converging.Stopping at the point of best convergence.\n",
      "Deformation doesn't appear to be converging.Stopping at the point of best convergence.\n",
      "Deformation doesn't appear to be converging.Stopping at the point of best convergence.\n",
      "Deformation doesn't appear to be converging.Stopping at the point of best convergence.\n",
      "Deformation doesn't appear to be converging.Stopping at the point of best convergence.\n",
      "Deformation doesn't appear to be converging.Stopping at the point of best convergence.\n",
      "Deformation doesn't appear to be converging.Stopping at the point of best convergence.\n",
      "Deformation doesn't appear to be converging.Stopping at the point of best convergence.\n",
      "Deformation doesn't appear to be converging.Stopping at the point of best convergence.\n",
      "Deformation doesn't appear to be converging.Stopping at the point of best convergence.\n",
      "Deformation doesn't appear to be converging.Stopping at the point of best convergence.\n",
      "Deformation doesn't appear to be converging.Stopping at the point of best convergence.\n",
      "Deformation doesn't appear to be converging.Stopping at the point of best convergence.\n",
      "Deformation doesn't appear to be converging.Stopping at the point of best convergence.\n",
      "Deformation doesn't appear to be converging.Stopping at the point of best convergence.\n",
      "Deformation doesn't appear to be converging.Stopping at the point of best convergence.\n",
      "Deformation doesn't appear to be converging.Stopping at the point of best convergence.\n",
      "Deformation doesn't appear to be converging.Stopping at the point of best convergence.\n",
      "Deformation doesn't appear to be converging.Stopping at the point of best convergence.\n",
      "Deformation doesn't appear to be converging.Stopping at the point of best convergence.\n",
      "Deformation doesn't appear to be converging.Stopping at the point of best convergence.\n",
      "S3/T=18670.142545041097\n",
      "Tunneling at T=39.624046982643534\n",
      "Maximum number of deformation iterations reached.\n",
      "Path deformation converged. 149 steps. fRatio = 1.86045e-02\n",
      "Deformation doesn't appear to be converging.Stopping at the point of best convergence.\n",
      "Deformation doesn't appear to be converging.Stopping at the point of best convergence.\n",
      "Path deformation converged. 62 steps. fRatio = 1.99432e-02\n",
      "Deformation doesn't appear to be converging.Stopping at the point of best convergence.\n",
      "Deformation doesn't appear to be converging.Stopping at the point of best convergence.\n"
     ]
    },
    {
     "name": "stderr",
     "output_type": "stream",
     "text": [
      "/Users/isaac/envs/base/lib/python3.9/site-packages/cosmoTransitions/tunneling1D.py:415: RuntimeWarning: overflow encountered in double_scalars\n",
      "  r *= 10\n"
     ]
    },
    {
     "name": "stdout",
     "output_type": "stream",
     "text": [
      "Deformation doesn't appear to be converging.Stopping at the point of best convergence.\n",
      "Deformation doesn't appear to be converging.Stopping at the point of best convergence.\n",
      "Deformation doesn't appear to be converging.Stopping at the point of best convergence.\n",
      "Deformation doesn't appear to be converging.Stopping at the point of best convergence.\n"
     ]
    },
    {
     "ename": "ValueError",
     "evalue": "f(a) and f(b) must have different signs",
     "output_type": "error",
     "traceback": [
      "\u001b[0;31m---------------------------------------------------------------------------\u001b[0m",
      "\u001b[0;31mValueError\u001b[0m                                Traceback (most recent call last)",
      "\u001b[1;32m/Users/isaac/Dropbox/Research_Project/2022-1-SFOPT_light_singlet/02-Analysis/phase_transition/test.ipynb Cell 12'\u001b[0m in \u001b[0;36m<cell line: 1>\u001b[0;34m()\u001b[0m\n\u001b[0;32m----> <a href='vscode-notebook-cell:/Users/isaac/Dropbox/Research_Project/2022-1-SFOPT_light_singlet/02-Analysis/phase_transition/test.ipynb#ch0000025?line=0'>1</a>\u001b[0m m\u001b[39m.\u001b[39;49mfindTn()\n",
      "\u001b[1;32m/Users/isaac/Dropbox/Research_Project/2022-1-SFOPT_light_singlet/02-Analysis/phase_transition/test.ipynb Cell 8'\u001b[0m in \u001b[0;36mmodel.findTn\u001b[0;34m(self)\u001b[0m\n\u001b[1;32m    <a href='vscode-notebook-cell:/Users/isaac/Dropbox/Research_Project/2022-1-SFOPT_light_singlet/02-Analysis/phase_transition/test.ipynb#ch0000007?line=137'>138</a>\u001b[0m \u001b[39mdef\u001b[39;00m \u001b[39mfindTn\u001b[39m(\u001b[39mself\u001b[39m):\n\u001b[0;32m--> <a href='vscode-notebook-cell:/Users/isaac/Dropbox/Research_Project/2022-1-SFOPT_light_singlet/02-Analysis/phase_transition/test.ipynb#ch0000007?line=138'>139</a>\u001b[0m     \u001b[39mself\u001b[39;49m\u001b[39m.\u001b[39;49mtrace_action()\n\u001b[1;32m    <a href='vscode-notebook-cell:/Users/isaac/Dropbox/Research_Project/2022-1-SFOPT_light_singlet/02-Analysis/phase_transition/test.ipynb#ch0000007?line=139'>140</a>\u001b[0m     Tlist\u001b[39m=\u001b[39m\u001b[39mself\u001b[39m\u001b[39m.\u001b[39maction_trace_data[\u001b[39m0\u001b[39m]\n\u001b[1;32m    <a href='vscode-notebook-cell:/Users/isaac/Dropbox/Research_Project/2022-1-SFOPT_light_singlet/02-Analysis/phase_transition/test.ipynb#ch0000007?line=140'>141</a>\u001b[0m     log_action \u001b[39m=\u001b[39m [np\u001b[39m.\u001b[39mlog10(i)\u001b[39m-\u001b[39mnp\u001b[39m.\u001b[39mlog10(\u001b[39m140\u001b[39m) \u001b[39mfor\u001b[39;00m i \u001b[39min\u001b[39;00m \u001b[39mself\u001b[39m\u001b[39m.\u001b[39maction_trace_data[\u001b[39m1\u001b[39m]]\n",
      "\u001b[1;32m/Users/isaac/Dropbox/Research_Project/2022-1-SFOPT_light_singlet/02-Analysis/phase_transition/test.ipynb Cell 8'\u001b[0m in \u001b[0;36mmodel.trace_action\u001b[0;34m(self)\u001b[0m\n\u001b[1;32m    <a href='vscode-notebook-cell:/Users/isaac/Dropbox/Research_Project/2022-1-SFOPT_light_singlet/02-Analysis/phase_transition/test.ipynb#ch0000007?line=126'>127</a>\u001b[0m Ttest\u001b[39m=\u001b[39mTmax\u001b[39m-\u001b[39mi\u001b[39m*\u001b[39meps\n\u001b[1;32m    <a href='vscode-notebook-cell:/Users/isaac/Dropbox/Research_Project/2022-1-SFOPT_light_singlet/02-Analysis/phase_transition/test.ipynb#ch0000007?line=127'>128</a>\u001b[0m \u001b[39mprint\u001b[39m(\u001b[39m\"\u001b[39m\u001b[39mTunneling at T=\u001b[39m\u001b[39m\"\u001b[39m \u001b[39m+\u001b[39m \u001b[39mstr\u001b[39m(Ttest))\n\u001b[0;32m--> <a href='vscode-notebook-cell:/Users/isaac/Dropbox/Research_Project/2022-1-SFOPT_light_singlet/02-Analysis/phase_transition/test.ipynb#ch0000007?line=128'>129</a>\u001b[0m trigger\u001b[39m=\u001b[39m\u001b[39mself\u001b[39;49m\u001b[39m.\u001b[39;49mS_over_T(Ttest)\n\u001b[1;32m    <a href='vscode-notebook-cell:/Users/isaac/Dropbox/Research_Project/2022-1-SFOPT_light_singlet/02-Analysis/phase_transition/test.ipynb#ch0000007?line=129'>130</a>\u001b[0m \u001b[39mprint\u001b[39m(\u001b[39m\"\u001b[39m\u001b[39mS3/T=\u001b[39m\u001b[39m\"\u001b[39m\u001b[39m+\u001b[39m \u001b[39mstr\u001b[39m(trigger))\n\u001b[1;32m    <a href='vscode-notebook-cell:/Users/isaac/Dropbox/Research_Project/2022-1-SFOPT_light_singlet/02-Analysis/phase_transition/test.ipynb#ch0000007?line=130'>131</a>\u001b[0m \u001b[39mlist\u001b[39m\u001b[39m.\u001b[39mappend([Ttest,trigger])\n",
      "\u001b[1;32m/Users/isaac/Dropbox/Research_Project/2022-1-SFOPT_light_singlet/02-Analysis/phase_transition/test.ipynb Cell 8'\u001b[0m in \u001b[0;36mmodel.S_over_T\u001b[0;34m(self, T)\u001b[0m\n\u001b[1;32m     <a href='vscode-notebook-cell:/Users/isaac/Dropbox/Research_Project/2022-1-SFOPT_light_singlet/02-Analysis/phase_transition/test.ipynb#ch0000007?line=87'>88</a>\u001b[0m \u001b[39mdef\u001b[39;00m \u001b[39mS_over_T\u001b[39m(\u001b[39mself\u001b[39m,T):\n\u001b[1;32m     <a href='vscode-notebook-cell:/Users/isaac/Dropbox/Research_Project/2022-1-SFOPT_light_singlet/02-Analysis/phase_transition/test.ipynb#ch0000007?line=88'>89</a>\u001b[0m     Tv\u001b[39m=\u001b[39mT\n\u001b[0;32m---> <a href='vscode-notebook-cell:/Users/isaac/Dropbox/Research_Project/2022-1-SFOPT_light_singlet/02-Analysis/phase_transition/test.ipynb#ch0000007?line=89'>90</a>\u001b[0m     ST\u001b[39m=\u001b[39m\u001b[39mself\u001b[39;49m\u001b[39m.\u001b[39;49mtunneling_at_T(T\u001b[39m=\u001b[39;49mTv)\u001b[39m.\u001b[39maction\u001b[39m/\u001b[39mTv\n\u001b[1;32m     <a href='vscode-notebook-cell:/Users/isaac/Dropbox/Research_Project/2022-1-SFOPT_light_singlet/02-Analysis/phase_transition/test.ipynb#ch0000007?line=90'>91</a>\u001b[0m     \u001b[39mreturn\u001b[39;00m ST\n",
      "\u001b[1;32m/Users/isaac/Dropbox/Research_Project/2022-1-SFOPT_light_singlet/02-Analysis/phase_transition/test.ipynb Cell 8'\u001b[0m in \u001b[0;36mmodel.tunneling_at_T\u001b[0;34m(self, T)\u001b[0m\n\u001b[1;32m     <a href='vscode-notebook-cell:/Users/isaac/Dropbox/Research_Project/2022-1-SFOPT_light_singlet/02-Analysis/phase_transition/test.ipynb#ch0000007?line=82'>83</a>\u001b[0m \u001b[39mdef\u001b[39;00m \u001b[39mdV_\u001b[39m(x, T\u001b[39m=\u001b[39mT, dV\u001b[39m=\u001b[39m\u001b[39mself\u001b[39m\u001b[39m.\u001b[39mgradV):\n\u001b[1;32m     <a href='vscode-notebook-cell:/Users/isaac/Dropbox/Research_Project/2022-1-SFOPT_light_singlet/02-Analysis/phase_transition/test.ipynb#ch0000007?line=83'>84</a>\u001b[0m     \u001b[39mreturn\u001b[39;00m dV(x,T)\n\u001b[0;32m---> <a href='vscode-notebook-cell:/Users/isaac/Dropbox/Research_Project/2022-1-SFOPT_light_singlet/02-Analysis/phase_transition/test.ipynb#ch0000007?line=84'>85</a>\u001b[0m tobj \u001b[39m=\u001b[39m pd\u001b[39m.\u001b[39;49mfullTunneling([[\u001b[39mself\u001b[39;49m\u001b[39m.\u001b[39;49mtruevev(T),\u001b[39mself\u001b[39;49m\u001b[39m.\u001b[39;49mSpath([\u001b[39mself\u001b[39;49m\u001b[39m.\u001b[39;49mtruevev(T)],T)],[\u001b[39m0.\u001b[39;49m,\u001b[39mself\u001b[39;49m\u001b[39m.\u001b[39;49mSpath([\u001b[39m0.\u001b[39;49m],T)]],V_,dV_)\n\u001b[1;32m     <a href='vscode-notebook-cell:/Users/isaac/Dropbox/Research_Project/2022-1-SFOPT_light_singlet/02-Analysis/phase_transition/test.ipynb#ch0000007?line=85'>86</a>\u001b[0m \u001b[39mreturn\u001b[39;00m tobj\n",
      "File \u001b[0;32m~/envs/base/lib/python3.9/site-packages/cosmoTransitions/pathDeformation.py:958\u001b[0m, in \u001b[0;36mfullTunneling\u001b[0;34m(path_pts, V, dV, maxiter, fixEndCutoff, save_all_steps, verbose, callback, callback_data, V_spline_samples, tunneling_class, tunneling_init_params, tunneling_findProfile_params, deformation_class, deformation_init_params, deformation_deform_params)\u001b[0m\n\u001b[1;32m    955\u001b[0m \u001b[39melse\u001b[39;00m:\n\u001b[1;32m    956\u001b[0m     tobj \u001b[39m=\u001b[39m tunneling_class(\u001b[39m0.0\u001b[39m, path\u001b[39m.\u001b[39mL, path\u001b[39m.\u001b[39mV, path\u001b[39m.\u001b[39mdV, \u001b[39mNone\u001b[39;00m,\n\u001b[1;32m    957\u001b[0m                            \u001b[39m*\u001b[39m\u001b[39m*\u001b[39mtunneling_init_params)\n\u001b[0;32m--> 958\u001b[0m profile1D \u001b[39m=\u001b[39m tobj\u001b[39m.\u001b[39;49mfindProfile(\u001b[39m*\u001b[39;49m\u001b[39m*\u001b[39;49mtunneling_findProfile_params)\n\u001b[1;32m    959\u001b[0m phi, dphi \u001b[39m=\u001b[39m profile1D\u001b[39m.\u001b[39mPhi, profile1D\u001b[39m.\u001b[39mdPhi\n\u001b[1;32m    960\u001b[0m phi, dphi \u001b[39m=\u001b[39m tobj\u001b[39m.\u001b[39mevenlySpacedPhi(phi, dphi, npoints\u001b[39m=\u001b[39m\u001b[39mlen\u001b[39m(phi),\n\u001b[1;32m    961\u001b[0m                                  fixAbs\u001b[39m=\u001b[39m\u001b[39mFalse\u001b[39;00m)\n",
      "File \u001b[0;32m~/envs/base/lib/python3.9/site-packages/cosmoTransitions/tunneling1D.py:709\u001b[0m, in \u001b[0;36mSingleFieldInstanton.findProfile\u001b[0;34m(self, xguess, xtol, phitol, thinCutoff, npoints, rmin, rmax, max_interior_pts)\u001b[0m\n\u001b[1;32m    707\u001b[0m r0 \u001b[39m=\u001b[39m r0_\n\u001b[1;32m    708\u001b[0m y0 \u001b[39m=\u001b[39m np\u001b[39m.\u001b[39marray([phi0, dphi0])\n\u001b[0;32m--> 709\u001b[0m rf, yf, ctype \u001b[39m=\u001b[39m \u001b[39mself\u001b[39;49m\u001b[39m.\u001b[39;49mintegrateProfile(r0, y0, \u001b[39m*\u001b[39;49mintegration_args)\n\u001b[1;32m    710\u001b[0m \u001b[39m# Check for overshoot, undershoot\u001b[39;00m\n\u001b[1;32m    711\u001b[0m \u001b[39mif\u001b[39;00m ctype \u001b[39m==\u001b[39m \u001b[39m\"\u001b[39m\u001b[39mconverged\u001b[39m\u001b[39m\"\u001b[39m:\n",
      "File \u001b[0;32m~/envs/base/lib/python3.9/site-packages/cosmoTransitions/tunneling1D.py:513\u001b[0m, in \u001b[0;36mSingleFieldInstanton.integrateProfile\u001b[0;34m(self, r0, y0, dr0, epsfrac, epsabs, drmin, rmax, *eqn_args)\u001b[0m\n\u001b[1;32m    510\u001b[0m f \u001b[39m=\u001b[39m cubicInterpFunction(y0, dr\u001b[39m*\u001b[39mdydr0, y1, dr\u001b[39m*\u001b[39mdydr1)\n\u001b[1;32m    511\u001b[0m \u001b[39mif\u001b[39;00m(y1[\u001b[39m1\u001b[39m]\u001b[39m*\u001b[39mysign \u001b[39m>\u001b[39m \u001b[39m0\u001b[39m):\n\u001b[1;32m    512\u001b[0m     \u001b[39m# Extrapolate to where dphi(r) = 0\u001b[39;00m\n\u001b[0;32m--> 513\u001b[0m     x \u001b[39m=\u001b[39m optimize\u001b[39m.\u001b[39;49mbrentq(\u001b[39mlambda\u001b[39;49;00m x: f(x)[\u001b[39m1\u001b[39;49m], \u001b[39m0\u001b[39;49m, \u001b[39m1\u001b[39;49m)\n\u001b[1;32m    514\u001b[0m     convergence_type \u001b[39m=\u001b[39m \u001b[39m\"\u001b[39m\u001b[39mundershoot\u001b[39m\u001b[39m\"\u001b[39m\n\u001b[1;32m    515\u001b[0m \u001b[39melse\u001b[39;00m:\n\u001b[1;32m    516\u001b[0m     \u001b[39m# Extrapolate to where phi(r) = phi_metaMin\u001b[39;00m\n",
      "File \u001b[0;32m~/envs/base/lib/python3.9/site-packages/scipy/optimize/_zeros_py.py:783\u001b[0m, in \u001b[0;36mbrentq\u001b[0;34m(f, a, b, args, xtol, rtol, maxiter, full_output, disp)\u001b[0m\n\u001b[1;32m    781\u001b[0m \u001b[39mif\u001b[39;00m rtol \u001b[39m<\u001b[39m _rtol:\n\u001b[1;32m    782\u001b[0m     \u001b[39mraise\u001b[39;00m \u001b[39mValueError\u001b[39;00m(\u001b[39m\"\u001b[39m\u001b[39mrtol too small (\u001b[39m\u001b[39m%g\u001b[39;00m\u001b[39m < \u001b[39m\u001b[39m%g\u001b[39;00m\u001b[39m)\u001b[39m\u001b[39m\"\u001b[39m \u001b[39m%\u001b[39m (rtol, _rtol))\n\u001b[0;32m--> 783\u001b[0m r \u001b[39m=\u001b[39m _zeros\u001b[39m.\u001b[39;49m_brentq(f, a, b, xtol, rtol, maxiter, args, full_output, disp)\n\u001b[1;32m    784\u001b[0m \u001b[39mreturn\u001b[39;00m results_c(full_output, r)\n",
      "\u001b[0;31mValueError\u001b[0m: f(a) and f(b) must have different signs"
     ]
    }
   ],
   "source": [
    "m.findTn()"
   ]
  },
  {
   "cell_type": "code",
   "execution_count": 16,
   "metadata": {},
   "outputs": [
    {
     "name": "stdout",
     "output_type": "stream",
     "text": [
      "Maximum number of deformation iterations reached.\n",
      "Maximum number of deformation iterations reached.\n",
      "Maximum number of deformation iterations reached.\n",
      "Deformation doesn't appear to be converging.Stopping at the point of best convergence.\n",
      "Deformation doesn't appear to be converging.Stopping at the point of best convergence.\n",
      "Deformation doesn't appear to be converging.Stopping at the point of best convergence.\n",
      "Deformation doesn't appear to be converging.Stopping at the point of best convergence.\n",
      "Deformation doesn't appear to be converging.Stopping at the point of best convergence.\n",
      "Deformation doesn't appear to be converging.Stopping at the point of best convergence.\n",
      "Path deformation converged. 1 steps. fRatio = 5.79422e-02\n",
      "35.25\n",
      "4487964.38237565\n",
      "Maximum number of deformation iterations reached.\n",
      "Maximum number of deformation iterations reached.\n",
      "Maximum number of deformation iterations reached.\n",
      "Deformation doesn't appear to be converging.Stopping at the point of best convergence.\n",
      "Deformation doesn't appear to be converging.Stopping at the point of best convergence.\n",
      "Deformation doesn't appear to be converging.Stopping at the point of best convergence.\n",
      "Deformation doesn't appear to be converging.Stopping at the point of best convergence.\n",
      "Path deformation converged. 1 steps. fRatio = 7.76029e-02\n",
      "35.2496\n",
      "4223275.993115732\n",
      "Maximum number of deformation iterations reached.\n",
      "Maximum number of deformation iterations reached.\n",
      "Maximum number of deformation iterations reached.\n",
      "Deformation doesn't appear to be converging.Stopping at the point of best convergence.\n",
      "Deformation doesn't appear to be converging.Stopping at the point of best convergence.\n",
      "Deformation doesn't appear to be converging.Stopping at the point of best convergence.\n",
      "Deformation doesn't appear to be converging.Stopping at the point of best convergence.\n",
      "Deformation doesn't appear to be converging.Stopping at the point of best convergence.\n",
      "Deformation doesn't appear to be converging.Stopping at the point of best convergence.\n",
      "Deformation doesn't appear to be converging.Stopping at the point of best convergence.\n",
      "Deformation doesn't appear to be converging.Stopping at the point of best convergence.\n",
      "Deformation doesn't appear to be converging.Stopping at the point of best convergence.\n",
      "Deformation doesn't appear to be converging.Stopping at the point of best convergence.\n",
      "Deformation doesn't appear to be converging.Stopping at the point of best convergence.\n",
      "Deformation doesn't appear to be converging.Stopping at the point of best convergence.\n",
      "Deformation doesn't appear to be converging.Stopping at the point of best convergence.\n",
      "Deformation doesn't appear to be converging.Stopping at the point of best convergence.\n",
      "Deformation doesn't appear to be converging.Stopping at the point of best convergence.\n",
      "Deformation doesn't appear to be converging.Stopping at the point of best convergence.\n",
      "Maximum number of deformation iterations reached.\n",
      "Deformation doesn't appear to be converging.Stopping at the point of best convergence.\n",
      "Deformation doesn't appear to be converging.Stopping at the point of best convergence.\n"
     ]
    },
    {
     "name": "stderr",
     "output_type": "stream",
     "text": [
      "/Users/isaac/envs/base/lib/python3.9/site-packages/cosmoTransitions/tunneling1D.py:415: RuntimeWarning: overflow encountered in double_scalars\n",
      "  r *= 10\n"
     ]
    },
    {
     "name": "stdout",
     "output_type": "stream",
     "text": [
      "Maximum number of deformation iterations reached.\n",
      "Deformation doesn't appear to be converging.Stopping at the point of best convergence.\n",
      "Deformation doesn't appear to be converging.Stopping at the point of best convergence.\n",
      "Deformation doesn't appear to be converging.Stopping at the point of best convergence.\n",
      "Deformation doesn't appear to be converging.Stopping at the point of best convergence.\n",
      "Deformation doesn't appear to be converging.Stopping at the point of best convergence.\n",
      "Deformation doesn't appear to be converging.Stopping at the point of best convergence.\n",
      "Deformation doesn't appear to be converging.Stopping at the point of best convergence.\n",
      "Deformation doesn't appear to be converging.Stopping at the point of best convergence.\n",
      "Deformation doesn't appear to be converging.Stopping at the point of best convergence.\n",
      "Deformation doesn't appear to be converging.Stopping at the point of best convergence.\n",
      "Deformation doesn't appear to be converging.Stopping at the point of best convergence.\n",
      "Deformation doesn't appear to be converging.Stopping at the point of best convergence.\n",
      "35.2492\n",
      "3896162.2201929856\n",
      "Maximum number of deformation iterations reached.\n",
      "Maximum number of deformation iterations reached.\n",
      "Maximum number of deformation iterations reached.\n",
      "Deformation doesn't appear to be converging.Stopping at the point of best convergence.\n",
      "Deformation doesn't appear to be converging.Stopping at the point of best convergence.\n",
      "Deformation doesn't appear to be converging.Stopping at the point of best convergence.\n",
      "Deformation doesn't appear to be converging.Stopping at the point of best convergence.\n",
      "Deformation doesn't appear to be converging.Stopping at the point of best convergence.\n",
      "Deformation doesn't appear to be converging.Stopping at the point of best convergence.\n",
      "Deformation doesn't appear to be converging.Stopping at the point of best convergence.\n",
      "Deformation doesn't appear to be converging.Stopping at the point of best convergence.\n",
      "Deformation doesn't appear to be converging.Stopping at the point of best convergence.\n",
      "Deformation doesn't appear to be converging.Stopping at the point of best convergence.\n",
      "Deformation doesn't appear to be converging.Stopping at the point of best convergence.\n",
      "Deformation doesn't appear to be converging.Stopping at the point of best convergence.\n",
      "Path deformation converged. 1 steps. fRatio = 7.69822e-02\n",
      "35.2488\n",
      "3564380.2796282666\n",
      "Maximum number of deformation iterations reached.\n",
      "Maximum number of deformation iterations reached.\n",
      "Deformation doesn't appear to be converging.Stopping at the point of best convergence.\n",
      "Deformation doesn't appear to be converging.Stopping at the point of best convergence.\n",
      "Deformation doesn't appear to be converging.Stopping at the point of best convergence.\n",
      "Deformation doesn't appear to be converging.Stopping at the point of best convergence.\n",
      "Deformation doesn't appear to be converging.Stopping at the point of best convergence.\n",
      "Deformation doesn't appear to be converging.Stopping at the point of best convergence.\n",
      "Deformation doesn't appear to be converging.Stopping at the point of best convergence.\n",
      "Deformation doesn't appear to be converging.Stopping at the point of best convergence.\n",
      "Deformation doesn't appear to be converging.Stopping at the point of best convergence.\n",
      "Deformation doesn't appear to be converging.Stopping at the point of best convergence.\n",
      "Deformation doesn't appear to be converging.Stopping at the point of best convergence.\n",
      "Deformation doesn't appear to be converging.Stopping at the point of best convergence.\n",
      "Deformation doesn't appear to be converging.Stopping at the point of best convergence.\n",
      "Deformation doesn't appear to be converging.Stopping at the point of best convergence.\n",
      "Deformation doesn't appear to be converging.Stopping at the point of best convergence.\n",
      "Deformation doesn't appear to be converging.Stopping at the point of best convergence.\n",
      "Path deformation converged. 1 steps. fRatio = 7.41059e-02\n",
      "35.2484\n",
      "3325703.5943577196\n",
      "Maximum number of deformation iterations reached.\n",
      "Maximum number of deformation iterations reached.\n",
      "Maximum number of deformation iterations reached.\n",
      "Deformation doesn't appear to be converging.Stopping at the point of best convergence.\n",
      "Deformation doesn't appear to be converging.Stopping at the point of best convergence.\n",
      "Deformation doesn't appear to be converging.Stopping at the point of best convergence.\n",
      "Deformation doesn't appear to be converging.Stopping at the point of best convergence.\n",
      "Deformation doesn't appear to be converging.Stopping at the point of best convergence.\n",
      "Deformation doesn't appear to be converging.Stopping at the point of best convergence.\n",
      "Path deformation converged. 1 steps. fRatio = 8.85728e-02\n",
      "35.248\n",
      "3106567.9488546895\n",
      "Maximum number of deformation iterations reached.\n",
      "Maximum number of deformation iterations reached.\n",
      "Maximum number of deformation iterations reached.\n",
      "Deformation doesn't appear to be converging.Stopping at the point of best convergence.\n",
      "Deformation doesn't appear to be converging.Stopping at the point of best convergence.\n",
      "Deformation doesn't appear to be converging.Stopping at the point of best convergence.\n",
      "Deformation doesn't appear to be converging.Stopping at the point of best convergence.\n",
      "Deformation doesn't appear to be converging.Stopping at the point of best convergence.\n",
      "Deformation doesn't appear to be converging.Stopping at the point of best convergence.\n",
      "Deformation doesn't appear to be converging.Stopping at the point of best convergence.\n",
      "Deformation doesn't appear to be converging.Stopping at the point of best convergence.\n",
      "Deformation doesn't appear to be converging.Stopping at the point of best convergence.\n",
      "Deformation doesn't appear to be converging.Stopping at the point of best convergence.\n",
      "Path deformation converged. 1 steps. fRatio = 9.74306e-02\n",
      "35.2476\n",
      "2895972.643210923\n",
      "Maximum number of deformation iterations reached.\n",
      "Maximum number of deformation iterations reached.\n"
     ]
    },
    {
     "ename": "KeyboardInterrupt",
     "evalue": "",
     "output_type": "error",
     "traceback": [
      "\u001b[0;31m---------------------------------------------------------------------------\u001b[0m",
      "\u001b[0;31mKeyboardInterrupt\u001b[0m                         Traceback (most recent call last)",
      "\u001b[1;32m/Users/isaac/Dropbox/Research_Project/2022-1-SFOPT_light_singlet/02-Analysis/phase_transition/test.ipynb Cell 13'\u001b[0m in \u001b[0;36m<cell line: 4>\u001b[0;34m()\u001b[0m\n\u001b[1;32m      <a href='vscode-notebook-cell:/Users/isaac/Dropbox/Research_Project/2022-1-SFOPT_light_singlet/02-Analysis/phase_transition/test.ipynb#ch0000012?line=3'>4</a>\u001b[0m \u001b[39mfor\u001b[39;00m i \u001b[39min\u001b[39;00m \u001b[39mrange\u001b[39m(\u001b[39m0\u001b[39m,\u001b[39m100\u001b[39m):\n\u001b[1;32m      <a href='vscode-notebook-cell:/Users/isaac/Dropbox/Research_Project/2022-1-SFOPT_light_singlet/02-Analysis/phase_transition/test.ipynb#ch0000012?line=4'>5</a>\u001b[0m     Ttest \u001b[39m=\u001b[39m T_start \u001b[39m-\u001b[39m i\u001b[39m*\u001b[39mTeps\n\u001b[0;32m----> <a href='vscode-notebook-cell:/Users/isaac/Dropbox/Research_Project/2022-1-SFOPT_light_singlet/02-Analysis/phase_transition/test.ipynb#ch0000012?line=5'>6</a>\u001b[0m     action\u001b[39m=\u001b[39mm\u001b[39m.\u001b[39;49mtunneling_at_T(Ttest)\u001b[39m.\u001b[39maction\u001b[39m/\u001b[39mTtest\n\u001b[1;32m      <a href='vscode-notebook-cell:/Users/isaac/Dropbox/Research_Project/2022-1-SFOPT_light_singlet/02-Analysis/phase_transition/test.ipynb#ch0000012?line=6'>7</a>\u001b[0m     \u001b[39mprint\u001b[39m(Ttest)\n\u001b[1;32m      <a href='vscode-notebook-cell:/Users/isaac/Dropbox/Research_Project/2022-1-SFOPT_light_singlet/02-Analysis/phase_transition/test.ipynb#ch0000012?line=7'>8</a>\u001b[0m     \u001b[39mlist\u001b[39m\u001b[39m.\u001b[39mappend([Ttest,action])\n",
      "\u001b[1;32m/Users/isaac/Dropbox/Research_Project/2022-1-SFOPT_light_singlet/02-Analysis/phase_transition/test.ipynb Cell 8'\u001b[0m in \u001b[0;36mmodel.tunneling_at_T\u001b[0;34m(self, T)\u001b[0m\n\u001b[1;32m     <a href='vscode-notebook-cell:/Users/isaac/Dropbox/Research_Project/2022-1-SFOPT_light_singlet/02-Analysis/phase_transition/test.ipynb#ch0000007?line=82'>83</a>\u001b[0m \u001b[39mdef\u001b[39;00m \u001b[39mdV_\u001b[39m(x, T\u001b[39m=\u001b[39mT, dV\u001b[39m=\u001b[39m\u001b[39mself\u001b[39m\u001b[39m.\u001b[39mgradV):\n\u001b[1;32m     <a href='vscode-notebook-cell:/Users/isaac/Dropbox/Research_Project/2022-1-SFOPT_light_singlet/02-Analysis/phase_transition/test.ipynb#ch0000007?line=83'>84</a>\u001b[0m     \u001b[39mreturn\u001b[39;00m dV(x,T)\n\u001b[0;32m---> <a href='vscode-notebook-cell:/Users/isaac/Dropbox/Research_Project/2022-1-SFOPT_light_singlet/02-Analysis/phase_transition/test.ipynb#ch0000007?line=84'>85</a>\u001b[0m tobj \u001b[39m=\u001b[39m pd\u001b[39m.\u001b[39;49mfullTunneling([[\u001b[39mself\u001b[39;49m\u001b[39m.\u001b[39;49mtruevev(T),\u001b[39mself\u001b[39;49m\u001b[39m.\u001b[39;49mSpath([\u001b[39mself\u001b[39;49m\u001b[39m.\u001b[39;49mtruevev(T)],T)],[\u001b[39m0.\u001b[39;49m,\u001b[39mself\u001b[39;49m\u001b[39m.\u001b[39;49mSpath([\u001b[39m0.\u001b[39;49m],T)]],V_,dV_)\n\u001b[1;32m     <a href='vscode-notebook-cell:/Users/isaac/Dropbox/Research_Project/2022-1-SFOPT_light_singlet/02-Analysis/phase_transition/test.ipynb#ch0000007?line=85'>86</a>\u001b[0m \u001b[39mreturn\u001b[39;00m tobj\n",
      "File \u001b[0;32m~/envs/base/lib/python3.9/site-packages/cosmoTransitions/pathDeformation.py:969\u001b[0m, in \u001b[0;36mfullTunneling\u001b[0;34m(path_pts, V, dV, maxiter, fixEndCutoff, save_all_steps, verbose, callback, callback_data, V_spline_samples, tunneling_class, tunneling_init_params, tunneling_findProfile_params, deformation_class, deformation_init_params, deformation_deform_params)\u001b[0m\n\u001b[1;32m    967\u001b[0m     \u001b[39mbreak\u001b[39;00m\n\u001b[1;32m    968\u001b[0m \u001b[39mtry\u001b[39;00m:\n\u001b[0;32m--> 969\u001b[0m     converged \u001b[39m=\u001b[39m deform_obj\u001b[39m.\u001b[39;49mdeformPath(\u001b[39m*\u001b[39;49m\u001b[39m*\u001b[39;49mdeformation_deform_params)\n\u001b[1;32m    970\u001b[0m \u001b[39mexcept\u001b[39;00m DeformationError \u001b[39mas\u001b[39;00m err:\n\u001b[1;32m    971\u001b[0m     \u001b[39mprint\u001b[39m(err\u001b[39m.\u001b[39margs[\u001b[39m0\u001b[39m])\n",
      "File \u001b[0;32m~/envs/base/lib/python3.9/site-packages/cosmoTransitions/pathDeformation.py:364\u001b[0m, in \u001b[0;36mDeformation_Spline.deformPath\u001b[0;34m(self, startstep, fRatioConv, converge_0, fRatioIncrease, maxiter, verbose, callback, step_params)\u001b[0m\n\u001b[1;32m    362\u001b[0m \u001b[39mwhile\u001b[39;00m \u001b[39mTrue\u001b[39;00m:\n\u001b[1;32m    363\u001b[0m     \u001b[39mself\u001b[39m\u001b[39m.\u001b[39mnum_steps \u001b[39m+\u001b[39m\u001b[39m=\u001b[39m \u001b[39m1\u001b[39m\n\u001b[0;32m--> 364\u001b[0m     stepsize, step_reversed, fRatio \u001b[39m=\u001b[39m \u001b[39mself\u001b[39;49m\u001b[39m.\u001b[39;49mstep(stepsize, \u001b[39m*\u001b[39;49m\u001b[39m*\u001b[39;49mstep_params)\n\u001b[1;32m    365\u001b[0m     \u001b[39mif\u001b[39;00m callback \u001b[39mis\u001b[39;00m \u001b[39mnot\u001b[39;00m \u001b[39mNone\u001b[39;00m \u001b[39mand\u001b[39;00m \u001b[39mnot\u001b[39;00m callback(\u001b[39mself\u001b[39m):\n\u001b[1;32m    366\u001b[0m         \u001b[39mbreak\u001b[39;00m\n",
      "File \u001b[0;32m~/envs/base/lib/python3.9/site-packages/cosmoTransitions/pathDeformation.py:260\u001b[0m, in \u001b[0;36mDeformation_Spline.step\u001b[0;34m(self, lastStep, maxstep, minstep, reverseCheck, stepIncrease, stepDecrease, checkAfterFit, verbose)\u001b[0m\n\u001b[1;32m    192\u001b[0m \u001b[39m\"\"\"\u001b[39;00m\n\u001b[1;32m    193\u001b[0m \u001b[39mDeform the path one step.\u001b[39;00m\n\u001b[1;32m    194\u001b[0m \n\u001b[0;32m   (...)\u001b[0m\n\u001b[1;32m    257\u001b[0m \u001b[39mzero), so they should stay fixed on their own.\u001b[39;00m\n\u001b[1;32m    258\u001b[0m \u001b[39m\"\"\"\u001b[39;00m\n\u001b[1;32m    259\u001b[0m \u001b[39m# Find out the direction of the deformation.\u001b[39;00m\n\u001b[0;32m--> 260\u001b[0m F,dV \u001b[39m=\u001b[39m \u001b[39mself\u001b[39;49m\u001b[39m.\u001b[39;49mforces()\n\u001b[1;32m    261\u001b[0m F_max \u001b[39m=\u001b[39m np\u001b[39m.\u001b[39mmax(np\u001b[39m.\u001b[39msqrt(np\u001b[39m.\u001b[39msum(F\u001b[39m*\u001b[39mF,\u001b[39m-\u001b[39m\u001b[39m1\u001b[39m)))\n\u001b[1;32m    262\u001b[0m dV_max \u001b[39m=\u001b[39m np\u001b[39m.\u001b[39mmax(np\u001b[39m.\u001b[39msqrt(np\u001b[39m.\u001b[39msum(dV\u001b[39m*\u001b[39mdV,\u001b[39m-\u001b[39m\u001b[39m1\u001b[39m)))\n",
      "File \u001b[0;32m~/envs/base/lib/python3.9/site-packages/cosmoTransitions/pathDeformation.py:168\u001b[0m, in \u001b[0;36mDeformation_Spline.forces\u001b[0;34m(self)\u001b[0m\n\u001b[1;32m    165\u001b[0m phi \u001b[39m=\u001b[39m \u001b[39mself\u001b[39m\u001b[39m.\u001b[39mphi\n\u001b[1;32m    166\u001b[0m dphi \u001b[39m=\u001b[39m np\u001b[39m.\u001b[39msum(beta[np\u001b[39m.\u001b[39mnewaxis,:,:]\u001b[39m*\u001b[39mdX[:,:,np\u001b[39m.\u001b[39mnewaxis], axis\u001b[39m=\u001b[39m\u001b[39m1\u001b[39m) \\\n\u001b[1;32m    167\u001b[0m     \u001b[39m+\u001b[39m (\u001b[39mself\u001b[39m\u001b[39m.\u001b[39mphi[\u001b[39m-\u001b[39m\u001b[39m1\u001b[39m]\u001b[39m-\u001b[39m\u001b[39mself\u001b[39m\u001b[39m.\u001b[39mphi[\u001b[39m1\u001b[39m])[np\u001b[39m.\u001b[39mnewaxis,:]\n\u001b[0;32m--> 168\u001b[0m d2phi \u001b[39m=\u001b[39m np\u001b[39m.\u001b[39;49msum(beta[np\u001b[39m.\u001b[39;49mnewaxis,:,:]\u001b[39m*\u001b[39;49md2X[:,:,np\u001b[39m.\u001b[39;49mnewaxis], axis\u001b[39m=\u001b[39;49m\u001b[39m1\u001b[39;49m)\n\u001b[1;32m    169\u001b[0m \u001b[39m\"\"\"Compute dphi/ds, where s is the path length instead of the path\u001b[39;00m\n\u001b[1;32m    170\u001b[0m \u001b[39mparameter t. This is just the direction along the path.\"\"\"\u001b[39;00m\n\u001b[1;32m    171\u001b[0m dphi_sq \u001b[39m=\u001b[39m np\u001b[39m.\u001b[39msum(dphi\u001b[39m*\u001b[39mdphi, axis\u001b[39m=\u001b[39m\u001b[39m-\u001b[39m\u001b[39m1\u001b[39m)[:,np\u001b[39m.\u001b[39mnewaxis]\n",
      "File \u001b[0;32m<__array_function__ internals>:5\u001b[0m, in \u001b[0;36msum\u001b[0;34m(*args, **kwargs)\u001b[0m\n",
      "File \u001b[0;32m~/envs/base/lib/python3.9/site-packages/numpy/core/fromnumeric.py:2247\u001b[0m, in \u001b[0;36msum\u001b[0;34m(a, axis, dtype, out, keepdims, initial, where)\u001b[0m\n\u001b[1;32m   2244\u001b[0m         \u001b[39mreturn\u001b[39;00m out\n\u001b[1;32m   2245\u001b[0m     \u001b[39mreturn\u001b[39;00m res\n\u001b[0;32m-> 2247\u001b[0m \u001b[39mreturn\u001b[39;00m _wrapreduction(a, np\u001b[39m.\u001b[39;49madd, \u001b[39m'\u001b[39;49m\u001b[39msum\u001b[39;49m\u001b[39m'\u001b[39;49m, axis, dtype, out, keepdims\u001b[39m=\u001b[39;49mkeepdims,\n\u001b[1;32m   2248\u001b[0m                       initial\u001b[39m=\u001b[39;49minitial, where\u001b[39m=\u001b[39;49mwhere)\n",
      "File \u001b[0;32m~/envs/base/lib/python3.9/site-packages/numpy/core/fromnumeric.py:87\u001b[0m, in \u001b[0;36m_wrapreduction\u001b[0;34m(obj, ufunc, method, axis, dtype, out, **kwargs)\u001b[0m\n\u001b[1;32m     84\u001b[0m         \u001b[39melse\u001b[39;00m:\n\u001b[1;32m     85\u001b[0m             \u001b[39mreturn\u001b[39;00m reduction(axis\u001b[39m=\u001b[39maxis, out\u001b[39m=\u001b[39mout, \u001b[39m*\u001b[39m\u001b[39m*\u001b[39mpasskwargs)\n\u001b[0;32m---> 87\u001b[0m \u001b[39mreturn\u001b[39;00m ufunc\u001b[39m.\u001b[39;49mreduce(obj, axis, dtype, out, \u001b[39m*\u001b[39;49m\u001b[39m*\u001b[39;49mpasskwargs)\n",
      "\u001b[0;31mKeyboardInterrupt\u001b[0m: "
     ]
    }
   ],
   "source": [
    "T_start = 35.25\n",
    "Teps=0.0004\n",
    "list= []\n",
    "for i in range(0,100):\n",
    "    Ttest = T_start - i*Teps\n",
    "    action=m.tunneling_at_T(Ttest).action/Ttest\n",
    "    print(Ttest)\n",
    "    list.append([Ttest,action])\n",
    "    print(action)\n",
    "    if action <= 140:\n",
    "        break\n",
    "list = np.array(list).transpose().tolist()\n",
    "Tlist = list[0]\n",
    "actionlist = [i-140 for i in list[1]]\n",
    "f=interpolate.interp1d(Tlist,actionlist,kind='cubic')\n",
    "Tn=optimize.brentq(f,Tlist[-2],Tlist[-1],disp=False, xtol=1e-5, rtol=1e-6)\n",
    "print(Tn)"
   ]
  },
  {
   "cell_type": "code",
   "execution_count": 71,
   "metadata": {},
   "outputs": [
    {
     "name": "stdout",
     "output_type": "stream",
     "text": [
      "Maximum number of deformation iterations reached.\n",
      "Maximum number of deformation iterations reached.\n",
      "Maximum number of deformation iterations reached.\n",
      "Deformation doesn't appear to be converging.Stopping at the point of best convergence.\n",
      "Deformation doesn't appear to be converging.Stopping at the point of best convergence.\n",
      "Deformation doesn't appear to be converging.Stopping at the point of best convergence.\n",
      "Deformation doesn't appear to be converging.Stopping at the point of best convergence.\n",
      "Path deformation converged. 37 steps. fRatio = 1.79508e-02\n",
      "Path deformation converged. 34 steps. fRatio = 1.87454e-02\n",
      "Path deformation converged. 22 steps. fRatio = 1.94585e-02\n",
      "Path deformation converged. 21 steps. fRatio = 1.86664e-02\n",
      "Path deformation converged. 15 steps. fRatio = 1.80200e-02\n"
     ]
    },
    {
     "name": "stderr",
     "output_type": "stream",
     "text": [
      "/Users/isaac/envs/base/lib/python3.9/site-packages/cosmoTransitions/tunneling1D.py:415: RuntimeWarning: overflow encountered in double_scalars\n",
      "  r *= 10\n"
     ]
    },
    {
     "name": "stdout",
     "output_type": "stream",
     "text": [
      "Deformation doesn't appear to be converging.Stopping at the point of best convergence.\n",
      "Deformation doesn't appear to be converging.Stopping at the point of best convergence.\n",
      "Path deformation converged. 45 steps. fRatio = 1.66067e-02\n",
      "Path deformation converged. 16 steps. fRatio = 1.45452e-02\n",
      "Path deformation converged. 21 steps. fRatio = 1.60803e-02\n",
      "Path deformation converged. 16 steps. fRatio = 1.42173e-02\n"
     ]
    },
    {
     "name": "stderr",
     "output_type": "stream",
     "text": [
      "/Users/isaac/envs/base/lib/python3.9/site-packages/cosmoTransitions/tunneling1D.py:415: RuntimeWarning: overflow encountered in double_scalars\n",
      "  r *= 10\n"
     ]
    },
    {
     "name": "stdout",
     "output_type": "stream",
     "text": [
      "Path deformation converged. 29 steps. fRatio = 1.84781e-02\n",
      "Path deformation converged. 45 steps. fRatio = 1.72239e-02\n",
      "Path deformation converged. 16 steps. fRatio = 1.39603e-02\n",
      "Path deformation converged. 40 steps. fRatio = 1.75978e-02\n",
      "Path deformation converged. 11 steps. fRatio = 1.76129e-02\n",
      "131.8852280860954\n"
     ]
    }
   ],
   "source": [
    "Ttest=35.224485\n",
    "print(m.tunneling_at_T(T=Ttest).action/Ttest)"
   ]
  },
  {
   "cell_type": "code",
   "execution_count": 73,
   "metadata": {},
   "outputs": [
    {
     "name": "stdout",
     "output_type": "stream",
     "text": [
      "35.224513994444976\n"
     ]
    }
   ],
   "source": [
    "list = np.array([[35.2255,2592.8491254685623],[35.225,280.9558051468995],[35.2249124503,220.99560844897837],[35.2245,135.23646931658917],[35.224485,131.8852280860954]]).transpose().tolist()\n",
    "Tlist = list[0]\n",
    "actionlist = [i-140 for i in list[1]]\n",
    "f=interpolate.interp1d(Tlist,actionlist,kind='cubic')\n",
    "Tn=optimize.brentq(f,35.225,35.22449,disp=False, xtol=1e-5, rtol=1e-6)\n",
    "print(Tn)"
   ]
  },
  {
   "cell_type": "code",
   "execution_count": 89,
   "metadata": {},
   "outputs": [],
   "source": [
    "import matplotlib.pyplot as plt"
   ]
  },
  {
   "cell_type": "code",
   "execution_count": 96,
   "metadata": {},
   "outputs": [
    {
     "data": {
      "text/plain": [
       "array(32.70515374)"
      ]
     },
     "execution_count": 96,
     "metadata": {},
     "output_type": "execute_result"
    }
   ],
   "source": [
    "f(41.3171)"
   ]
  },
  {
   "cell_type": "code",
   "execution_count": 74,
   "metadata": {},
   "outputs": [
    {
     "name": "stdout",
     "output_type": "stream",
     "text": [
      "6788839.103486166\n"
     ]
    }
   ],
   "source": [
    "Tnuc = 35.224513994444976\n",
    "eps = 0.5*(Tnuc-Tlist[-1])*.99\n",
    "dev = (f(Tnuc - 2.*eps) - 8.*f(Tnuc - eps) + 8.*f(Tnuc+eps) - f(Tnuc + 2.*eps))/(12.*eps)\n",
    "print(dev*Tnuc)"
   ]
  },
  {
   "cell_type": "code",
   "execution_count": 154,
   "metadata": {},
   "outputs": [
    {
     "name": "stdout",
     "output_type": "stream",
     "text": [
      "Finding nucleation temperature for 1d case...\n",
      "Path deformation converged. 1 steps. fRatio = 6.92572e-14\n",
      "Path deformation converged. 1 steps. fRatio = 7.84080e-14\n",
      "Path deformation converged. 1 steps. fRatio = 9.23429e-14\n",
      "Path deformation converged. 1 steps. fRatio = 7.84080e-14\n",
      "Path deformation converged. 1 steps. fRatio = 1.23726e-13\n",
      "Path deformation converged. 1 steps. fRatio = 9.55380e-14\n",
      "Path deformation converged. 1 steps. fRatio = 9.60428e-14\n",
      "Path deformation converged. 1 steps. fRatio = 9.59635e-14\n",
      "Path deformation converged. 1 steps. fRatio = 1.01959e-13\n",
      "Path deformation converged. 1 steps. fRatio = 7.19713e-14\n",
      "Path deformation converged. 1 steps. fRatio = 1.19952e-13\n",
      "Path deformation converged. 1 steps. fRatio = 7.19713e-14\n",
      "Path deformation converged. 1 steps. fRatio = 7.19713e-14\n",
      "Path deformation converged. 1 steps. fRatio = 7.19772e-14\n",
      "Path deformation converged. 1 steps. fRatio = 1.67941e-13\n",
      "Path deformation converged. 1 steps. fRatio = 9.59573e-14\n",
      "Path deformation converged. 1 steps. fRatio = 5.99706e-14\n"
     ]
    },
    {
     "data": {
      "text/plain": [
       "183128.99746081745"
      ]
     },
     "execution_count": 154,
     "metadata": {},
     "output_type": "execute_result"
    }
   ],
   "source": [
    "m.beta_over_H_at_Tn_1d()"
   ]
  },
  {
   "cell_type": "code",
   "execution_count": 210,
   "metadata": {},
   "outputs": [
    {
     "data": {
      "text/plain": [
       "37.07572019262953"
      ]
     },
     "execution_count": 210,
     "metadata": {},
     "output_type": "execute_result"
    }
   ],
   "source": [
    "m.Tn1d"
   ]
  },
  {
   "cell_type": "code",
   "execution_count": 75,
   "metadata": {},
   "outputs": [],
   "source": [
    "m.Tn=35.224513994444976"
   ]
  },
  {
   "cell_type": "code",
   "execution_count": 76,
   "metadata": {},
   "outputs": [
    {
     "data": {
      "text/plain": [
       "0.009394494905031"
      ]
     },
     "execution_count": 76,
     "metadata": {},
     "output_type": "execute_result"
    }
   ],
   "source": [
    "m.alpha()"
   ]
  },
  {
   "cell_type": "code",
   "execution_count": null,
   "metadata": {},
   "outputs": [],
   "source": []
  }
 ],
 "metadata": {
  "kernelspec": {
   "display_name": "Python 3.9.10 ('base')",
   "language": "python",
   "name": "python3"
  },
  "language_info": {
   "codemirror_mode": {
    "name": "ipython",
    "version": 3
   },
   "file_extension": ".py",
   "mimetype": "text/x-python",
   "name": "python",
   "nbconvert_exporter": "python",
   "pygments_lexer": "ipython3",
   "version": "3.9.10"
  },
  "orig_nbformat": 4,
  "vscode": {
   "interpreter": {
    "hash": "d1fdd9000e0c5e4509e568fa85b190da3365b3c2a27cc0fa2efb4d17d7059255"
   }
  }
 },
 "nbformat": 4,
 "nbformat_minor": 2
}
