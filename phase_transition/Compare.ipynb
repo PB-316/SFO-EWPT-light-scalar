{
 "cells": [
  {
   "cell_type": "markdown",
   "id": "e82215ec",
   "metadata": {},
   "source": [
    "# Search for phase transition details for benchmark point"
   ]
  },
  {
   "cell_type": "markdown",
   "id": "06a51c26",
   "metadata": {},
   "source": [
    "This notebook searches for the details of the dynamics of the phase transition for a certain benchmark point. Both 1d and 2d cases are considered."
   ]
  },
  {
   "cell_type": "code",
   "execution_count": 2,
   "id": "7c7063fe-d1fb-4310-9d5e-dff9b86ac7b8",
   "metadata": {},
   "outputs": [],
   "source": [
    "import numpy as np\n",
    "from scipy import optimize\n",
    "from cosmoTransitions import generic_potential as gp\n",
    "from cosmoTransitions import pathDeformation as pd"
   ]
  },
  {
   "cell_type": "code",
   "execution_count": 3,
   "id": "ba758770",
   "metadata": {},
   "outputs": [],
   "source": [
    "import matplotlib.pyplot as plt"
   ]
  },
  {
   "cell_type": "markdown",
   "id": "5c5494c0",
   "metadata": {},
   "source": [
    "## Prepare"
   ]
  },
  {
   "cell_type": "markdown",
   "id": "bfbd30b9",
   "metadata": {},
   "source": [
    "### Constants\n",
    "- $m_H$ = 125. GeV\n",
    "- $v_{EW}$ = 174. GeV"
   ]
  },
  {
   "cell_type": "code",
   "execution_count": 4,
   "id": "4814acbb",
   "metadata": {},
   "outputs": [],
   "source": [
    "GF = 1.16637e-05\n",
    "v = 1/(np.sqrt(2*np.sqrt(2)*GF))\n",
    "mHSM = 125.13"
   ]
  },
  {
   "cell_type": "markdown",
   "id": "7ea2a15b",
   "metadata": {},
   "source": [
    "### Transfer physical parameters to bare parameters\n",
    "$$\n",
    "\\begin{align*}\n",
    "\\mu_H^2 &= \\frac{1}{2}(m_h^2 \\cos^2 \\theta + m_S^2 \\sin^2 \\theta)\\\\\n",
    "\\mu_S^2 &= m_h^2 \\sin^2 \\theta + m_S^2 \\cos^2 \\theta\\\\\n",
    "A &= \\frac{(m_h^2 - m_S^2)\\sin \\theta \\cos \\theta}{\\sqrt{2}v}\\\\\n",
    "\\lambda &= \\frac{m_h^2 \\cos^2 \\theta + m_S^2 \\sin^2 \\theta}{4 v^2}\n",
    "\\end{align*}\n",
    "$$\n"
   ]
  },
  {
   "cell_type": "code",
   "execution_count": 5,
   "id": "79414274",
   "metadata": {},
   "outputs": [],
   "source": [
    "def muH2(mS, sintheta):\n",
    "    \"\"\"\\mu_H square\"\"\"\n",
    "    return 0.5*(mHSM**2 * (1-sintheta**2) + mS**2 * sintheta**2)\n",
    "\n",
    "def muS2(mS, sintheta):\n",
    "    \"\"\"\\mu_S square\"\"\"\n",
    "    return sintheta**2 * mHSM**2 + (1 - sintheta**2) * mS**2\n",
    "\n",
    "def A(mS, sintheta):\n",
    "    \"\"\"A parameter\"\"\"\n",
    "    nominator = (mHSM**2 - mS**2) * sintheta * np.sqrt(1-sintheta**2)\n",
    "    denominator = np.sqrt(2) * v\n",
    "    return nominator/denominator\n",
    "\n",
    "def lm(mS, sintheta):\n",
    "    \"\"\"\\lambda parameter\"\"\"\n",
    "    nominator = (1 - sintheta**2)*mHSM**2 + sintheta**2 * mS**2\n",
    "    return nominator/(4*v**2)"
   ]
  },
  {
   "cell_type": "markdown",
   "id": "1a800b9a",
   "metadata": {},
   "source": [
    "## Define effective potential"
   ]
  },
  {
   "cell_type": "markdown",
   "id": "340891cf",
   "metadata": {},
   "source": [
    "Here we define the effective potential for both 1d and 2d case."
   ]
  },
  {
   "cell_type": "code",
   "execution_count": 6,
   "id": "43ca1025",
   "metadata": {},
   "outputs": [],
   "source": [
    "class model(gp.generic_potential):\n",
    "    def init(self, mS, sintheta):\n",
    "        self.Ndim = 2\n",
    "        self.Tmax = 100\n",
    "        self.mS = mS\n",
    "        self.sintheta = sintheta\n",
    "        self.lm = lm(self.mS, self.sintheta)\n",
    "        self.A = A(self.mS,self.sintheta)\n",
    "        self.muH2 = muH2(self.mS,self.sintheta)\n",
    "        self.muS2 = muS2(self.mS,self.sintheta)\n",
    "        self.g = 0.65\n",
    "        self.gY = 0.36\n",
    "        self.yt = 0.9945\n",
    "        self.D = (3*self.g**2 + self.gY**2 + 4*self.yt**2)/16.\n",
    "        self.E = (2*self.g**3+(self.g**2 + self.gY**2)**(3/2))/(48*np.pi)\n",
    "        self.cs = 1./3\n",
    "        self.Deff = self.D - self.cs * self.A**2/(4.*self.muS2)\n",
    "        self.lmeff = self.lm - self.A**2/(2*self.muS2)\n",
    "        self.T0 = np.sqrt(0.5*self.muH2 - v**2 * self.A**2 /(2*self.muS2))/np.sqrt(self.D - self.cs*self.A**2/(4*self.muS2))\n",
    "        self.Tc = self.T0*np.sqrt((self.Deff * self.lmeff)/(-self.E**2 + self.Deff*self.lmeff))\n",
    "        self.strength = 2*self.E/self.lmeff\n",
    "        self.Tn = False\n",
    "\n",
    "\n",
    "    def Vtot(self, X, T, include_radiation=True):\n",
    "        T = np.asanyarray(T, dtype=float)\n",
    "        X = np.asanyarray(X, dtype=float)\n",
    "        T2 = (T*T)+1e-100\n",
    "        phi1 = X[...,0]\n",
    "        phi2 = X[...,1]\n",
    "        y = self.D * T2 * phi1**2 - 0.5 * self.muH2 * phi1**2\n",
    "        y += - self.E * T * phi1**3\n",
    "        y += 0.25 * self.lm * phi1**4\n",
    "        y += 0.5*self.muS2*phi2**2 - 0.5 * self.A * (phi1**2 + self.cs * T2 - 2 * v**2)*phi2\n",
    "\n",
    "        return y\n",
    "\n",
    "    def truevev(self,T):\n",
    "        assert T < self.Tc\n",
    "        nominator = 3.* T * self.E + np.sqrt(9.*self.E**2 * T**2 + 8.*self.Deff * (self.T0**2 - T**2)*self.lmeff)\n",
    "        denominator = 2.*self.lmeff\n",
    "        return nominator/denominator\n",
    "\n",
    "    def Spath(self, X, T):\n",
    "        X = np.asanyarray(X)\n",
    "        T = np.asanyarray(T)\n",
    "        phi1 = X[...,0]\n",
    "        T2 = (T*T) + 1e-100\n",
    "        return 0.5*self.A*(phi1**2 + self.cs * T2 - 2 * v**2)/self.muS2\n",
    "\n",
    "    def tunneling_at_T(self, T):\n",
    "        assert T < self.Tc\n",
    "        def V_(x, T=T, V=self.Vtot):\n",
    "            return V(x,T)\n",
    "        def dV_(x, T=T, dV=self.gradV):\n",
    "            return dV(x,T)\n",
    "        # tobj = pd.fullTunneling([self.findMinimum(T=T),[1e-10,self.Spath([1e-10],T)]],V_,dV_)\n",
    "        tobj = pd.fullTunneling([[self.truevev(T=T),self.Spath([self.truevev(T=T)],T)],[1e-10,self.Spath([1e-10],T)]],V_,dV_)\n",
    "        return tobj\n",
    "\n",
    "    def findTn(self):\n",
    "        eps = 0.01\n",
    "        def nuclea_trigger(Tv):\n",
    "            ST = self.tunneling_at_T(T=Tv).action/Tv\n",
    "            return ST - 140.\n",
    "        for i in range(1,1000):\n",
    "            if nuclea_trigger(self.Tc - i*eps) <= 0.:\n",
    "                break\n",
    "        Tn1 = self.Tc - (i-1)*eps\n",
    "        self.Tn = optimize.brentq(nuclea_trigger,Tn1, Tn1-eps,disp=False)\n",
    "\n",
    "    def beta_over_H_at_Tn(self):\n",
    "        \"Ridders algorithm\"\n",
    "        if not self.Tn:\n",
    "            self.findTn()\n",
    "        Tnuc = self.Tn\n",
    "        if self.Tc-Tnuc >=0.002: eps = 0.001\n",
    "        else: eps=0.99*(self.Tc-Tnuc)/2\n",
    "        def SoverT(Tv):\n",
    "            ST = self.tunneling_at_T(T=Tv).action/Tv\n",
    "            return ST\n",
    "        dev = (SoverT(Tnuc-2.*eps) - 8.*SoverT(Tnuc-eps) + 8.*SoverT(Tnuc+eps)- SoverT(Tnuc+2.*eps))/(12.*eps)\n",
    "        return dev*Tnuc\n",
    "\n",
    "    def alpha(self):\n",
    "        if not self.Tn:\n",
    "            self.findTn()\n",
    "        Tnuc = self.Tn\n",
    "        if self.Tc-Tnuc >=0.002: eps = 0.001\n",
    "        else: eps=0.99*(self.Tc-Tnuc)/2\n",
    "        def deltaV(T):\n",
    "            falsev=[0,self.Spath([0],T)]\n",
    "            truev=self.findMinimum(T=T)\n",
    "            return self.Vtot(falsev,T)-self.Vtot(truev,T)\n",
    "        dev = (deltaV(Tnuc-2*eps) - 8.*deltaV(Tnuc-eps) + 8.*deltaV(Tnuc+eps) - deltaV(Tnuc+2.*eps))/(12.*eps) # derivative of deltaV w.r.t T at Tn\n",
    "        latent=deltaV(Tnuc) - 0.25*Tnuc*dev\n",
    "        rho_crit = np.pi**2*106.75*Tnuc**4/30.\n",
    "        return latent/rho_crit"
   ]
  },
  {
   "cell_type": "code",
   "execution_count": 7,
   "id": "c3288933",
   "metadata": {},
   "outputs": [],
   "source": [
    "class model1d(gp.generic_potential):\n",
    "    def init(self, mS, sintheta):\n",
    "        self.Ndim = 1\n",
    "        self.Tmax = 100\n",
    "        self.mS = mS\n",
    "        self.sintheta = sintheta\n",
    "        self.lm = lm(self.mS, self.sintheta)\n",
    "        self.A = A(self.mS,self.sintheta)\n",
    "        self.muH2 = muH2(self.mS,self.sintheta)\n",
    "        self.muS2 = muS2(self.mS,self.sintheta)\n",
    "        self.g = 0.65\n",
    "        self.gY = 0.36\n",
    "        self.yt = 0.9945\n",
    "        self.D = (3*self.g**2 + self.gY**2 + 4*self.yt**2)/16.\n",
    "        self.E = (2*self.g**3+(self.g**2 + self.gY**2)**(3/2))/(48*np.pi)\n",
    "        self.cs = 1./3\n",
    "        self.Deff = self.D - self.cs * self.A**2/(4.*self.muS2)\n",
    "        self.lmeff = self.lm - self.A**2/(2*self.muS2)\n",
    "        self.T0 = np.sqrt(0.5*self.muH2 - v**2 * self.A**2 /(2*self.muS2))/np.sqrt(self.D - self.cs*self.A**2/(4*self.muS2))\n",
    "        self.Tc = self.T0*np.sqrt((self.Deff * self.lmeff)/(-self.E**2 + self.Deff*self.lmeff))\n",
    "        self.strength = 2*self.E/self.lmeff\n",
    "        self.Tn = False\n",
    "\n",
    "    def Vtot(self, X, T, include_radiation = True):\n",
    "        T = np.asanyarray(T, dtype=float)\n",
    "        X = np.asanyarray(X, dtype=float)\n",
    "        T2 = (T*T) + 1e-100\n",
    "        phi1 = X[...,0]\n",
    "        y = self.Deff * T2 * phi1**2 - (0.5*self.muH2 - 0.5 * v**2 * self.A**2 / (self.muS2))*phi1**2\n",
    "        y += - self.E * T * phi1 **3\n",
    "        y += 0.25 * self.lmeff * phi1**4\n",
    "        return y\n",
    "\n",
    "    def truevev(self,T):\n",
    "        assert T < self.Tc\n",
    "        nominator = 3.* T * self.E + np.sqrt(9.*self.E**2 * T**2 + 8.*self.Deff * (self.T0**2 - T**2)*self.lmeff)\n",
    "        denominator = 2.*self.lmeff\n",
    "        return nominator/denominator\n",
    "\n",
    "    def tunneling_at_T(self, T):\n",
    "        assert T < self.Tc\n",
    "        def V_(x, T=T, V=self.Vtot):\n",
    "            return V(x,T)\n",
    "        def dV_(x, T=T, dV=self.gradV):\n",
    "            return dV(x,T)\n",
    "        tobj = pd.fullTunneling([[self.truevev(T)],[1e-10]],V_,dV_)\n",
    "        return tobj\n",
    "\n",
    "    def findTn(self):\n",
    "        eps = 0.01\n",
    "        def nuclea_trigger(Tv):\n",
    "            ST = self.tunneling_at_T(T=Tv).action/Tv\n",
    "            return ST - 140.\n",
    "        for i in range(1,1000):\n",
    "            if nuclea_trigger(self.Tc - i*eps) <= 0.:\n",
    "                break\n",
    "        Tn1 = self.Tc - (i-1)*eps\n",
    "        self.Tn = optimize.brentq(nuclea_trigger,Tn1, Tn1-eps,disp=False)\n",
    "\n",
    "    def beta_over_H_at_Tn(self):\n",
    "        \"Ridders algorithm\"\n",
    "        if not self.Tn:\n",
    "            self.findTn()\n",
    "        Tnuc = self.Tn\n",
    "        if self.Tc-Tnuc >=0.002: eps = 0.001\n",
    "        else: eps=0.99*(self.Tc-Tnuc)/2\n",
    "        def SoverT(Tv):\n",
    "            ST = self.tunneling_at_T(T=Tv).action/Tv\n",
    "            return ST\n",
    "        dev = (SoverT(Tnuc-2.*eps) - 8.*SoverT(Tnuc-eps) + 8.*SoverT(Tnuc+eps)- SoverT(Tnuc+2.*eps))/(12.*eps)\n",
    "        return dev*Tnuc\n",
    "\n",
    "    def alpha(self):\n",
    "        if not self.Tn:\n",
    "            self.findTn()\n",
    "        Tnuc = self.Tn\n",
    "        if self.Tc-Tnuc >=0.002: eps = 0.001\n",
    "        else: eps=0.99*(self.Tc-Tnuc)/2\n",
    "        def deltaV(T):\n",
    "            falsev=[0,m.Spath([0],T)]\n",
    "            truev=m.findMinimum(T=T)\n",
    "            return m.Vtot(falsev,T)-m.Vtot(truev,T)\n",
    "        dev = (deltaV(Tnuc-2*eps) - 8.*deltaV(Tnuc-eps) + 8.*deltaV(Tnuc+eps) - deltaV(Tnuc+2.*eps))/(12.*eps) # derivative of deltaV w.r.t T at Tn\n",
    "        latent=deltaV(Tnuc) - 0.25*Tnuc*dev\n",
    "        rho_crit = np.pi**2*106.75*Tnuc**4/30.\n",
    "        return latent/rho_crit"
   ]
  },
  {
   "cell_type": "markdown",
   "id": "5b0a9a3d",
   "metadata": {},
   "source": [
    "## Test Phase Transition Computation"
   ]
  },
  {
   "cell_type": "code",
   "execution_count": 8,
   "id": "e1b08370",
   "metadata": {},
   "outputs": [
    {
     "name": "stdout",
     "output_type": "stream",
     "text": [
      "31.037748419021955\n",
      "85.78803842342329\n",
      "15.08095388751636\n",
      "0.1213961221046201\n"
     ]
    }
   ],
   "source": [
    "m=model(5., 0.245) # Define model benchmark\n",
    "m1d = model1d(5,0.245)\n",
    "print(m.muS2**0.5)\n",
    "print(m.muH2**0.5)\n",
    "print(m.A)\n",
    "print(m.lm)"
   ]
  },
  {
   "cell_type": "markdown",
   "id": "c424bee1",
   "metadata": {},
   "source": [
    "Here we can first make a intuitive understanding. Previous trial has already shows that the tunneling is around the \"valley\". Then it gives that the field S should obey\n",
    "$$\n",
    "\\langle S \\rangle = \\frac{A}{2\\mu_S^2}(h^2 - 2v^2 + c_s T^2)\n",
    "$$\n",
    "This expression implies the relationship between the Higgs field kinetic energy and the light scalar field. The kinetic energy is defined as $(d\\phi/dr)^2$ where the $\\phi$ can refers to any field. Here we have\n",
    "$$\n",
    "K_S = K_h \\left (\\frac{A h}{\\mu_S^2}\\right )^2\n",
    "$$\n",
    "This depends, of course, on the field of $h$, so that this ratio may change. But we can plug in the typical value of $h$ in the later result and have a quick estimation. They typically should be at the same order of magnitude (depending on $h$), and since the 2d case has extra kinetic energy contribution, the action should be larger and the nucleation temperature should be slightly delayed. This delay won't be too large since the $dS/dT$ is expected to be sharp."
   ]
  },
  {
   "cell_type": "code",
   "execution_count": 122,
   "id": "2bfb2f97",
   "metadata": {},
   "outputs": [
    {
     "name": "stderr",
     "output_type": "stream",
     "text": [
      "/Users/isaac/opt/anaconda3/lib/python3.9/site-packages/cosmoTransitions/tunneling1D.py:331: RuntimeWarning: overflow encountered in double_scalars\n",
      "  beta_r = beta*r\n",
      "/Users/isaac/opt/anaconda3/lib/python3.9/site-packages/cosmoTransitions/tunneling1D.py:415: RuntimeWarning: overflow encountered in double_scalars\n",
      "  r *= 10\n",
      "/Users/isaac/opt/anaconda3/lib/python3.9/site-packages/cosmoTransitions/tunneling1D.py:331: RuntimeWarning: overflow encountered in double_scalars\n",
      "  beta_r = beta*r\n"
     ]
    },
    {
     "name": "stdout",
     "output_type": "stream",
     "text": [
      "Path deformation converged. 25 steps. fRatio = 6.86158e-03\n",
      "Path deformation converged. 22 steps. fRatio = 1.51637e-02\n",
      "Path deformation converged. 7 steps. fRatio = 1.70470e-02\n",
      "Path deformation converged. 1 steps. fRatio = 2.14003e-03\n"
     ]
    },
    {
     "name": "stderr",
     "output_type": "stream",
     "text": [
      "/Users/isaac/opt/anaconda3/lib/python3.9/site-packages/cosmoTransitions/tunneling1D.py:331: RuntimeWarning: overflow encountered in double_scalars\n",
      "  beta_r = beta*r\n",
      "/Users/isaac/opt/anaconda3/lib/python3.9/site-packages/cosmoTransitions/tunneling1D.py:415: RuntimeWarning: overflow encountered in double_scalars\n",
      "  r *= 10\n",
      "/Users/isaac/opt/anaconda3/lib/python3.9/site-packages/cosmoTransitions/tunneling1D.py:331: RuntimeWarning: overflow encountered in double_scalars\n",
      "  beta_r = beta*r\n"
     ]
    },
    {
     "name": "stdout",
     "output_type": "stream",
     "text": [
      "Path deformation converged. 23 steps. fRatio = 1.62335e-02\n",
      "Path deformation converged. 23 steps. fRatio = 1.48487e-02\n",
      "Path deformation converged. 7 steps. fRatio = 1.37645e-02\n",
      "Path deformation converged. 1 steps. fRatio = 4.98614e-03\n",
      "Path deformation converged. 24 steps. fRatio = 1.33720e-02\n",
      "Path deformation converged. 23 steps. fRatio = 1.02113e-02\n",
      "Path deformation converged. 7 steps. fRatio = 1.89119e-02\n",
      "Path deformation converged. 1 steps. fRatio = 8.01060e-03\n",
      "Path deformation converged. 24 steps. fRatio = 1.92698e-02\n",
      "Path deformation converged. 24 steps. fRatio = 6.80984e-03\n",
      "Path deformation converged. 8 steps. fRatio = 1.16895e-02\n",
      "Path deformation converged. 1 steps. fRatio = 2.80659e-03\n",
      "Path deformation converged. 25 steps. fRatio = 9.22617e-03\n",
      "Path deformation converged. 22 steps. fRatio = 1.92131e-02\n",
      "Path deformation converged. 8 steps. fRatio = 1.60475e-02\n",
      "Path deformation converged. 1 steps. fRatio = 5.19379e-03\n",
      "Path deformation converged. 25 steps. fRatio = 1.25160e-02\n",
      "Path deformation converged. 21 steps. fRatio = 1.91423e-02\n",
      "Path deformation converged. 9 steps. fRatio = 8.35700e-03\n",
      "Path deformation converged. 1 steps. fRatio = 1.16994e-03\n",
      "Path deformation converged. 25 steps. fRatio = 1.62904e-02\n",
      "Path deformation converged. 20 steps. fRatio = 4.66310e-03\n",
      "Path deformation converged. 8 steps. fRatio = 1.29330e-02\n",
      "Path deformation converged. 1 steps. fRatio = 5.98541e-03\n",
      "Path deformation converged. 27 steps. fRatio = 1.68184e-02\n",
      "Path deformation converged. 24 steps. fRatio = 1.40918e-02\n",
      "Path deformation converged. 8 steps. fRatio = 1.83133e-02\n",
      "Path deformation converged. 1 steps. fRatio = 9.27853e-03\n",
      "Path deformation converged. 28 steps. fRatio = 1.52204e-02\n",
      "Path deformation converged. 19 steps. fRatio = 1.56541e-02\n",
      "Path deformation converged. 9 steps. fRatio = 1.29926e-02\n",
      "Path deformation converged. 1 steps. fRatio = 4.40462e-03\n",
      "Path deformation converged. 24 steps. fRatio = 1.69939e-02\n",
      "Path deformation converged. 19 steps. fRatio = 1.94643e-02\n",
      "Path deformation converged. 7 steps. fRatio = 1.82955e-02\n",
      "Path deformation converged. 1 steps. fRatio = 1.32777e-02\n",
      "Path deformation converged. 25 steps. fRatio = 9.21842e-03\n",
      "Path deformation converged. 20 steps. fRatio = 1.66400e-02\n",
      "Path deformation converged. 8 steps. fRatio = 1.79033e-02\n",
      "Path deformation converged. 1 steps. fRatio = 1.17354e-02\n",
      "Path deformation converged. 25 steps. fRatio = 1.14702e-02\n",
      "Path deformation converged. 20 steps. fRatio = 1.03451e-02\n",
      "Path deformation converged. 9 steps. fRatio = 1.55622e-02\n",
      "Path deformation converged. 1 steps. fRatio = 8.27186e-03\n",
      "Path deformation converged. 25 steps. fRatio = 1.39394e-02\n",
      "Path deformation converged. 23 steps. fRatio = 1.57434e-02\n",
      "Path deformation converged. 6 steps. fRatio = 1.49713e-02\n",
      "Path deformation converged. 1 steps. fRatio = 1.42631e-03\n",
      "Path deformation converged. 25 steps. fRatio = 1.66082e-02\n",
      "Path deformation converged. 25 steps. fRatio = 1.10447e-02\n",
      "Path deformation converged. 6 steps. fRatio = 1.97783e-02\n",
      "Path deformation converged. 1 steps. fRatio = 3.18491e-03\n",
      "Path deformation converged. 25 steps. fRatio = 1.94569e-02\n",
      "Path deformation converged. 21 steps. fRatio = 1.45740e-02\n",
      "Path deformation converged. 9 steps. fRatio = 1.57542e-02\n",
      "Path deformation converged. 1 steps. fRatio = 1.02503e-02\n",
      "Path deformation converged. 25 steps. fRatio = 1.54968e-02\n",
      "Path deformation converged. 24 steps. fRatio = 1.66345e-02\n",
      "Path deformation converged. 6 steps. fRatio = 1.03943e-02\n",
      "Path deformation converged. 1 steps. fRatio = 3.55381e-03\n",
      "Path deformation converged. 25 steps. fRatio = 1.76010e-02\n",
      "Path deformation converged. 20 steps. fRatio = 1.48338e-02\n",
      "Path deformation converged. 6 steps. fRatio = 1.38778e-02\n",
      "Path deformation converged. 1 steps. fRatio = 4.90570e-03\n",
      "Path deformation converged. 25 steps. fRatio = 1.98346e-02\n",
      "Path deformation converged. 21 steps. fRatio = 1.37096e-02\n",
      "Path deformation converged. 6 steps. fRatio = 1.77259e-02\n",
      "Path deformation converged. 1 steps. fRatio = 6.41338e-03\n",
      "Path deformation converged. 27 steps. fRatio = 1.88367e-02\n",
      "Path deformation converged. 17 steps. fRatio = 7.70811e-03\n",
      "Path deformation converged. 7 steps. fRatio = 8.60868e-03\n",
      "Path deformation converged. 1 steps. fRatio = 1.29313e-03\n",
      "Path deformation converged. 25 steps. fRatio = 1.58982e-02\n",
      "Path deformation converged. 21 steps. fRatio = 1.22430e-02\n",
      "Path deformation converged. 3 steps. fRatio = 1.03579e-02\n",
      "Path deformation converged. 1 steps. fRatio = 3.09517e-03\n",
      "Path deformation converged. 25 steps. fRatio = 1.78504e-02\n",
      "Path deformation converged. 22 steps. fRatio = 7.18814e-03\n",
      "Path deformation converged. 3 steps. fRatio = 1.33300e-02\n",
      "Path deformation converged. 1 steps. fRatio = 3.42929e-03\n",
      "Path deformation converged. 25 steps. fRatio = 1.98889e-02\n",
      "Path deformation converged. 17 steps. fRatio = 7.81623e-03\n",
      "Path deformation converged. 3 steps. fRatio = 1.68387e-02\n",
      "Path deformation converged. 1 steps. fRatio = 4.04297e-03\n",
      "Path deformation converged. 26 steps. fRatio = 6.11516e-03\n",
      "Path deformation converged. 17 steps. fRatio = 1.54302e-02\n",
      "Path deformation converged. 3 steps. fRatio = 1.99027e-02\n",
      "Path deformation converged. 1 steps. fRatio = 4.61116e-03\n",
      "Path deformation converged. 26 steps. fRatio = 7.01595e-03\n",
      "Path deformation converged. 20 steps. fRatio = 1.70368e-02\n",
      "Path deformation converged. 5 steps. fRatio = 1.88117e-02\n",
      "Path deformation converged. 1 steps. fRatio = 1.23206e-02\n",
      "Path deformation converged. 26 steps. fRatio = 6.11516e-03\n",
      "Path deformation converged. 17 steps. fRatio = 1.54302e-02\n",
      "Path deformation converged. 3 steps. fRatio = 1.99027e-02\n",
      "Path deformation converged. 1 steps. fRatio = 4.61116e-03\n",
      "Path deformation converged. 26 steps. fRatio = 7.01597e-03\n",
      "Path deformation converged. 20 steps. fRatio = 1.70368e-02\n",
      "Path deformation converged. 5 steps. fRatio = 1.88117e-02\n",
      "Path deformation converged. 1 steps. fRatio = 1.23206e-02\n",
      "Path deformation converged. 26 steps. fRatio = 6.62992e-03\n",
      "Path deformation converged. 19 steps. fRatio = 1.79389e-02\n",
      "Path deformation converged. 5 steps. fRatio = 1.81624e-02\n",
      "Path deformation converged. 1 steps. fRatio = 1.19194e-02\n",
      "Path deformation converged. 26 steps. fRatio = 6.61551e-03\n",
      "Path deformation converged. 19 steps. fRatio = 1.77739e-02\n",
      "Path deformation converged. 5 steps. fRatio = 1.81018e-02\n",
      "Path deformation converged. 1 steps. fRatio = 1.18891e-02\n",
      "Path deformation converged. 26 steps. fRatio = 6.61529e-03\n",
      "Path deformation converged. 19 steps. fRatio = 1.77716e-02\n",
      "Path deformation converged. 5 steps. fRatio = 1.81008e-02\n",
      "Path deformation converged. 1 steps. fRatio = 1.18888e-02\n",
      "Path deformation converged. 26 steps. fRatio = 6.61535e-03\n",
      "Path deformation converged. 19 steps. fRatio = 1.77719e-02\n",
      "Path deformation converged. 5 steps. fRatio = 1.81009e-02\n",
      "Path deformation converged. 1 steps. fRatio = 1.18883e-02\n",
      "Path deformation converged. 26 steps. fRatio = 6.61534e-03\n",
      "Path deformation converged. 19 steps. fRatio = 1.77717e-02\n",
      "Path deformation converged. 5 steps. fRatio = 1.81007e-02\n",
      "Path deformation converged. 1 steps. fRatio = 1.18883e-02\n",
      "Path deformation converged. 26 steps. fRatio = 6.61531e-03\n",
      "Path deformation converged. 19 steps. fRatio = 1.77715e-02\n",
      "Path deformation converged. 5 steps. fRatio = 1.81007e-02\n",
      "Path deformation converged. 1 steps. fRatio = 1.18883e-02\n",
      "Path deformation converged. 26 steps. fRatio = 6.61530e-03\n",
      "Path deformation converged. 19 steps. fRatio = 1.77716e-02\n",
      "Path deformation converged. 5 steps. fRatio = 1.81007e-02\n",
      "Path deformation converged. 1 steps. fRatio = 1.18889e-02\n",
      "Path deformation converged. 26 steps. fRatio = 6.61534e-03\n",
      "Path deformation converged. 19 steps. fRatio = 1.77717e-02\n",
      "Path deformation converged. 5 steps. fRatio = 1.81008e-02\n",
      "Path deformation converged. 1 steps. fRatio = 1.18889e-02\n",
      "Path deformation converged. 26 steps. fRatio = 6.61533e-03\n",
      "Path deformation converged. 19 steps. fRatio = 1.77717e-02\n",
      "Path deformation converged. 5 steps. fRatio = 1.81008e-02\n",
      "Path deformation converged. 1 steps. fRatio = 1.18889e-02\n",
      "Path deformation converged. 26 steps. fRatio = 6.61530e-03\n",
      "Path deformation converged. 19 steps. fRatio = 1.77715e-02\n",
      "Path deformation converged. 5 steps. fRatio = 1.81007e-02\n",
      "Path deformation converged. 1 steps. fRatio = 1.18884e-02\n",
      "Path deformation converged. 26 steps. fRatio = 6.61534e-03\n",
      "Path deformation converged. 19 steps. fRatio = 1.77717e-02\n",
      "Path deformation converged. 5 steps. fRatio = 1.81008e-02\n",
      "Path deformation converged. 1 steps. fRatio = 1.18889e-02\n",
      "Path deformation converged. 26 steps. fRatio = 6.61535e-03\n",
      "Path deformation converged. 19 steps. fRatio = 1.77716e-02\n",
      "Path deformation converged. 5 steps. fRatio = 1.81008e-02\n",
      "Path deformation converged. 1 steps. fRatio = 1.18889e-02\n",
      "Path deformation converged. 26 steps. fRatio = 6.61532e-03\n",
      "Path deformation converged. 19 steps. fRatio = 1.77716e-02\n",
      "Path deformation converged. 5 steps. fRatio = 1.81008e-02\n",
      "Path deformation converged. 1 steps. fRatio = 1.18889e-02\n",
      "Path deformation converged. 26 steps. fRatio = 6.61533e-03\n",
      "Path deformation converged. 19 steps. fRatio = 1.77715e-02\n",
      "Path deformation converged. 5 steps. fRatio = 1.81007e-02\n",
      "Path deformation converged. 1 steps. fRatio = 1.18882e-02\n",
      "Path deformation converged. 26 steps. fRatio = 6.61531e-03\n",
      "Path deformation converged. 19 steps. fRatio = 1.77718e-02\n",
      "Path deformation converged. 5 steps. fRatio = 1.81008e-02\n",
      "Path deformation converged. 1 steps. fRatio = 1.18889e-02\n",
      "Path deformation converged. 26 steps. fRatio = 6.61529e-03\n",
      "Path deformation converged. 19 steps. fRatio = 1.77716e-02\n",
      "Path deformation converged. 5 steps. fRatio = 1.81007e-02\n",
      "Path deformation converged. 1 steps. fRatio = 1.18883e-02\n",
      "Path deformation converged. 26 steps. fRatio = 6.61534e-03\n",
      "Path deformation converged. 19 steps. fRatio = 1.77717e-02\n",
      "Path deformation converged. 5 steps. fRatio = 1.81008e-02\n",
      "Path deformation converged. 1 steps. fRatio = 1.18890e-02\n",
      "Path deformation converged. 26 steps. fRatio = 6.61533e-03\n",
      "Path deformation converged. 19 steps. fRatio = 1.77716e-02\n",
      "Path deformation converged. 5 steps. fRatio = 1.81008e-02\n",
      "Path deformation converged. 1 steps. fRatio = 1.18889e-02\n",
      "Path deformation converged. 1 steps. fRatio = 1.49440e-13\n",
      "Path deformation converged. 1 steps. fRatio = 1.46130e-13\n",
      "Path deformation converged. 1 steps. fRatio = 9.55093e-14\n",
      "Path deformation converged. 1 steps. fRatio = 9.40210e-14\n",
      "Path deformation converged. 1 steps. fRatio = 6.98415e-14\n",
      "Path deformation converged. 1 steps. fRatio = 1.16121e-13\n",
      "Path deformation converged. 1 steps. fRatio = 9.33312e-14\n",
      "Path deformation converged. 1 steps. fRatio = 9.44179e-14\n",
      "Path deformation converged. 1 steps. fRatio = 7.20876e-14\n",
      "Path deformation converged. 1 steps. fRatio = 9.84201e-14\n",
      "Path deformation converged. 1 steps. fRatio = 7.59168e-14\n",
      "Path deformation converged. 1 steps. fRatio = 6.53744e-14\n",
      "Path deformation converged. 1 steps. fRatio = 5.42817e-14\n",
      "Path deformation converged. 1 steps. fRatio = 5.65562e-14\n",
      "Path deformation converged. 1 steps. fRatio = 2.95716e-14\n",
      "Path deformation converged. 1 steps. fRatio = 6.20876e-14\n",
      "Path deformation converged. 1 steps. fRatio = 3.27221e-14\n",
      "Path deformation converged. 1 steps. fRatio = 1.03813e-13\n",
      "Path deformation converged. 1 steps. fRatio = 9.18554e-14\n",
      "Path deformation converged. 1 steps. fRatio = 5.87731e-14\n",
      "Path deformation converged. 1 steps. fRatio = 4.19842e-14\n",
      "Path deformation converged. 1 steps. fRatio = 4.52180e-14\n",
      "Path deformation converged. 1 steps. fRatio = 4.89902e-14\n",
      "Path deformation converged. 1 steps. fRatio = 5.67735e-14\n",
      "Path deformation converged. 1 steps. fRatio = 4.89902e-14\n",
      "Path deformation converged. 1 steps. fRatio = 8.01508e-14\n",
      "Path deformation converged. 1 steps. fRatio = 7.41082e-14\n",
      "Path deformation converged. 1 steps. fRatio = 4.93879e-14\n",
      "Path deformation converged. 1 steps. fRatio = 7.40808e-14\n",
      "Path deformation converged. 1 steps. fRatio = 7.40808e-14\n",
      "Path deformation converged. 1 steps. fRatio = 7.40808e-14\n",
      "Path deformation converged. 1 steps. fRatio = 7.40808e-14\n"
     ]
    }
   ],
   "source": [
    "m.findTn() # Find nucleation temperature\n",
    "m1d.findTn()"
   ]
  },
  {
   "cell_type": "code",
   "execution_count": 123,
   "id": "b8b9c5cd",
   "metadata": {},
   "outputs": [
    {
     "name": "stdout",
     "output_type": "stream",
     "text": [
      "Critical temperature: 18.31545781304192\n",
      "Nucleation temperature: 2d case:18.079838658656108, 1d case:18.08448948742459\n"
     ]
    }
   ],
   "source": [
    "print(\"Critical temperature: \" + str(m.Tc))\n",
    "print(\"Nucleation temperature: 2d case:\" + str(m.Tn) + \", 1d case:\" + str(m1d.Tn))"
   ]
  },
  {
   "cell_type": "markdown",
   "id": "270510cd",
   "metadata": {},
   "source": [
    "This is what we expected. The light scalar motion should contribute to larger action, which delays the nucleation temperature. Now let's compare the action in 2 cases at the \"same\" temperature (note that it should be the same temperature!) e.g. use the nucleation temperature of the 1d case.\n",
    "\n",
    "Note that I use the higher $T_n$ to make sure that the Action won't be too small. For some cases, the action becomes negative when the temperature drops some distance away from $T_n$."
   ]
  },
  {
   "cell_type": "code",
   "execution_count": 125,
   "id": "276d3193",
   "metadata": {},
   "outputs": [
    {
     "name": "stdout",
     "output_type": "stream",
     "text": [
      "Path deformation converged. 26 steps. fRatio = 6.19957e-03\n",
      "Path deformation converged. 17 steps. fRatio = 1.63943e-02\n",
      "Path deformation converged. 5 steps. fRatio = 1.53814e-02\n",
      "Path deformation converged. 1 steps. fRatio = 1.00276e-02\n",
      "Action for 2d case: 2744.7780013812735\n",
      "Path deformation converged. 1 steps. fRatio = 7.40808e-14\n",
      "Action for 1d case: 2531.828528242657\n"
     ]
    }
   ],
   "source": [
    "print(\"Action for 2d case: \" + str(m.tunneling_at_T(m1d.Tn).action))\n",
    "print(\"Action for 1d case: \" + str(m1d.tunneling_at_T(m1d.Tn).action))"
   ]
  },
  {
   "cell_type": "markdown",
   "id": "92d22c7b",
   "metadata": {},
   "source": [
    "OK the action is different. Now we can find out the profiles to see it. The things are hidden in the 2d solved profile, I believe."
   ]
  },
  {
   "cell_type": "markdown",
   "id": "aaf38ff2",
   "metadata": {},
   "source": [
    "## Check the solved profile"
   ]
  },
  {
   "cell_type": "code",
   "execution_count": 126,
   "id": "dbf5df06",
   "metadata": {},
   "outputs": [
    {
     "name": "stdout",
     "output_type": "stream",
     "text": [
      "Path deformation converged. 26 steps. fRatio = 6.19957e-03\n",
      "Path deformation converged. 17 steps. fRatio = 1.63943e-02\n",
      "Path deformation converged. 5 steps. fRatio = 1.53814e-02\n",
      "Path deformation converged. 1 steps. fRatio = 1.00276e-02\n"
     ]
    }
   ],
   "source": [
    "tunneling = m.tunneling_at_T(m1d.Tn)"
   ]
  },
  {
   "cell_type": "code",
   "execution_count": 127,
   "id": "30bb092f",
   "metadata": {},
   "outputs": [],
   "source": [
    "phi1d=tunneling.profile1D.Phi - tunneling.profile1D.Phi[0]+1.42210318e-02\n",
    "R = tunneling.profile1D.R\n",
    "hfield = tunneling.Phi[:,0]\n",
    "Sfield = tunneling.Phi[:,1]\n",
    "dphi1d = tunneling.profile1D.dPhi"
   ]
  },
  {
   "cell_type": "markdown",
   "id": "6b12b3e0",
   "metadata": {},
   "source": [
    "But what is the phi1d? I do not think the documentation is very clear. But according to their paper section \"multi-dimensional solution and path deformation\", that's probably an effective path which satisfy the bounce equation at every point. And their documentation says \"1-to-1\" correspondance for the point of phi and the 2-d point coordinate. "
   ]
  },
  {
   "cell_type": "code",
   "execution_count": 98,
   "id": "4056c290",
   "metadata": {},
   "outputs": [
    {
     "data": {
      "text/plain": [
       "[<matplotlib.lines.Line2D at 0x7f93c2e27a30>]"
      ]
     },
     "execution_count": 98,
     "metadata": {},
     "output_type": "execute_result"
    },
    {
     "data": {
      "image/png": "[encoded data removed]",
      "text/plain": [
       "<Figure size 432x288 with 1 Axes>"
      ]
     },
     "metadata": {
      "needs_background": "light"
     },
     "output_type": "display_data"
    }
   ],
   "source": [
    "plt.plot(R,hfield)\n",
    "plt.plot(R,Sfield-Sfield[-1])\n",
    "plt.plot(R,-phi1d+phi1d[-1])\n",
    "plt.plot(R,np.sqrt(hfield**2 + (Sfield-Sfield[-1])**2))"
   ]
  },
  {
   "cell_type": "code",
   "execution_count": 128,
   "id": "474817d8",
   "metadata": {},
   "outputs": [
    {
     "data": {
      "text/plain": [
       "(array([411.,  10.,   8.,   7.,   7.,   7.,   8.,   8.,  10.,  25.]),\n",
       " array([1.08075386e-11, 1.54496824e-05, 3.08993541e-05, 4.63490257e-05,\n",
       "        6.17986973e-05, 7.72483690e-05, 9.26980406e-05, 1.08147712e-04,\n",
       "        1.23597384e-04, 1.39047056e-04, 1.54496727e-04]),\n",
       " <BarContainer object of 10 artists>)"
      ]
     },
     "execution_count": 128,
     "metadata": {},
     "output_type": "execute_result"
    },
    {
     "data": {
      "image/png": "[encoded data removed]",
      "text/plain": [
       "<Figure size 432x288 with 1 Axes>"
      ]
     },
     "metadata": {
      "needs_background": "light"
     },
     "output_type": "display_data"
    }
   ],
   "source": [
    "# Check whether the path is along the valley\n",
    "Spathlist = m.A*(hfield**2 - 2*v*v + m.cs*m1d.Tn**2)/(2*m.muS2)\n",
    "plt.hist(abs((Spathlist - Sfield)/Sfield))"
   ]
  },
  {
   "cell_type": "markdown",
   "id": "1bdd4e26",
   "metadata": {},
   "source": [
    "The error is within 1/10000. So the path is basically along the valley."
   ]
  },
  {
   "cell_type": "code",
   "execution_count": 129,
   "id": "60f3de40",
   "metadata": {},
   "outputs": [],
   "source": [
    "output=np.array([R.tolist(),hfield.tolist(),Sfield.tolist()]).transpose().tolist()"
   ]
  },
  {
   "cell_type": "code",
   "execution_count": 130,
   "id": "ee2ee9c8",
   "metadata": {},
   "outputs": [],
   "source": [
    "import csv\n",
    "csv_file_path = \"./output/profile2d.csv\"\n",
    "with open(csv_file_path, \"w\") as f:\n",
    "    data_writer = csv.writer(f)\n",
    "    data_writer.writerows(output)"
   ]
  },
  {
   "cell_type": "code",
   "execution_count": 116,
   "id": "815c4e0c",
   "metadata": {},
   "outputs": [
    {
     "name": "stdout",
     "output_type": "stream",
     "text": [
      "Path deformation converged. 26 steps. fRatio = 6.79722e-03\n",
      "Path deformation converged. 19 steps. fRatio = 1.99184e-02\n",
      "Path deformation converged. 5 steps. fRatio = 1.88743e-02\n",
      "Path deformation converged. 1 steps. fRatio = 1.23982e-02\n",
      "Path deformation converged. 26 steps. fRatio = 6.70609e-03\n",
      "Path deformation converged. 19 steps. fRatio = 1.88230e-02\n",
      "Path deformation converged. 5 steps. fRatio = 1.84837e-02\n",
      "Path deformation converged. 1 steps. fRatio = 1.21421e-02\n",
      "Path deformation converged. 26 steps. fRatio = 6.52483e-03\n",
      "Path deformation converged. 19 steps. fRatio = 1.67639e-02\n",
      "Path deformation converged. 5 steps. fRatio = 1.77256e-02\n",
      "Path deformation converged. 1 steps. fRatio = 1.16004e-02\n",
      "Path deformation converged. 26 steps. fRatio = 6.43497e-03\n",
      "Path deformation converged. 17 steps. fRatio = 1.90933e-02\n",
      "Path deformation converged. 5 steps. fRatio = 1.60911e-02\n",
      "Path deformation converged. 1 steps. fRatio = 1.04976e-02\n"
     ]
    },
    {
     "data": {
      "text/plain": [
       "44440.04238790294"
      ]
     },
     "execution_count": 116,
     "metadata": {},
     "output_type": "execute_result"
    }
   ],
   "source": [
    "m.beta_over_H_at_Tn()"
   ]
  },
  {
   "cell_type": "code",
   "execution_count": 131,
   "id": "a665c511",
   "metadata": {},
   "outputs": [
    {
     "name": "stdout",
     "output_type": "stream",
     "text": [
      "Path deformation converged. 1 steps. fRatio = 5.02258e-14\n",
      "Path deformation converged. 1 steps. fRatio = 7.47043e-14\n",
      "Path deformation converged. 1 steps. fRatio = 7.34591e-14\n",
      "Path deformation converged. 1 steps. fRatio = 7.28568e-14\n"
     ]
    },
    {
     "data": {
      "text/plain": [
       "40440.79679299931"
      ]
     },
     "execution_count": 131,
     "metadata": {},
     "output_type": "execute_result"
    }
   ],
   "source": [
    "m1d.beta_over_H_at_Tn()"
   ]
  },
  {
   "cell_type": "code",
   "execution_count": null,
   "id": "8fad3fdc",
   "metadata": {},
   "outputs": [],
   "source": []
  }
 ],
 "metadata": {
  "interpreter": {
   "hash": "c4f6be21fc92d2a00f9ca51bcfc707caddf6cb807b3396ca594a2548e90cdcf4"
  },
  "kernelspec": {
   "display_name": "Python 3.9.7 ('base')",
   "language": "python",
   "name": "python3"
  },
  "language_info": {
   "codemirror_mode": {
    "name": "ipython",
    "version": 3
   },
   "file_extension": ".py",
   "mimetype": "text/x-python",
   "name": "python",
   "nbconvert_exporter": "python",
   "pygments_lexer": "ipython3",
   "version": "3.9.7"
  }
 },
 "nbformat": 4,
 "nbformat_minor": 5
}
