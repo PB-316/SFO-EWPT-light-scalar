{
 "cells": [
  {
   "cell_type": "code",
   "execution_count": 1,
   "id": "be9b41ea-0309-4b53-be79-920026ec5655",
   "metadata": {
    "tags": []
   },
   "outputs": [],
   "source": [
    "from scipy.optimize import fsolve\n",
    "import numpy as np"
   ]
  },
  {
   "cell_type": "code",
   "execution_count": 2,
   "id": "07c1c986-a659-43d3-b346-6e013c391b37",
   "metadata": {
    "tags": []
   },
   "outputs": [],
   "source": [
    "def equations(p):\n",
    "    x, y = p\n",
    "    return (x**2 - y, np.exp(x) - y**2)"
   ]
  },
  {
   "cell_type": "code",
   "execution_count": 3,
   "id": "98554a06-c296-4c97-a999-2f106b28a85b",
   "metadata": {
    "tags": []
   },
   "outputs": [],
   "source": [
    "sol=fsolve(equations,(10,10))"
   ]
  },
  {
   "cell_type": "code",
   "execution_count": 4,
   "id": "a64807ca-06a1-4c1e-9b47-06aae3fe517a",
   "metadata": {
    "tags": []
   },
   "outputs": [
    {
     "data": {
      "text/plain": [
       "(0.0, 4.2655301513150334e-10)"
      ]
     },
     "execution_count": 4,
     "metadata": {},
     "output_type": "execute_result"
    }
   ],
   "source": [
    "equations(sol)"
   ]
  },
  {
   "cell_type": "code",
   "execution_count": 5,
   "id": "fae4ce7e-c7aa-41b5-8efa-e7266d392573",
   "metadata": {
    "tags": []
   },
   "outputs": [
    {
     "data": {
      "text/plain": [
       "array([ 8.61316946, 74.18668809])"
      ]
     },
     "execution_count": 5,
     "metadata": {},
     "output_type": "execute_result"
    }
   ],
   "source": [
    "sol"
   ]
  },
  {
   "cell_type": "code",
   "execution_count": null,
   "id": "d4c5b08c-96fc-4bd1-a457-806ad7213c2f",
   "metadata": {},
   "outputs": [],
   "source": []
  }
 ],
 "metadata": {
  "kernelspec": {
   "display_name": "Python 3 (ipykernel)",
   "language": "python",
   "name": "python3"
  },
  "language_info": {
   "codemirror_mode": {
    "name": "ipython",
    "version": 3
   },
   "file_extension": ".py",
   "mimetype": "text/x-python",
   "name": "python",
   "nbconvert_exporter": "python",
   "pygments_lexer": "ipython3",
   "version": "3.9.10"
  }
 },
 "nbformat": 4,
 "nbformat_minor": 5
}
