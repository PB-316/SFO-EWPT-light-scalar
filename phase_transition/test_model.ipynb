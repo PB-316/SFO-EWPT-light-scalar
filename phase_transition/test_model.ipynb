{
 "cells": [
  {
   "cell_type": "markdown",
   "id": "e82215ec",
   "metadata": {},
   "source": [
    "# Test Phase Transition at Finite Temperature for Different Benchmark Points"
   ]
  },
  {
   "cell_type": "code",
   "execution_count": 1,
   "id": "7c7063fe-d1fb-4310-9d5e-dff9b86ac7b8",
   "metadata": {},
   "outputs": [],
   "source": [
    "import numpy as np\n",
    "from cosmoTransitions import generic_potential as gp\n",
    "from cosmoTransitions.finiteT import Jb_spline as Jb\n",
    "from cosmoTransitions.finiteT import Jf_spline as Jf"
   ]
  },
  {
   "cell_type": "markdown",
   "id": "bfbd30b9",
   "metadata": {},
   "source": [
    "## Constants\n",
    "- $m_H$ = 125. GeV\n",
    "- $v_{EW}$ = 246. GeV"
   ]
  },
  {
   "cell_type": "code",
   "execution_count": 2,
   "id": "4814acbb",
   "metadata": {},
   "outputs": [],
   "source": [
    "v=246.\n",
    "mHSM = 125."
   ]
  },
  {
   "cell_type": "markdown",
   "id": "1a800b9a",
   "metadata": {},
   "source": [
    "## Define effective potential"
   ]
  },
  {
   "cell_type": "code",
   "execution_count": 10,
   "id": "43ca1025",
   "metadata": {},
   "outputs": [],
   "source": [
    "class model(gp.generic_potential):\n",
    "    def init(self, lm,A,muH,muS):\n",
    "        self.Ndim = 2\n",
    "        self.Tmax = 200 \n",
    "        self.renormScaleSq = 150.**2\n",
    "        self.lm = lm\n",
    "        self.A = A\n",
    "        self.muH = muH\n",
    "        self.muS = muS\n",
    "        self.g = 0.65\n",
    "        self.gY = 0.36\n",
    "        self.yt = 0.9945\n",
    "        self.D = (3*self.g**2 + self.gY**2 + 4*self.yt**2)/16.\n",
    "        self.E = (2*self.g**3+(self.g**2 + self.gY**2)**(3/2))/(48*np.pi)\n",
    "        self.cs = 1./3\n",
    "\n",
    "    def Vtot(self, X, T, include_radiation=True):\n",
    "        T = np.asanyarray(T, dtype=float)\n",
    "        X = np.asanyarray(X, dtype=float)\n",
    "        T2 = (T*T)+1e-100\n",
    "        phi1 = X[...,0]\n",
    "        phi2 = X[...,1]\n",
    "        y = self.D * T2 * phi1**2 - 0.5*self.muH**2 * phi1**2 - self.E * T * phi1**3\n",
    "        y += 0.25 * self.lm * phi1**4\n",
    "        y += 0.5 * self.muS**2 * phi2**2 - 0.5 * self.A*(phi1**2 + self.cs * T2) * phi2\n",
    "        return y\n",
    "\n",
    "\n"
   ]
  },
  {
   "cell_type": "code",
   "execution_count": 11,
   "id": "e1b08370",
   "metadata": {},
   "outputs": [],
   "source": [
    "m=model(0.125409,10.6302,20.2608,21.8353)"
   ]
  },
  {
   "cell_type": "code",
   "execution_count": 6,
   "id": "6d2e86d5",
   "metadata": {},
   "outputs": [
    {
     "data": {
      "text/plain": [
       "array([243.83045768, 662.77941883])"
      ]
     },
     "execution_count": 6,
     "metadata": {},
     "output_type": "execute_result"
    }
   ],
   "source": [
    "m.findMinimum(T=0.)"
   ]
  },
  {
   "cell_type": "code",
   "execution_count": 15,
   "id": "f9a62d8d",
   "metadata": {},
   "outputs": [
    {
     "data": {
      "text/plain": [
       "array([46.33362169, 26.4020678 ])"
      ]
     },
     "execution_count": 15,
     "metadata": {},
     "output_type": "execute_result"
    }
   ],
   "source": [
    "m.findMinimum(T=25.7802)"
   ]
  }
 ],
 "metadata": {
  "interpreter": {
   "hash": "c4f6be21fc92d2a00f9ca51bcfc707caddf6cb807b3396ca594a2548e90cdcf4"
  },
  "kernelspec": {
   "display_name": "Python 3.9.7 ('base')",
   "language": "python",
   "name": "python3"
  },
  "language_info": {
   "codemirror_mode": {
    "name": "ipython",
    "version": 3
   },
   "file_extension": ".py",
   "mimetype": "text/x-python",
   "name": "python",
   "nbconvert_exporter": "python",
   "pygments_lexer": "ipython3",
   "version": "3.9.7"
  }
 },
 "nbformat": 4,
 "nbformat_minor": 5
}
