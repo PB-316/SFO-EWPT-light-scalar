{
 "cells": [
  {
   "cell_type": "code",
   "execution_count": 1,
   "metadata": {},
   "outputs": [],
   "source": [
    "import numpy as np\n",
    "from scipy import optimize\n",
    "from cosmoTransitions import generic_potential as gp\n",
    "from cosmoTransitions import pathDeformation as pd"
   ]
  },
  {
   "cell_type": "code",
   "execution_count": 2,
   "metadata": {},
   "outputs": [],
   "source": [
    "GF = 1.16637e-05\n",
    "v = 1/(np.sqrt(2*np.sqrt(2)*GF))\n",
    "mHSM = 125.13"
   ]
  },
  {
   "cell_type": "code",
   "execution_count": 3,
   "metadata": {},
   "outputs": [],
   "source": [
    "def muH2(mS, sintheta):\n",
    "    \"\"\"\\mu_H square\"\"\"\n",
    "    return 0.5*(mHSM**2 * (1-sintheta**2) + mS**2 * sintheta**2)\n",
    "\n",
    "def muS2(mS, sintheta):\n",
    "    \"\"\"\\mu_S square\"\"\"\n",
    "    return sintheta**2 * mHSM**2 + (1 - sintheta**2) * mS**2\n",
    "\n",
    "def A(mS, sintheta):\n",
    "    \"\"\"A parameter\"\"\"\n",
    "    nominator = (mHSM**2 - mS**2) * sintheta * np.sqrt(1-sintheta**2)\n",
    "    denominator = np.sqrt(2) * v\n",
    "    return nominator/denominator\n",
    "\n",
    "def lm(mS, sintheta):\n",
    "    \"\"\"\\lambda parameter\"\"\"\n",
    "    nominator = (1 - sintheta**2)*mHSM**2 + sintheta**2 * mS**2\n",
    "    return nominator/(4*v**2)"
   ]
  },
  {
   "cell_type": "code",
   "execution_count": 152,
   "metadata": {},
   "outputs": [],
   "source": [
    "class model(gp.generic_potential):\n",
    "    def init(self, mS, sintheta):\n",
    "        self.Ndim = 2\n",
    "        self.Tmax = 100\n",
    "        self.mS = mS\n",
    "        self.sintheta = sintheta\n",
    "        self.lm = lm(self.mS, self.sintheta)\n",
    "        self.A = A(self.mS,self.sintheta)\n",
    "        self.muH2 = muH2(self.mS,self.sintheta)\n",
    "        self.muS2 = muS2(self.mS,self.sintheta)\n",
    "        self.g = 0.65\n",
    "        self.gY = 0.36\n",
    "        self.yt = 0.9945\n",
    "        self.D = (3*self.g**2 + self.gY**2 + 4*self.yt**2)/16.\n",
    "        self.E = (2*self.g**3+(self.g**2 + self.gY**2)**(3/2))/(48*np.pi)\n",
    "        self.cs = 1./3\n",
    "        self.Deff = self.D - self.cs * self.A**2/(4.*self.muS2)\n",
    "        self.lmeff = self.lm - self.A**2/(2*self.muS2)\n",
    "        self.T0 = np.sqrt(0.5*self.muH2 - v**2 * self.A**2 /(2*self.muS2))/np.sqrt(self.D - self.cs*self.A**2/(4*self.muS2))\n",
    "        self.Tc = self.T0*np.sqrt((self.Deff * self.lmeff)/(-self.E**2 + self.Deff*self.lmeff))\n",
    "        self.strength = 2*self.E/self.lmeff\n",
    "        self.Tn = False\n",
    "        self.non_restore_trigger = self.Deff * self.lmeff - self.E**2\n",
    "\n",
    "\n",
    "    def Vtot(self, X, T, include_radiation=True):\n",
    "        T = np.asanyarray(T, dtype=float)\n",
    "        X = np.asanyarray(X, dtype=float)\n",
    "        T2 = (T*T)+1e-100\n",
    "        phi1 = X[...,0]\n",
    "        phi2 = X[...,1]\n",
    "        y = self.D * T2 * phi1**2 - 0.5 * self.muH2 * phi1**2\n",
    "        y += - self.E * T * phi1**3\n",
    "        y += 0.25 * self.lm * phi1**4\n",
    "        y += 0.5*self.muS2*phi2**2 - 0.5 * self.A * (phi1**2 + self.cs * T2 - 2 * v**2)*phi2\n",
    "\n",
    "        return y\n",
    "\n",
    "    def truevev(self,T):\n",
    "        assert T < self.Tc\n",
    "        nominator = 3.* T * self.E + np.sqrt(9.*self.E**2 * T**2 + 8.*self.Deff * (self.T0**2 - T**2)*self.lmeff)\n",
    "        denominator = 2.*self.lmeff\n",
    "        return nominator/denominator\n",
    "\n",
    "    def Spath(self, X, T):\n",
    "        X = np.asanyarray(X)\n",
    "        T = np.asanyarray(T)\n",
    "        phi1 = X[...,0]\n",
    "        T2 = (T*T) + 1e-100\n",
    "        return 0.5*self.A*(phi1**2 + self.cs * T2 - 2 * v**2)/self.muS2\n",
    "\n",
    "    def tunneling_at_T(self, T):\n",
    "        assert T < self.Tc\n",
    "        def V_(x, T=T, V=self.Vtot):\n",
    "            return V(x,T)\n",
    "        def dV_(x, T=T, dV=self.gradV):\n",
    "            return dV(x,T)\n",
    "        # tobj = pd.fullTunneling([self.findMinimum(T=T),[1e-10,self.Spath([1e-10],T)]],V_,dV_)\n",
    "        tobj = pd.fullTunneling([[self.truevev(T=T),self.Spath([self.truevev(T=T)],T)],[1e-10,self.Spath([1e-10],T)]],V_,dV_)\n",
    "        return tobj\n",
    "\n",
    "    def findTn(self):\n",
    "        if self.strength >= 12:\n",
    "            Tmax = 0.95*self.Tc\n",
    "        elif self.strength >= 4:\n",
    "            Tmax = 0.99*self.Tc\n",
    "        else:\n",
    "            Tmax = self.Tc\n",
    "        print(Tmax)\n",
    "        eps = 0.005\n",
    "        def nuclea_trigger(Tv):\n",
    "            ST = self.tunneling_at_T(T=Tv).action/Tv\n",
    "            return ST - 140.\n",
    "        for i in range(1,1000):\n",
    "            if nuclea_trigger(Tmax - i*eps) <= 0.:\n",
    "                break\n",
    "        Tmin = Tmax - (i-1)*eps\n",
    "        print(Tmin)\n",
    "        self.Tn = optimize.brentq(nuclea_trigger,Tmin-1e-10, Tmin-eps,disp=False)\n",
    "\n",
    "    def strength_Tn(self):\n",
    "        if not self.Tn:\n",
    "            self.findTn()\n",
    "        Tnuc = self.Tn\n",
    "        return self.truevev(T=Tnuc)/Tnuc\n",
    "\n",
    "    def beta_over_H_at_Tn(self):\n",
    "        \"Ridders algorithm\"\n",
    "        if not self.Tn:\n",
    "            self.findTn()\n",
    "        Tnuc = self.Tn\n",
    "        if self.Tc-Tnuc >=0.002: eps = 0.001\n",
    "        else: eps=0.99*(self.Tc-Tnuc)/2\n",
    "        def SoverT(Tv):\n",
    "            ST = self.tunneling_at_T(T=Tv).action/Tv\n",
    "            return ST\n",
    "        dev = (SoverT(Tnuc-2.*eps) - 8.*SoverT(Tnuc-eps) + 8.*SoverT(Tnuc+eps)- SoverT(Tnuc+2.*eps))/(12.*eps)\n",
    "        return dev*Tnuc\n",
    "\n",
    "    def alpha(self):\n",
    "        if not self.Tn:\n",
    "            self.findTn()\n",
    "        Tnuc = self.Tn\n",
    "        if self.Tc-Tnuc >=0.002: eps = 0.001\n",
    "        else: eps=0.99*(self.Tc-Tnuc)/2\n",
    "        def deltaV(T):\n",
    "            falsev=[0,self.Spath([0],T)]\n",
    "            truev=self.findMinimum(T=T)\n",
    "            return self.Vtot(falsev,T)-self.Vtot(truev,T)\n",
    "        dev = (deltaV(Tnuc-2*eps) - 8.*deltaV(Tnuc-eps) + 8.*deltaV(Tnuc+eps) - deltaV(Tnuc+2.*eps))/(12.*eps) # derivative of deltaV w.r.t T at Tn\n",
    "        latent=deltaV(Tnuc) - 0.25*Tnuc*dev\n",
    "        rho_crit = np.pi**2*106.75*Tnuc**4/30.\n",
    "        return latent/rho_crit"
   ]
  },
  {
   "cell_type": "code",
   "execution_count": 153,
   "metadata": {},
   "outputs": [],
   "source": [
    "m=model(12,0.02)"
   ]
  },
  {
   "cell_type": "code",
   "execution_count": 149,
   "metadata": {},
   "outputs": [
    {
     "data": {
      "text/plain": [
       "106.09807875787067"
      ]
     },
     "execution_count": 149,
     "metadata": {},
     "output_type": "execute_result"
    }
   ],
   "source": [
    "m.Tc"
   ]
  },
  {
   "cell_type": "code",
   "execution_count": 154,
   "metadata": {},
   "outputs": [
    {
     "name": "stdout",
     "output_type": "stream",
     "text": [
      "106.09807875787067\n",
      "Path deformation converged. 10 steps. fRatio = 2.25868e-03\n",
      "Path deformation converged. 1 steps. fRatio = 1.11427e-03\n",
      "106.09807875787067\n",
      "Path deformation converged. 9 steps. fRatio = 1.54226e-03\n",
      "Path deformation converged. 1 steps. fRatio = 1.81702e-03\n"
     ]
    },
    {
     "name": "stderr",
     "output_type": "stream",
     "text": [
      "/Users/isaac/opt/anaconda3/lib/python3.9/site-packages/cosmoTransitions/tunneling1D.py:415: RuntimeWarning: overflow encountered in double_scalars\n",
      "  r *= 10\n",
      "/Users/isaac/opt/anaconda3/lib/python3.9/site-packages/cosmoTransitions/tunneling1D.py:415: RuntimeWarning: overflow encountered in double_scalars\n",
      "  r *= 10\n"
     ]
    },
    {
     "name": "stdout",
     "output_type": "stream",
     "text": [
      "Path deformation converged. 10 steps. fRatio = 2.25868e-03\n",
      "Path deformation converged. 1 steps. fRatio = 1.11427e-03\n",
      "Path deformation converged. 10 steps. fRatio = 2.23217e-03\n",
      "Path deformation converged. 1 steps. fRatio = 1.12056e-03\n",
      "Path deformation converged. 13 steps. fRatio = 1.04448e-02\n",
      "Path deformation converged. 1 steps. fRatio = 4.63569e-03\n",
      "Path deformation converged. 9 steps. fRatio = 1.73306e-02\n",
      "Path deformation converged. 1 steps. fRatio = 2.52908e-03\n",
      "Path deformation converged. 12 steps. fRatio = 1.58565e-02\n",
      "Path deformation converged. 1 steps. fRatio = 9.62282e-03\n",
      "Path deformation converged. 11 steps. fRatio = 1.85191e-02\n",
      "Path deformation converged. 1 steps. fRatio = 1.38763e-02\n",
      "Path deformation converged. 12 steps. fRatio = 1.29065e-02\n",
      "Path deformation converged. 1 steps. fRatio = 8.03604e-03\n",
      "Path deformation converged. 11 steps. fRatio = 1.97955e-02\n",
      "Path deformation converged. 1 steps. fRatio = 1.47496e-02\n",
      "Path deformation converged. 11 steps. fRatio = 1.97721e-02\n",
      "Path deformation converged. 1 steps. fRatio = 1.47334e-02\n",
      "Path deformation converged. 11 steps. fRatio = 1.97718e-02\n",
      "Path deformation converged. 1 steps. fRatio = 1.47332e-02\n",
      "Path deformation converged. 11 steps. fRatio = 1.97721e-02\n",
      "Path deformation converged. 1 steps. fRatio = 1.47334e-02\n",
      "Path deformation converged. 11 steps. fRatio = 1.97721e-02\n",
      "Path deformation converged. 1 steps. fRatio = 1.47333e-02\n",
      "Path deformation converged. 11 steps. fRatio = 1.97719e-02\n",
      "Path deformation converged. 1 steps. fRatio = 1.47333e-02\n",
      "Path deformation converged. 11 steps. fRatio = 1.97721e-02\n",
      "Path deformation converged. 1 steps. fRatio = 1.47334e-02\n",
      "Path deformation converged. 11 steps. fRatio = 1.97719e-02\n",
      "Path deformation converged. 1 steps. fRatio = 1.47333e-02\n",
      "Path deformation converged. 11 steps. fRatio = 1.97721e-02\n",
      "Path deformation converged. 1 steps. fRatio = 1.47334e-02\n"
     ]
    }
   ],
   "source": [
    "m.findTn()"
   ]
  },
  {
   "cell_type": "code",
   "execution_count": 151,
   "metadata": {},
   "outputs": [
    {
     "data": {
      "text/plain": [
       "0.10604169746858608"
      ]
     },
     "execution_count": 151,
     "metadata": {},
     "output_type": "execute_result"
    }
   ],
   "source": [
    "m.strength_Tn()"
   ]
  },
  {
   "cell_type": "code",
   "execution_count": null,
   "metadata": {},
   "outputs": [],
   "source": []
  }
 ],
 "metadata": {
  "interpreter": {
   "hash": "c4f6be21fc92d2a00f9ca51bcfc707caddf6cb807b3396ca594a2548e90cdcf4"
  },
  "kernelspec": {
   "display_name": "Python 3.9.7 ('base')",
   "language": "python",
   "name": "python3"
  },
  "language_info": {
   "codemirror_mode": {
    "name": "ipython",
    "version": 3
   },
   "file_extension": ".py",
   "mimetype": "text/x-python",
   "name": "python",
   "nbconvert_exporter": "python",
   "pygments_lexer": "ipython3",
   "version": "3.9.7"
  },
  "orig_nbformat": 4
 },
 "nbformat": 4,
 "nbformat_minor": 2
}
